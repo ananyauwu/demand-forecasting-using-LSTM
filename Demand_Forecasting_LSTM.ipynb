{
  "cells": [
    {
      "cell_type": "code",
      "source": [
        "import numpy as np\n",
        "import pandas as pd\n",
        "pd.options.display.max_columns = 12\n",
        "pd.options.display.max_rows = 24"
      ],
      "metadata": {
        "id": "Y6QdUtG8ZOf7"
      },
      "execution_count": null,
      "outputs": []
    },
    {
      "cell_type": "code",
      "source": [
        "import os\n",
        "import warnings\n",
        "import pandas_datareader as web\n",
        "import datetime as dt"
      ],
      "metadata": {
        "id": "QMScG2WlfOLI"
      },
      "execution_count": null,
      "outputs": []
    },
    {
      "cell_type": "code",
      "source": [
        "from keras.models import Sequential\n",
        "from keras.layers import LSTM, Dense, Dropout, RepeatVector, TimeDistributed\n",
        "from sklearn.preprocessing import MinMaxScaler\n",
        "from sklearn.metrics import mean_squared_error\n",
        "from sklearn.model_selection import train_test_split\n",
        "from tensorflow.keras.callbacks import ModelCheckpoint, EarlyStopping"
      ],
      "metadata": {
        "id": "r46tb69bd0XD"
      },
      "execution_count": null,
      "outputs": []
    },
    {
      "cell_type": "code",
      "source": [
        "%matplotlib inline\n",
        "warnings.filterwarnings(\"ignore\")\n",
        "init_notebook_mode(connected=True)"
      ],
      "metadata": {
        "colab": {
          "base_uri": "https://localhost:8080/",
          "height": 17
        },
        "id": "VtJIoIiFZllk",
        "outputId": "92b64ea8-4067-4e5f-dbc5-6bd7cf69f5a6"
      },
      "execution_count": null,
      "outputs": [
        {
          "output_type": "display_data",
          "data": {
            "text/html": [
              "        <script type=\"text/javascript\">\n",
              "        window.PlotlyConfig = {MathJaxConfig: 'local'};\n",
              "        if (window.MathJax && window.MathJax.Hub && window.MathJax.Hub.Config) {window.MathJax.Hub.Config({SVG: {font: \"STIX-Web\"}});}\n",
              "        if (typeof require !== 'undefined') {\n",
              "        require.undef(\"plotly\");\n",
              "        requirejs.config({\n",
              "            paths: {\n",
              "                'plotly': ['https://cdn.plot.ly/plotly-2.24.1.min']\n",
              "            }\n",
              "        });\n",
              "        require(['plotly'], function(Plotly) {\n",
              "            window._Plotly = Plotly;\n",
              "        });\n",
              "        }\n",
              "        </script>\n",
              "        "
            ]
          },
          "metadata": {}
        }
      ]
    },
    {
      "cell_type": "code",
      "source": [
        "import matplotlib.pyplot as plt\n",
        "import matplotlib.dates as dates\n",
        "import plotly.express as px\n",
        "import plotly.graph_objects as go\n",
        "from plotly.subplots import make_subplots\n",
        "from plotly.offline import init_notebook_mode, iplot"
      ],
      "metadata": {
        "id": "SU24zhNSduta"
      },
      "execution_count": null,
      "outputs": []
    },
    {
      "cell_type": "code",
      "source": [
        "import seaborn as sns\n",
        "sns.set()"
      ],
      "metadata": {
        "id": "3X0HHmW1aUHO"
      },
      "execution_count": null,
      "outputs": []
    },
    {
      "cell_type": "code",
      "execution_count": null,
      "metadata": {
        "id": "4YLvlWV_DXFB"
      },
      "outputs": [],
      "source": [
        "train = pd.read_csv(\"train.csv\")\n",
        "test = pd.read_csv(\"test.csv\")"
      ]
    },
    {
      "cell_type": "markdown",
      "source": [
        "data preprocessing"
      ],
      "metadata": {
        "id": "oSTSDGzJgbR1"
      }
    },
    {
      "cell_type": "code",
      "execution_count": null,
      "metadata": {
        "colab": {
          "base_uri": "https://localhost:8080/",
          "height": 206
        },
        "id": "ZI6yKimVGhz2",
        "outputId": "adfc45b2-ef2b-4c2f-faf8-de0c88b86318"
      },
      "outputs": [
        {
          "output_type": "execute_result",
          "data": {
            "text/plain": [
              "         date  store  item  sales\n",
              "0  2013-01-01      1     1     13\n",
              "1  2013-01-02      1     1     11\n",
              "2  2013-01-03      1     1     14\n",
              "3  2013-01-04      1     1     13\n",
              "4  2013-01-05      1     1     10"
            ],
            "text/html": [
              "\n",
              "  <div id=\"df-17401328-0095-4ad7-9482-4878d528e979\" class=\"colab-df-container\">\n",
              "    <div>\n",
              "<style scoped>\n",
              "    .dataframe tbody tr th:only-of-type {\n",
              "        vertical-align: middle;\n",
              "    }\n",
              "\n",
              "    .dataframe tbody tr th {\n",
              "        vertical-align: top;\n",
              "    }\n",
              "\n",
              "    .dataframe thead th {\n",
              "        text-align: right;\n",
              "    }\n",
              "</style>\n",
              "<table border=\"1\" class=\"dataframe\">\n",
              "  <thead>\n",
              "    <tr style=\"text-align: right;\">\n",
              "      <th></th>\n",
              "      <th>date</th>\n",
              "      <th>store</th>\n",
              "      <th>item</th>\n",
              "      <th>sales</th>\n",
              "    </tr>\n",
              "  </thead>\n",
              "  <tbody>\n",
              "    <tr>\n",
              "      <th>0</th>\n",
              "      <td>2013-01-01</td>\n",
              "      <td>1</td>\n",
              "      <td>1</td>\n",
              "      <td>13</td>\n",
              "    </tr>\n",
              "    <tr>\n",
              "      <th>1</th>\n",
              "      <td>2013-01-02</td>\n",
              "      <td>1</td>\n",
              "      <td>1</td>\n",
              "      <td>11</td>\n",
              "    </tr>\n",
              "    <tr>\n",
              "      <th>2</th>\n",
              "      <td>2013-01-03</td>\n",
              "      <td>1</td>\n",
              "      <td>1</td>\n",
              "      <td>14</td>\n",
              "    </tr>\n",
              "    <tr>\n",
              "      <th>3</th>\n",
              "      <td>2013-01-04</td>\n",
              "      <td>1</td>\n",
              "      <td>1</td>\n",
              "      <td>13</td>\n",
              "    </tr>\n",
              "    <tr>\n",
              "      <th>4</th>\n",
              "      <td>2013-01-05</td>\n",
              "      <td>1</td>\n",
              "      <td>1</td>\n",
              "      <td>10</td>\n",
              "    </tr>\n",
              "  </tbody>\n",
              "</table>\n",
              "</div>\n",
              "    <div class=\"colab-df-buttons\">\n",
              "\n",
              "  <div class=\"colab-df-container\">\n",
              "    <button class=\"colab-df-convert\" onclick=\"convertToInteractive('df-17401328-0095-4ad7-9482-4878d528e979')\"\n",
              "            title=\"Convert this dataframe to an interactive table.\"\n",
              "            style=\"display:none;\">\n",
              "\n",
              "  <svg xmlns=\"http://www.w3.org/2000/svg\" height=\"24px\" viewBox=\"0 -960 960 960\">\n",
              "    <path d=\"M120-120v-720h720v720H120Zm60-500h600v-160H180v160Zm220 220h160v-160H400v160Zm0 220h160v-160H400v160ZM180-400h160v-160H180v160Zm440 0h160v-160H620v160ZM180-180h160v-160H180v160Zm440 0h160v-160H620v160Z\"/>\n",
              "  </svg>\n",
              "    </button>\n",
              "\n",
              "  <style>\n",
              "    .colab-df-container {\n",
              "      display:flex;\n",
              "      gap: 12px;\n",
              "    }\n",
              "\n",
              "    .colab-df-convert {\n",
              "      background-color: #E8F0FE;\n",
              "      border: none;\n",
              "      border-radius: 50%;\n",
              "      cursor: pointer;\n",
              "      display: none;\n",
              "      fill: #1967D2;\n",
              "      height: 32px;\n",
              "      padding: 0 0 0 0;\n",
              "      width: 32px;\n",
              "    }\n",
              "\n",
              "    .colab-df-convert:hover {\n",
              "      background-color: #E2EBFA;\n",
              "      box-shadow: 0px 1px 2px rgba(60, 64, 67, 0.3), 0px 1px 3px 1px rgba(60, 64, 67, 0.15);\n",
              "      fill: #174EA6;\n",
              "    }\n",
              "\n",
              "    .colab-df-buttons div {\n",
              "      margin-bottom: 4px;\n",
              "    }\n",
              "\n",
              "    [theme=dark] .colab-df-convert {\n",
              "      background-color: #3B4455;\n",
              "      fill: #D2E3FC;\n",
              "    }\n",
              "\n",
              "    [theme=dark] .colab-df-convert:hover {\n",
              "      background-color: #434B5C;\n",
              "      box-shadow: 0px 1px 3px 1px rgba(0, 0, 0, 0.15);\n",
              "      filter: drop-shadow(0px 1px 2px rgba(0, 0, 0, 0.3));\n",
              "      fill: #FFFFFF;\n",
              "    }\n",
              "  </style>\n",
              "\n",
              "    <script>\n",
              "      const buttonEl =\n",
              "        document.querySelector('#df-17401328-0095-4ad7-9482-4878d528e979 button.colab-df-convert');\n",
              "      buttonEl.style.display =\n",
              "        google.colab.kernel.accessAllowed ? 'block' : 'none';\n",
              "\n",
              "      async function convertToInteractive(key) {\n",
              "        const element = document.querySelector('#df-17401328-0095-4ad7-9482-4878d528e979');\n",
              "        const dataTable =\n",
              "          await google.colab.kernel.invokeFunction('convertToInteractive',\n",
              "                                                    [key], {});\n",
              "        if (!dataTable) return;\n",
              "\n",
              "        const docLinkHtml = 'Like what you see? Visit the ' +\n",
              "          '<a target=\"_blank\" href=https://colab.research.google.com/notebooks/data_table.ipynb>data table notebook</a>'\n",
              "          + ' to learn more about interactive tables.';\n",
              "        element.innerHTML = '';\n",
              "        dataTable['output_type'] = 'display_data';\n",
              "        await google.colab.output.renderOutput(dataTable, element);\n",
              "        const docLink = document.createElement('div');\n",
              "        docLink.innerHTML = docLinkHtml;\n",
              "        element.appendChild(docLink);\n",
              "      }\n",
              "    </script>\n",
              "  </div>\n",
              "\n",
              "\n",
              "<div id=\"df-3d71c2c0-f1f9-4fab-bcd2-71b5ab71e493\">\n",
              "  <button class=\"colab-df-quickchart\" onclick=\"quickchart('df-3d71c2c0-f1f9-4fab-bcd2-71b5ab71e493')\"\n",
              "            title=\"Suggest charts.\"\n",
              "            style=\"display:none;\">\n",
              "\n",
              "<svg xmlns=\"http://www.w3.org/2000/svg\" height=\"24px\"viewBox=\"0 0 24 24\"\n",
              "     width=\"24px\">\n",
              "    <g>\n",
              "        <path d=\"M19 3H5c-1.1 0-2 .9-2 2v14c0 1.1.9 2 2 2h14c1.1 0 2-.9 2-2V5c0-1.1-.9-2-2-2zM9 17H7v-7h2v7zm4 0h-2V7h2v10zm4 0h-2v-4h2v4z\"/>\n",
              "    </g>\n",
              "</svg>\n",
              "  </button>\n",
              "\n",
              "<style>\n",
              "  .colab-df-quickchart {\n",
              "      --bg-color: #E8F0FE;\n",
              "      --fill-color: #1967D2;\n",
              "      --hover-bg-color: #E2EBFA;\n",
              "      --hover-fill-color: #174EA6;\n",
              "      --disabled-fill-color: #AAA;\n",
              "      --disabled-bg-color: #DDD;\n",
              "  }\n",
              "\n",
              "  [theme=dark] .colab-df-quickchart {\n",
              "      --bg-color: #3B4455;\n",
              "      --fill-color: #D2E3FC;\n",
              "      --hover-bg-color: #434B5C;\n",
              "      --hover-fill-color: #FFFFFF;\n",
              "      --disabled-bg-color: #3B4455;\n",
              "      --disabled-fill-color: #666;\n",
              "  }\n",
              "\n",
              "  .colab-df-quickchart {\n",
              "    background-color: var(--bg-color);\n",
              "    border: none;\n",
              "    border-radius: 50%;\n",
              "    cursor: pointer;\n",
              "    display: none;\n",
              "    fill: var(--fill-color);\n",
              "    height: 32px;\n",
              "    padding: 0;\n",
              "    width: 32px;\n",
              "  }\n",
              "\n",
              "  .colab-df-quickchart:hover {\n",
              "    background-color: var(--hover-bg-color);\n",
              "    box-shadow: 0 1px 2px rgba(60, 64, 67, 0.3), 0 1px 3px 1px rgba(60, 64, 67, 0.15);\n",
              "    fill: var(--button-hover-fill-color);\n",
              "  }\n",
              "\n",
              "  .colab-df-quickchart-complete:disabled,\n",
              "  .colab-df-quickchart-complete:disabled:hover {\n",
              "    background-color: var(--disabled-bg-color);\n",
              "    fill: var(--disabled-fill-color);\n",
              "    box-shadow: none;\n",
              "  }\n",
              "\n",
              "  .colab-df-spinner {\n",
              "    border: 2px solid var(--fill-color);\n",
              "    border-color: transparent;\n",
              "    border-bottom-color: var(--fill-color);\n",
              "    animation:\n",
              "      spin 1s steps(1) infinite;\n",
              "  }\n",
              "\n",
              "  @keyframes spin {\n",
              "    0% {\n",
              "      border-color: transparent;\n",
              "      border-bottom-color: var(--fill-color);\n",
              "      border-left-color: var(--fill-color);\n",
              "    }\n",
              "    20% {\n",
              "      border-color: transparent;\n",
              "      border-left-color: var(--fill-color);\n",
              "      border-top-color: var(--fill-color);\n",
              "    }\n",
              "    30% {\n",
              "      border-color: transparent;\n",
              "      border-left-color: var(--fill-color);\n",
              "      border-top-color: var(--fill-color);\n",
              "      border-right-color: var(--fill-color);\n",
              "    }\n",
              "    40% {\n",
              "      border-color: transparent;\n",
              "      border-right-color: var(--fill-color);\n",
              "      border-top-color: var(--fill-color);\n",
              "    }\n",
              "    60% {\n",
              "      border-color: transparent;\n",
              "      border-right-color: var(--fill-color);\n",
              "    }\n",
              "    80% {\n",
              "      border-color: transparent;\n",
              "      border-right-color: var(--fill-color);\n",
              "      border-bottom-color: var(--fill-color);\n",
              "    }\n",
              "    90% {\n",
              "      border-color: transparent;\n",
              "      border-bottom-color: var(--fill-color);\n",
              "    }\n",
              "  }\n",
              "</style>\n",
              "\n",
              "  <script>\n",
              "    async function quickchart(key) {\n",
              "      const quickchartButtonEl =\n",
              "        document.querySelector('#' + key + ' button');\n",
              "      quickchartButtonEl.disabled = true;  // To prevent multiple clicks.\n",
              "      quickchartButtonEl.classList.add('colab-df-spinner');\n",
              "      try {\n",
              "        const charts = await google.colab.kernel.invokeFunction(\n",
              "            'suggestCharts', [key], {});\n",
              "      } catch (error) {\n",
              "        console.error('Error during call to suggestCharts:', error);\n",
              "      }\n",
              "      quickchartButtonEl.classList.remove('colab-df-spinner');\n",
              "      quickchartButtonEl.classList.add('colab-df-quickchart-complete');\n",
              "    }\n",
              "    (() => {\n",
              "      let quickchartButtonEl =\n",
              "        document.querySelector('#df-3d71c2c0-f1f9-4fab-bcd2-71b5ab71e493 button');\n",
              "      quickchartButtonEl.style.display =\n",
              "        google.colab.kernel.accessAllowed ? 'block' : 'none';\n",
              "    })();\n",
              "  </script>\n",
              "</div>\n",
              "    </div>\n",
              "  </div>\n"
            ]
          },
          "metadata": {},
          "execution_count": 182
        }
      ],
      "source": [
        "train.head()"
      ]
    },
    {
      "cell_type": "code",
      "execution_count": null,
      "metadata": {
        "colab": {
          "base_uri": "https://localhost:8080/",
          "height": 206
        },
        "id": "DnIzDQCBGmiQ",
        "outputId": "290b7299-6617-4d5f-8951-a9e3addbc02a"
      },
      "outputs": [
        {
          "output_type": "execute_result",
          "data": {
            "text/plain": [
              "   id        date  store  item\n",
              "0   0  2018-01-01      1     1\n",
              "1   1  2018-01-02      1     1\n",
              "2   2  2018-01-03      1     1\n",
              "3   3  2018-01-04      1     1\n",
              "4   4  2018-01-05      1     1"
            ],
            "text/html": [
              "\n",
              "  <div id=\"df-aaf8811c-253d-4ba8-838f-be8493308d43\" class=\"colab-df-container\">\n",
              "    <div>\n",
              "<style scoped>\n",
              "    .dataframe tbody tr th:only-of-type {\n",
              "        vertical-align: middle;\n",
              "    }\n",
              "\n",
              "    .dataframe tbody tr th {\n",
              "        vertical-align: top;\n",
              "    }\n",
              "\n",
              "    .dataframe thead th {\n",
              "        text-align: right;\n",
              "    }\n",
              "</style>\n",
              "<table border=\"1\" class=\"dataframe\">\n",
              "  <thead>\n",
              "    <tr style=\"text-align: right;\">\n",
              "      <th></th>\n",
              "      <th>id</th>\n",
              "      <th>date</th>\n",
              "      <th>store</th>\n",
              "      <th>item</th>\n",
              "    </tr>\n",
              "  </thead>\n",
              "  <tbody>\n",
              "    <tr>\n",
              "      <th>0</th>\n",
              "      <td>0</td>\n",
              "      <td>2018-01-01</td>\n",
              "      <td>1</td>\n",
              "      <td>1</td>\n",
              "    </tr>\n",
              "    <tr>\n",
              "      <th>1</th>\n",
              "      <td>1</td>\n",
              "      <td>2018-01-02</td>\n",
              "      <td>1</td>\n",
              "      <td>1</td>\n",
              "    </tr>\n",
              "    <tr>\n",
              "      <th>2</th>\n",
              "      <td>2</td>\n",
              "      <td>2018-01-03</td>\n",
              "      <td>1</td>\n",
              "      <td>1</td>\n",
              "    </tr>\n",
              "    <tr>\n",
              "      <th>3</th>\n",
              "      <td>3</td>\n",
              "      <td>2018-01-04</td>\n",
              "      <td>1</td>\n",
              "      <td>1</td>\n",
              "    </tr>\n",
              "    <tr>\n",
              "      <th>4</th>\n",
              "      <td>4</td>\n",
              "      <td>2018-01-05</td>\n",
              "      <td>1</td>\n",
              "      <td>1</td>\n",
              "    </tr>\n",
              "  </tbody>\n",
              "</table>\n",
              "</div>\n",
              "    <div class=\"colab-df-buttons\">\n",
              "\n",
              "  <div class=\"colab-df-container\">\n",
              "    <button class=\"colab-df-convert\" onclick=\"convertToInteractive('df-aaf8811c-253d-4ba8-838f-be8493308d43')\"\n",
              "            title=\"Convert this dataframe to an interactive table.\"\n",
              "            style=\"display:none;\">\n",
              "\n",
              "  <svg xmlns=\"http://www.w3.org/2000/svg\" height=\"24px\" viewBox=\"0 -960 960 960\">\n",
              "    <path d=\"M120-120v-720h720v720H120Zm60-500h600v-160H180v160Zm220 220h160v-160H400v160Zm0 220h160v-160H400v160ZM180-400h160v-160H180v160Zm440 0h160v-160H620v160ZM180-180h160v-160H180v160Zm440 0h160v-160H620v160Z\"/>\n",
              "  </svg>\n",
              "    </button>\n",
              "\n",
              "  <style>\n",
              "    .colab-df-container {\n",
              "      display:flex;\n",
              "      gap: 12px;\n",
              "    }\n",
              "\n",
              "    .colab-df-convert {\n",
              "      background-color: #E8F0FE;\n",
              "      border: none;\n",
              "      border-radius: 50%;\n",
              "      cursor: pointer;\n",
              "      display: none;\n",
              "      fill: #1967D2;\n",
              "      height: 32px;\n",
              "      padding: 0 0 0 0;\n",
              "      width: 32px;\n",
              "    }\n",
              "\n",
              "    .colab-df-convert:hover {\n",
              "      background-color: #E2EBFA;\n",
              "      box-shadow: 0px 1px 2px rgba(60, 64, 67, 0.3), 0px 1px 3px 1px rgba(60, 64, 67, 0.15);\n",
              "      fill: #174EA6;\n",
              "    }\n",
              "\n",
              "    .colab-df-buttons div {\n",
              "      margin-bottom: 4px;\n",
              "    }\n",
              "\n",
              "    [theme=dark] .colab-df-convert {\n",
              "      background-color: #3B4455;\n",
              "      fill: #D2E3FC;\n",
              "    }\n",
              "\n",
              "    [theme=dark] .colab-df-convert:hover {\n",
              "      background-color: #434B5C;\n",
              "      box-shadow: 0px 1px 3px 1px rgba(0, 0, 0, 0.15);\n",
              "      filter: drop-shadow(0px 1px 2px rgba(0, 0, 0, 0.3));\n",
              "      fill: #FFFFFF;\n",
              "    }\n",
              "  </style>\n",
              "\n",
              "    <script>\n",
              "      const buttonEl =\n",
              "        document.querySelector('#df-aaf8811c-253d-4ba8-838f-be8493308d43 button.colab-df-convert');\n",
              "      buttonEl.style.display =\n",
              "        google.colab.kernel.accessAllowed ? 'block' : 'none';\n",
              "\n",
              "      async function convertToInteractive(key) {\n",
              "        const element = document.querySelector('#df-aaf8811c-253d-4ba8-838f-be8493308d43');\n",
              "        const dataTable =\n",
              "          await google.colab.kernel.invokeFunction('convertToInteractive',\n",
              "                                                    [key], {});\n",
              "        if (!dataTable) return;\n",
              "\n",
              "        const docLinkHtml = 'Like what you see? Visit the ' +\n",
              "          '<a target=\"_blank\" href=https://colab.research.google.com/notebooks/data_table.ipynb>data table notebook</a>'\n",
              "          + ' to learn more about interactive tables.';\n",
              "        element.innerHTML = '';\n",
              "        dataTable['output_type'] = 'display_data';\n",
              "        await google.colab.output.renderOutput(dataTable, element);\n",
              "        const docLink = document.createElement('div');\n",
              "        docLink.innerHTML = docLinkHtml;\n",
              "        element.appendChild(docLink);\n",
              "      }\n",
              "    </script>\n",
              "  </div>\n",
              "\n",
              "\n",
              "<div id=\"df-19876652-2b7a-438d-874f-bad0cf87399f\">\n",
              "  <button class=\"colab-df-quickchart\" onclick=\"quickchart('df-19876652-2b7a-438d-874f-bad0cf87399f')\"\n",
              "            title=\"Suggest charts.\"\n",
              "            style=\"display:none;\">\n",
              "\n",
              "<svg xmlns=\"http://www.w3.org/2000/svg\" height=\"24px\"viewBox=\"0 0 24 24\"\n",
              "     width=\"24px\">\n",
              "    <g>\n",
              "        <path d=\"M19 3H5c-1.1 0-2 .9-2 2v14c0 1.1.9 2 2 2h14c1.1 0 2-.9 2-2V5c0-1.1-.9-2-2-2zM9 17H7v-7h2v7zm4 0h-2V7h2v10zm4 0h-2v-4h2v4z\"/>\n",
              "    </g>\n",
              "</svg>\n",
              "  </button>\n",
              "\n",
              "<style>\n",
              "  .colab-df-quickchart {\n",
              "      --bg-color: #E8F0FE;\n",
              "      --fill-color: #1967D2;\n",
              "      --hover-bg-color: #E2EBFA;\n",
              "      --hover-fill-color: #174EA6;\n",
              "      --disabled-fill-color: #AAA;\n",
              "      --disabled-bg-color: #DDD;\n",
              "  }\n",
              "\n",
              "  [theme=dark] .colab-df-quickchart {\n",
              "      --bg-color: #3B4455;\n",
              "      --fill-color: #D2E3FC;\n",
              "      --hover-bg-color: #434B5C;\n",
              "      --hover-fill-color: #FFFFFF;\n",
              "      --disabled-bg-color: #3B4455;\n",
              "      --disabled-fill-color: #666;\n",
              "  }\n",
              "\n",
              "  .colab-df-quickchart {\n",
              "    background-color: var(--bg-color);\n",
              "    border: none;\n",
              "    border-radius: 50%;\n",
              "    cursor: pointer;\n",
              "    display: none;\n",
              "    fill: var(--fill-color);\n",
              "    height: 32px;\n",
              "    padding: 0;\n",
              "    width: 32px;\n",
              "  }\n",
              "\n",
              "  .colab-df-quickchart:hover {\n",
              "    background-color: var(--hover-bg-color);\n",
              "    box-shadow: 0 1px 2px rgba(60, 64, 67, 0.3), 0 1px 3px 1px rgba(60, 64, 67, 0.15);\n",
              "    fill: var(--button-hover-fill-color);\n",
              "  }\n",
              "\n",
              "  .colab-df-quickchart-complete:disabled,\n",
              "  .colab-df-quickchart-complete:disabled:hover {\n",
              "    background-color: var(--disabled-bg-color);\n",
              "    fill: var(--disabled-fill-color);\n",
              "    box-shadow: none;\n",
              "  }\n",
              "\n",
              "  .colab-df-spinner {\n",
              "    border: 2px solid var(--fill-color);\n",
              "    border-color: transparent;\n",
              "    border-bottom-color: var(--fill-color);\n",
              "    animation:\n",
              "      spin 1s steps(1) infinite;\n",
              "  }\n",
              "\n",
              "  @keyframes spin {\n",
              "    0% {\n",
              "      border-color: transparent;\n",
              "      border-bottom-color: var(--fill-color);\n",
              "      border-left-color: var(--fill-color);\n",
              "    }\n",
              "    20% {\n",
              "      border-color: transparent;\n",
              "      border-left-color: var(--fill-color);\n",
              "      border-top-color: var(--fill-color);\n",
              "    }\n",
              "    30% {\n",
              "      border-color: transparent;\n",
              "      border-left-color: var(--fill-color);\n",
              "      border-top-color: var(--fill-color);\n",
              "      border-right-color: var(--fill-color);\n",
              "    }\n",
              "    40% {\n",
              "      border-color: transparent;\n",
              "      border-right-color: var(--fill-color);\n",
              "      border-top-color: var(--fill-color);\n",
              "    }\n",
              "    60% {\n",
              "      border-color: transparent;\n",
              "      border-right-color: var(--fill-color);\n",
              "    }\n",
              "    80% {\n",
              "      border-color: transparent;\n",
              "      border-right-color: var(--fill-color);\n",
              "      border-bottom-color: var(--fill-color);\n",
              "    }\n",
              "    90% {\n",
              "      border-color: transparent;\n",
              "      border-bottom-color: var(--fill-color);\n",
              "    }\n",
              "  }\n",
              "</style>\n",
              "\n",
              "  <script>\n",
              "    async function quickchart(key) {\n",
              "      const quickchartButtonEl =\n",
              "        document.querySelector('#' + key + ' button');\n",
              "      quickchartButtonEl.disabled = true;  // To prevent multiple clicks.\n",
              "      quickchartButtonEl.classList.add('colab-df-spinner');\n",
              "      try {\n",
              "        const charts = await google.colab.kernel.invokeFunction(\n",
              "            'suggestCharts', [key], {});\n",
              "      } catch (error) {\n",
              "        console.error('Error during call to suggestCharts:', error);\n",
              "      }\n",
              "      quickchartButtonEl.classList.remove('colab-df-spinner');\n",
              "      quickchartButtonEl.classList.add('colab-df-quickchart-complete');\n",
              "    }\n",
              "    (() => {\n",
              "      let quickchartButtonEl =\n",
              "        document.querySelector('#df-19876652-2b7a-438d-874f-bad0cf87399f button');\n",
              "      quickchartButtonEl.style.display =\n",
              "        google.colab.kernel.accessAllowed ? 'block' : 'none';\n",
              "    })();\n",
              "  </script>\n",
              "</div>\n",
              "    </div>\n",
              "  </div>\n"
            ]
          },
          "metadata": {},
          "execution_count": 183
        }
      ],
      "source": [
        "test.head()"
      ]
    },
    {
      "cell_type": "code",
      "execution_count": null,
      "metadata": {
        "colab": {
          "base_uri": "https://localhost:8080/",
          "height": 36
        },
        "id": "4ivF5PaDLdV7",
        "outputId": "7b7accce-b6b1-4aff-9cd8-894e8b8839b0"
      },
      "outputs": [
        {
          "output_type": "execute_result",
          "data": {
            "text/plain": [
              "'2017-12-31'"
            ],
            "application/vnd.google.colaboratory.intrinsic+json": {
              "type": "string"
            }
          },
          "metadata": {},
          "execution_count": 184
        }
      ],
      "source": [
        "train.date.max()"
      ]
    },
    {
      "cell_type": "code",
      "execution_count": null,
      "metadata": {
        "colab": {
          "base_uri": "https://localhost:8080/",
          "height": 36
        },
        "id": "d_-e26dPLgCu",
        "outputId": "8bad55f0-8af7-486b-c2b3-461043ab28df"
      },
      "outputs": [
        {
          "output_type": "execute_result",
          "data": {
            "text/plain": [
              "'2013-01-01'"
            ],
            "application/vnd.google.colaboratory.intrinsic+json": {
              "type": "string"
            }
          },
          "metadata": {},
          "execution_count": 185
        }
      ],
      "source": [
        "train.date.min()"
      ]
    },
    {
      "cell_type": "code",
      "source": [
        "test[\"date\"] = pd.to_datetime(test[\"date\"])"
      ],
      "metadata": {
        "id": "jdnGIY3BbIHe"
      },
      "execution_count": null,
      "outputs": []
    },
    {
      "cell_type": "code",
      "source": [
        "train[\"date\"] = pd.to_datetime(train[\"date\"])"
      ],
      "metadata": {
        "id": "hXoLMkFSbAUB"
      },
      "execution_count": null,
      "outputs": []
    },
    {
      "cell_type": "code",
      "source": [
        "train.dtypes"
      ],
      "metadata": {
        "colab": {
          "base_uri": "https://localhost:8080/"
        },
        "id": "50ZEV-s1W4Vj",
        "outputId": "90ca3505-da0d-4b6e-a561-aab8f1ec6d78"
      },
      "execution_count": null,
      "outputs": [
        {
          "output_type": "execute_result",
          "data": {
            "text/plain": [
              "date     datetime64[ns]\n",
              "store             int64\n",
              "item              int64\n",
              "sales             int64\n",
              "dtype: object"
            ]
          },
          "metadata": {},
          "execution_count": 188
        }
      ]
    },
    {
      "cell_type": "code",
      "source": [
        "test.dtypes"
      ],
      "metadata": {
        "colab": {
          "base_uri": "https://localhost:8080/"
        },
        "id": "HVOfUcA9XBRv",
        "outputId": "545e62f6-c883-450b-f20c-7ec8f099de3f"
      },
      "execution_count": null,
      "outputs": [
        {
          "output_type": "execute_result",
          "data": {
            "text/plain": [
              "id                int64\n",
              "date     datetime64[ns]\n",
              "store             int64\n",
              "item              int64\n",
              "dtype: object"
            ]
          },
          "metadata": {},
          "execution_count": 189
        }
      ]
    },
    {
      "cell_type": "code",
      "source": [
        "lag_size = (test['date'].max().date() - train['date'].max().date()).days\n",
        "lag_size"
      ],
      "metadata": {
        "colab": {
          "base_uri": "https://localhost:8080/"
        },
        "id": "RaszlwFAaocE",
        "outputId": "cce6a465-51a8-4dff-ec9c-3e835935bfbe"
      },
      "execution_count": null,
      "outputs": [
        {
          "output_type": "execute_result",
          "data": {
            "text/plain": [
              "90"
            ]
          },
          "metadata": {},
          "execution_count": 190
        }
      ]
    },
    {
      "cell_type": "code",
      "execution_count": null,
      "metadata": {
        "colab": {
          "base_uri": "https://localhost:8080/"
        },
        "id": "BEv07380HCmF",
        "outputId": "54dd9ad7-bf9c-4224-90aa-e7485fd09034"
      },
      "outputs": [
        {
          "output_type": "execute_result",
          "data": {
            "text/plain": [
              "date     0\n",
              "store    0\n",
              "item     0\n",
              "sales    0\n",
              "dtype: int64"
            ]
          },
          "metadata": {},
          "execution_count": 191
        }
      ],
      "source": [
        "train.isnull().sum()"
      ]
    },
    {
      "cell_type": "code",
      "execution_count": null,
      "metadata": {
        "colab": {
          "base_uri": "https://localhost:8080/"
        },
        "id": "Fp-k4wNoHGKD",
        "outputId": "d3510a89-4047-43ff-d39b-17043a40d342"
      },
      "outputs": [
        {
          "output_type": "execute_result",
          "data": {
            "text/plain": [
              "id       0\n",
              "date     0\n",
              "store    0\n",
              "item     0\n",
              "dtype: int64"
            ]
          },
          "metadata": {},
          "execution_count": 192
        }
      ],
      "source": [
        "test.isnull().sum()"
      ]
    },
    {
      "cell_type": "markdown",
      "source": [
        "split into test and train"
      ],
      "metadata": {
        "id": "JXlPlqopgoQg"
      }
    },
    {
      "cell_type": "code",
      "source": [
        "training_data = train[(train['date'] <= '2016')]\n",
        "test_data = train[(train['date'] >= '2017')]\n",
        "\n",
        "training_data.sort_values('date', inplace=True)\n",
        "training_data = training_data.groupby('date')\n",
        "training_data = training_data.agg({'sales':'mean'})\n",
        "training_data.columns = ['sales']\n",
        "\n",
        "test_data.sort_values('date', inplace=True)\n",
        "test_data = test_data.groupby('date')\n",
        "test_data = test_data.agg({'sales':'mean'})\n",
        "test_data.columns = ['sales']\n",
        "\n",
        "print(len(training_data))\n",
        "print(len(test_data))"
      ],
      "metadata": {
        "colab": {
          "base_uri": "https://localhost:8080/"
        },
        "id": "FAhND-zlV5O5",
        "outputId": "8cd71c7b-ce81-4d03-a533-ab720876d108"
      },
      "execution_count": null,
      "outputs": [
        {
          "output_type": "stream",
          "name": "stdout",
          "text": [
            "1096\n",
            "365\n"
          ]
        }
      ]
    },
    {
      "cell_type": "code",
      "source": [
        "training_data['sales'].plot()"
      ],
      "metadata": {
        "colab": {
          "base_uri": "https://localhost:8080/",
          "height": 418
        },
        "id": "Al14h38foVwH",
        "outputId": "31207b63-aa11-47ee-c8af-65a2b2733f1a"
      },
      "execution_count": null,
      "outputs": [
        {
          "output_type": "execute_result",
          "data": {
            "text/plain": [
              "<Axes: xlabel='date'>"
            ]
          },
          "metadata": {},
          "execution_count": 194
        },
        {
          "output_type": "display_data",
          "data": {
            "text/plain": [
              "<Figure size 500x400 with 1 Axes>"
            ],
            "image/svg+xml": "<?xml version=\"1.0\" encoding=\"utf-8\" standalone=\"no\"?>\n<!DOCTYPE svg PUBLIC \"-//W3C//DTD SVG 1.1//EN\"\n  \"http://www.w3.org/Graphics/SVG/1.1/DTD/svg11.dtd\">\n<svg xmlns:xlink=\"http://www.w3.org/1999/xlink\" width=\"330.895pt\" height=\"284.237281pt\" viewBox=\"0 0 330.895 284.237281\" xmlns=\"http://www.w3.org/2000/svg\" version=\"1.1\">\n <metadata>\n  <rdf:RDF xmlns:dc=\"http://purl.org/dc/elements/1.1/\" xmlns:cc=\"http://creativecommons.org/ns#\" xmlns:rdf=\"http://www.w3.org/1999/02/22-rdf-syntax-ns#\">\n   <cc:Work>\n    <dc:type rdf:resource=\"http://purl.org/dc/dcmitype/StillImage\"/>\n    <dc:date>2023-09-04T05:38:59.647760</dc:date>\n    <dc:format>image/svg+xml</dc:format>\n    <dc:creator>\n     <cc:Agent>\n      <dc:title>Matplotlib v3.7.1, https://matplotlib.org/</dc:title>\n     </cc:Agent>\n    </dc:creator>\n   </cc:Work>\n  </rdf:RDF>\n </metadata>\n <defs>\n  <style type=\"text/css\">*{stroke-linejoin: round; stroke-linecap: butt}</style>\n </defs>\n <g id=\"figure_1\">\n  <g id=\"patch_1\">\n   <path d=\"M 0 284.237281 \nL 330.895 284.237281 \nL 330.895 0 \nL 0 0 \nz\n\" style=\"fill: #ffffff\"/>\n  </g>\n  <g id=\"axes_1\">\n   <g id=\"patch_2\">\n    <path d=\"M 30.6975 228.96 \nL 309.6975 228.96 \nL 309.6975 7.2 \nL 30.6975 7.2 \nz\n\" style=\"fill: #eaeaf2\"/>\n   </g>\n   <g id=\"matplotlib.axis_1\">\n    <g id=\"xtick_1\">\n     <g id=\"line2d_1\">\n      <path d=\"M 30.6975 228.96 \nL 30.6975 7.2 \n\" clip-path=\"url(#p7e1c5d7dbb)\" style=\"fill: none; stroke: #ffffff; stroke-linecap: round\"/>\n     </g>\n     <g id=\"text_1\">\n      <!-- Jan -->\n      <g style=\"fill: #262626\" transform=\"translate(22.218906 246.818281) scale(0.11 -0.11)\">\n       <defs>\n        <path id=\"DejaVuSans-4a\" d=\"M 628 4666 \nL 1259 4666 \nL 1259 325 \nQ 1259 -519 939 -900 \nQ 619 -1281 -91 -1281 \nL -331 -1281 \nL -331 -750 \nL -134 -750 \nQ 284 -750 456 -515 \nQ 628 -281 628 325 \nL 628 4666 \nz\n\" transform=\"scale(0.015625)\"/>\n        <path id=\"DejaVuSans-61\" d=\"M 2194 1759 \nQ 1497 1759 1228 1600 \nQ 959 1441 959 1056 \nQ 959 750 1161 570 \nQ 1363 391 1709 391 \nQ 2188 391 2477 730 \nQ 2766 1069 2766 1631 \nL 2766 1759 \nL 2194 1759 \nz\nM 3341 1997 \nL 3341 0 \nL 2766 0 \nL 2766 531 \nQ 2569 213 2275 61 \nQ 1981 -91 1556 -91 \nQ 1019 -91 701 211 \nQ 384 513 384 1019 \nQ 384 1609 779 1909 \nQ 1175 2209 1959 2209 \nL 2766 2209 \nL 2766 2266 \nQ 2766 2663 2505 2880 \nQ 2244 3097 1772 3097 \nQ 1472 3097 1187 3025 \nQ 903 2953 641 2809 \nL 641 3341 \nQ 956 3463 1253 3523 \nQ 1550 3584 1831 3584 \nQ 2591 3584 2966 3190 \nQ 3341 2797 3341 1997 \nz\n\" transform=\"scale(0.015625)\"/>\n        <path id=\"DejaVuSans-6e\" d=\"M 3513 2113 \nL 3513 0 \nL 2938 0 \nL 2938 2094 \nQ 2938 2591 2744 2837 \nQ 2550 3084 2163 3084 \nQ 1697 3084 1428 2787 \nQ 1159 2491 1159 1978 \nL 1159 0 \nL 581 0 \nL 581 3500 \nL 1159 3500 \nL 1159 2956 \nQ 1366 3272 1645 3428 \nQ 1925 3584 2291 3584 \nQ 2894 3584 3203 3211 \nQ 3513 2838 3513 2113 \nz\n\" transform=\"scale(0.015625)\"/>\n       </defs>\n       <use xlink:href=\"#DejaVuSans-4a\"/>\n       <use xlink:href=\"#DejaVuSans-61\" x=\"29.492188\"/>\n       <use xlink:href=\"#DejaVuSans-6e\" x=\"90.771484\"/>\n      </g>\n      <!-- 2013 -->\n      <g style=\"fill: #262626\" transform=\"translate(16.7 259.135875) scale(0.11 -0.11)\">\n       <defs>\n        <path id=\"DejaVuSans-32\" d=\"M 1228 531 \nL 3431 531 \nL 3431 0 \nL 469 0 \nL 469 531 \nQ 828 903 1448 1529 \nQ 2069 2156 2228 2338 \nQ 2531 2678 2651 2914 \nQ 2772 3150 2772 3378 \nQ 2772 3750 2511 3984 \nQ 2250 4219 1831 4219 \nQ 1534 4219 1204 4116 \nQ 875 4013 500 3803 \nL 500 4441 \nQ 881 4594 1212 4672 \nQ 1544 4750 1819 4750 \nQ 2544 4750 2975 4387 \nQ 3406 4025 3406 3419 \nQ 3406 3131 3298 2873 \nQ 3191 2616 2906 2266 \nQ 2828 2175 2409 1742 \nQ 1991 1309 1228 531 \nz\n\" transform=\"scale(0.015625)\"/>\n        <path id=\"DejaVuSans-30\" d=\"M 2034 4250 \nQ 1547 4250 1301 3770 \nQ 1056 3291 1056 2328 \nQ 1056 1369 1301 889 \nQ 1547 409 2034 409 \nQ 2525 409 2770 889 \nQ 3016 1369 3016 2328 \nQ 3016 3291 2770 3770 \nQ 2525 4250 2034 4250 \nz\nM 2034 4750 \nQ 2819 4750 3233 4129 \nQ 3647 3509 3647 2328 \nQ 3647 1150 3233 529 \nQ 2819 -91 2034 -91 \nQ 1250 -91 836 529 \nQ 422 1150 422 2328 \nQ 422 3509 836 4129 \nQ 1250 4750 2034 4750 \nz\n\" transform=\"scale(0.015625)\"/>\n        <path id=\"DejaVuSans-31\" d=\"M 794 531 \nL 1825 531 \nL 1825 4091 \nL 703 3866 \nL 703 4441 \nL 1819 4666 \nL 2450 4666 \nL 2450 531 \nL 3481 531 \nL 3481 0 \nL 794 0 \nL 794 531 \nz\n\" transform=\"scale(0.015625)\"/>\n        <path id=\"DejaVuSans-33\" d=\"M 2597 2516 \nQ 3050 2419 3304 2112 \nQ 3559 1806 3559 1356 \nQ 3559 666 3084 287 \nQ 2609 -91 1734 -91 \nQ 1441 -91 1130 -33 \nQ 819 25 488 141 \nL 488 750 \nQ 750 597 1062 519 \nQ 1375 441 1716 441 \nQ 2309 441 2620 675 \nQ 2931 909 2931 1356 \nQ 2931 1769 2642 2001 \nQ 2353 2234 1838 2234 \nL 1294 2234 \nL 1294 2753 \nL 1863 2753 \nQ 2328 2753 2575 2939 \nQ 2822 3125 2822 3475 \nQ 2822 3834 2567 4026 \nQ 2313 4219 1838 4219 \nQ 1578 4219 1281 4162 \nQ 984 4106 628 3988 \nL 628 4550 \nQ 988 4650 1302 4700 \nQ 1616 4750 1894 4750 \nQ 2613 4750 3031 4423 \nQ 3450 4097 3450 3541 \nQ 3450 3153 3228 2886 \nQ 3006 2619 2597 2516 \nz\n\" transform=\"scale(0.015625)\"/>\n       </defs>\n       <use xlink:href=\"#DejaVuSans-32\"/>\n       <use xlink:href=\"#DejaVuSans-30\" x=\"63.623047\"/>\n       <use xlink:href=\"#DejaVuSans-31\" x=\"127.246094\"/>\n       <use xlink:href=\"#DejaVuSans-33\" x=\"190.869141\"/>\n      </g>\n     </g>\n    </g>\n    <g id=\"xtick_2\">\n     <g id=\"line2d_2\">\n      <path d=\"M 123.6975 228.96 \nL 123.6975 7.2 \n\" clip-path=\"url(#p7e1c5d7dbb)\" style=\"fill: none; stroke: #ffffff; stroke-linecap: round\"/>\n     </g>\n     <g id=\"text_2\">\n      <!-- Jan -->\n      <g style=\"fill: #262626\" transform=\"translate(115.218906 246.818281) scale(0.11 -0.11)\">\n       <use xlink:href=\"#DejaVuSans-4a\"/>\n       <use xlink:href=\"#DejaVuSans-61\" x=\"29.492188\"/>\n       <use xlink:href=\"#DejaVuSans-6e\" x=\"90.771484\"/>\n      </g>\n      <!-- 2014 -->\n      <g style=\"fill: #262626\" transform=\"translate(109.7 259.135875) scale(0.11 -0.11)\">\n       <defs>\n        <path id=\"DejaVuSans-34\" d=\"M 2419 4116 \nL 825 1625 \nL 2419 1625 \nL 2419 4116 \nz\nM 2253 4666 \nL 3047 4666 \nL 3047 1625 \nL 3713 1625 \nL 3713 1100 \nL 3047 1100 \nL 3047 0 \nL 2419 0 \nL 2419 1100 \nL 313 1100 \nL 313 1709 \nL 2253 4666 \nz\n\" transform=\"scale(0.015625)\"/>\n       </defs>\n       <use xlink:href=\"#DejaVuSans-32\"/>\n       <use xlink:href=\"#DejaVuSans-30\" x=\"63.623047\"/>\n       <use xlink:href=\"#DejaVuSans-31\" x=\"127.246094\"/>\n       <use xlink:href=\"#DejaVuSans-34\" x=\"190.869141\"/>\n      </g>\n     </g>\n    </g>\n    <g id=\"xtick_3\">\n     <g id=\"line2d_3\">\n      <path d=\"M 216.6975 228.96 \nL 216.6975 7.2 \n\" clip-path=\"url(#p7e1c5d7dbb)\" style=\"fill: none; stroke: #ffffff; stroke-linecap: round\"/>\n     </g>\n     <g id=\"text_3\">\n      <!-- Jan -->\n      <g style=\"fill: #262626\" transform=\"translate(208.218906 246.818281) scale(0.11 -0.11)\">\n       <use xlink:href=\"#DejaVuSans-4a\"/>\n       <use xlink:href=\"#DejaVuSans-61\" x=\"29.492188\"/>\n       <use xlink:href=\"#DejaVuSans-6e\" x=\"90.771484\"/>\n      </g>\n      <!-- 2015 -->\n      <g style=\"fill: #262626\" transform=\"translate(202.7 259.135875) scale(0.11 -0.11)\">\n       <defs>\n        <path id=\"DejaVuSans-35\" d=\"M 691 4666 \nL 3169 4666 \nL 3169 4134 \nL 1269 4134 \nL 1269 2991 \nQ 1406 3038 1543 3061 \nQ 1681 3084 1819 3084 \nQ 2600 3084 3056 2656 \nQ 3513 2228 3513 1497 \nQ 3513 744 3044 326 \nQ 2575 -91 1722 -91 \nQ 1428 -91 1123 -41 \nQ 819 9 494 109 \nL 494 744 \nQ 775 591 1075 516 \nQ 1375 441 1709 441 \nQ 2250 441 2565 725 \nQ 2881 1009 2881 1497 \nQ 2881 1984 2565 2268 \nQ 2250 2553 1709 2553 \nQ 1456 2553 1204 2497 \nQ 953 2441 691 2322 \nL 691 4666 \nz\n\" transform=\"scale(0.015625)\"/>\n       </defs>\n       <use xlink:href=\"#DejaVuSans-32\"/>\n       <use xlink:href=\"#DejaVuSans-30\" x=\"63.623047\"/>\n       <use xlink:href=\"#DejaVuSans-31\" x=\"127.246094\"/>\n       <use xlink:href=\"#DejaVuSans-35\" x=\"190.869141\"/>\n      </g>\n     </g>\n    </g>\n    <g id=\"xtick_4\">\n     <g id=\"line2d_4\">\n      <path d=\"M 309.6975 228.96 \nL 309.6975 7.2 \n\" clip-path=\"url(#p7e1c5d7dbb)\" style=\"fill: none; stroke: #ffffff; stroke-linecap: round\"/>\n     </g>\n     <g id=\"text_4\">\n      <!-- Jan -->\n      <g style=\"fill: #262626\" transform=\"translate(301.218906 246.818281) scale(0.11 -0.11)\">\n       <use xlink:href=\"#DejaVuSans-4a\"/>\n       <use xlink:href=\"#DejaVuSans-61\" x=\"29.492188\"/>\n       <use xlink:href=\"#DejaVuSans-6e\" x=\"90.771484\"/>\n      </g>\n      <!-- 2016 -->\n      <g style=\"fill: #262626\" transform=\"translate(295.7 259.135875) scale(0.11 -0.11)\">\n       <defs>\n        <path id=\"DejaVuSans-36\" d=\"M 2113 2584 \nQ 1688 2584 1439 2293 \nQ 1191 2003 1191 1497 \nQ 1191 994 1439 701 \nQ 1688 409 2113 409 \nQ 2538 409 2786 701 \nQ 3034 994 3034 1497 \nQ 3034 2003 2786 2293 \nQ 2538 2584 2113 2584 \nz\nM 3366 4563 \nL 3366 3988 \nQ 3128 4100 2886 4159 \nQ 2644 4219 2406 4219 \nQ 1781 4219 1451 3797 \nQ 1122 3375 1075 2522 \nQ 1259 2794 1537 2939 \nQ 1816 3084 2150 3084 \nQ 2853 3084 3261 2657 \nQ 3669 2231 3669 1497 \nQ 3669 778 3244 343 \nQ 2819 -91 2113 -91 \nQ 1303 -91 875 529 \nQ 447 1150 447 2328 \nQ 447 3434 972 4092 \nQ 1497 4750 2381 4750 \nQ 2619 4750 2861 4703 \nQ 3103 4656 3366 4563 \nz\n\" transform=\"scale(0.015625)\"/>\n       </defs>\n       <use xlink:href=\"#DejaVuSans-32\"/>\n       <use xlink:href=\"#DejaVuSans-30\" x=\"63.623047\"/>\n       <use xlink:href=\"#DejaVuSans-31\" x=\"127.246094\"/>\n       <use xlink:href=\"#DejaVuSans-36\" x=\"190.869141\"/>\n      </g>\n     </g>\n    </g>\n    <g id=\"xtick_5\"/>\n    <g id=\"xtick_6\"/>\n    <g id=\"xtick_7\"/>\n    <g id=\"xtick_8\"/>\n    <g id=\"xtick_9\"/>\n    <g id=\"xtick_10\">\n     <g id=\"text_5\">\n      <!-- Jul -->\n      <g style=\"fill: #262626\" transform=\"translate(70.179214 244.718281) scale(0.11 -0.11)\">\n       <defs>\n        <path id=\"DejaVuSans-75\" d=\"M 544 1381 \nL 544 3500 \nL 1119 3500 \nL 1119 1403 \nQ 1119 906 1312 657 \nQ 1506 409 1894 409 \nQ 2359 409 2629 706 \nQ 2900 1003 2900 1516 \nL 2900 3500 \nL 3475 3500 \nL 3475 0 \nL 2900 0 \nL 2900 538 \nQ 2691 219 2414 64 \nQ 2138 -91 1772 -91 \nQ 1169 -91 856 284 \nQ 544 659 544 1381 \nz\nM 1991 3584 \nL 1991 3584 \nz\n\" transform=\"scale(0.015625)\"/>\n        <path id=\"DejaVuSans-6c\" d=\"M 603 4863 \nL 1178 4863 \nL 1178 0 \nL 603 0 \nL 603 4863 \nz\n\" transform=\"scale(0.015625)\"/>\n       </defs>\n       <use xlink:href=\"#DejaVuSans-4a\"/>\n       <use xlink:href=\"#DejaVuSans-75\" x=\"29.492188\"/>\n       <use xlink:href=\"#DejaVuSans-6c\" x=\"92.871094\"/>\n      </g>\n     </g>\n    </g>\n    <g id=\"xtick_11\"/>\n    <g id=\"xtick_12\"/>\n    <g id=\"xtick_13\"/>\n    <g id=\"xtick_14\"/>\n    <g id=\"xtick_15\"/>\n    <g id=\"xtick_16\"/>\n    <g id=\"xtick_17\"/>\n    <g id=\"xtick_18\"/>\n    <g id=\"xtick_19\"/>\n    <g id=\"xtick_20\"/>\n    <g id=\"xtick_21\">\n     <g id=\"text_6\">\n      <!-- Jul -->\n      <g style=\"fill: #262626\" transform=\"translate(163.179214 244.718281) scale(0.11 -0.11)\">\n       <use xlink:href=\"#DejaVuSans-4a\"/>\n       <use xlink:href=\"#DejaVuSans-75\" x=\"29.492188\"/>\n       <use xlink:href=\"#DejaVuSans-6c\" x=\"92.871094\"/>\n      </g>\n     </g>\n    </g>\n    <g id=\"xtick_22\"/>\n    <g id=\"xtick_23\"/>\n    <g id=\"xtick_24\"/>\n    <g id=\"xtick_25\"/>\n    <g id=\"xtick_26\"/>\n    <g id=\"xtick_27\"/>\n    <g id=\"xtick_28\"/>\n    <g id=\"xtick_29\"/>\n    <g id=\"xtick_30\"/>\n    <g id=\"xtick_31\"/>\n    <g id=\"xtick_32\">\n     <g id=\"text_7\">\n      <!-- Jul -->\n      <g style=\"fill: #262626\" transform=\"translate(256.179214 244.718281) scale(0.11 -0.11)\">\n       <use xlink:href=\"#DejaVuSans-4a\"/>\n       <use xlink:href=\"#DejaVuSans-75\" x=\"29.492188\"/>\n       <use xlink:href=\"#DejaVuSans-6c\" x=\"92.871094\"/>\n      </g>\n     </g>\n    </g>\n    <g id=\"xtick_33\"/>\n    <g id=\"xtick_34\"/>\n    <g id=\"xtick_35\"/>\n    <g id=\"xtick_36\"/>\n    <g id=\"xtick_37\"/>\n    <g id=\"text_8\">\n     <!-- date -->\n     <g style=\"fill: #262626\" transform=\"translate(156.6675 274.541656) scale(0.12 -0.12)\">\n      <defs>\n       <path id=\"DejaVuSans-64\" d=\"M 2906 2969 \nL 2906 4863 \nL 3481 4863 \nL 3481 0 \nL 2906 0 \nL 2906 525 \nQ 2725 213 2448 61 \nQ 2172 -91 1784 -91 \nQ 1150 -91 751 415 \nQ 353 922 353 1747 \nQ 353 2572 751 3078 \nQ 1150 3584 1784 3584 \nQ 2172 3584 2448 3432 \nQ 2725 3281 2906 2969 \nz\nM 947 1747 \nQ 947 1113 1208 752 \nQ 1469 391 1925 391 \nQ 2381 391 2643 752 \nQ 2906 1113 2906 1747 \nQ 2906 2381 2643 2742 \nQ 2381 3103 1925 3103 \nQ 1469 3103 1208 2742 \nQ 947 2381 947 1747 \nz\n\" transform=\"scale(0.015625)\"/>\n       <path id=\"DejaVuSans-74\" d=\"M 1172 4494 \nL 1172 3500 \nL 2356 3500 \nL 2356 3053 \nL 1172 3053 \nL 1172 1153 \nQ 1172 725 1289 603 \nQ 1406 481 1766 481 \nL 2356 481 \nL 2356 0 \nL 1766 0 \nQ 1100 0 847 248 \nQ 594 497 594 1153 \nL 594 3053 \nL 172 3053 \nL 172 3500 \nL 594 3500 \nL 594 4494 \nL 1172 4494 \nz\n\" transform=\"scale(0.015625)\"/>\n       <path id=\"DejaVuSans-65\" d=\"M 3597 1894 \nL 3597 1613 \nL 953 1613 \nQ 991 1019 1311 708 \nQ 1631 397 2203 397 \nQ 2534 397 2845 478 \nQ 3156 559 3463 722 \nL 3463 178 \nQ 3153 47 2828 -22 \nQ 2503 -91 2169 -91 \nQ 1331 -91 842 396 \nQ 353 884 353 1716 \nQ 353 2575 817 3079 \nQ 1281 3584 2069 3584 \nQ 2775 3584 3186 3129 \nQ 3597 2675 3597 1894 \nz\nM 3022 2063 \nQ 3016 2534 2758 2815 \nQ 2500 3097 2075 3097 \nQ 1594 3097 1305 2825 \nQ 1016 2553 972 2059 \nL 3022 2063 \nz\n\" transform=\"scale(0.015625)\"/>\n      </defs>\n      <use xlink:href=\"#DejaVuSans-64\"/>\n      <use xlink:href=\"#DejaVuSans-61\" x=\"63.476562\"/>\n      <use xlink:href=\"#DejaVuSans-74\" x=\"124.755859\"/>\n      <use xlink:href=\"#DejaVuSans-65\" x=\"163.964844\"/>\n     </g>\n    </g>\n   </g>\n   <g id=\"matplotlib.axis_2\">\n    <g id=\"ytick_1\">\n     <g id=\"line2d_5\">\n      <path d=\"M 30.6975 195.256514 \nL 309.6975 195.256514 \n\" clip-path=\"url(#p7e1c5d7dbb)\" style=\"fill: none; stroke: #ffffff; stroke-linecap: round\"/>\n     </g>\n     <g id=\"text_9\">\n      <!-- 30 -->\n      <g style=\"fill: #262626\" transform=\"translate(7.2 199.435655) scale(0.11 -0.11)\">\n       <use xlink:href=\"#DejaVuSans-33\"/>\n       <use xlink:href=\"#DejaVuSans-30\" x=\"63.623047\"/>\n      </g>\n     </g>\n    </g>\n    <g id=\"ytick_2\">\n     <g id=\"line2d_6\">\n      <path d=\"M 30.6975 159.365469 \nL 309.6975 159.365469 \n\" clip-path=\"url(#p7e1c5d7dbb)\" style=\"fill: none; stroke: #ffffff; stroke-linecap: round\"/>\n     </g>\n     <g id=\"text_10\">\n      <!-- 40 -->\n      <g style=\"fill: #262626\" transform=\"translate(7.2 163.54461) scale(0.11 -0.11)\">\n       <use xlink:href=\"#DejaVuSans-34\"/>\n       <use xlink:href=\"#DejaVuSans-30\" x=\"63.623047\"/>\n      </g>\n     </g>\n    </g>\n    <g id=\"ytick_3\">\n     <g id=\"line2d_7\">\n      <path d=\"M 30.6975 123.474424 \nL 309.6975 123.474424 \n\" clip-path=\"url(#p7e1c5d7dbb)\" style=\"fill: none; stroke: #ffffff; stroke-linecap: round\"/>\n     </g>\n     <g id=\"text_11\">\n      <!-- 50 -->\n      <g style=\"fill: #262626\" transform=\"translate(7.2 127.653565) scale(0.11 -0.11)\">\n       <use xlink:href=\"#DejaVuSans-35\"/>\n       <use xlink:href=\"#DejaVuSans-30\" x=\"63.623047\"/>\n      </g>\n     </g>\n    </g>\n    <g id=\"ytick_4\">\n     <g id=\"line2d_8\">\n      <path d=\"M 30.6975 87.583379 \nL 309.6975 87.583379 \n\" clip-path=\"url(#p7e1c5d7dbb)\" style=\"fill: none; stroke: #ffffff; stroke-linecap: round\"/>\n     </g>\n     <g id=\"text_12\">\n      <!-- 60 -->\n      <g style=\"fill: #262626\" transform=\"translate(7.2 91.76252) scale(0.11 -0.11)\">\n       <use xlink:href=\"#DejaVuSans-36\"/>\n       <use xlink:href=\"#DejaVuSans-30\" x=\"63.623047\"/>\n      </g>\n     </g>\n    </g>\n    <g id=\"ytick_5\">\n     <g id=\"line2d_9\">\n      <path d=\"M 30.6975 51.692334 \nL 309.6975 51.692334 \n\" clip-path=\"url(#p7e1c5d7dbb)\" style=\"fill: none; stroke: #ffffff; stroke-linecap: round\"/>\n     </g>\n     <g id=\"text_13\">\n      <!-- 70 -->\n      <g style=\"fill: #262626\" transform=\"translate(7.2 55.871475) scale(0.11 -0.11)\">\n       <defs>\n        <path id=\"DejaVuSans-37\" d=\"M 525 4666 \nL 3525 4666 \nL 3525 4397 \nL 1831 0 \nL 1172 0 \nL 2766 4134 \nL 525 4134 \nL 525 4666 \nz\n\" transform=\"scale(0.015625)\"/>\n       </defs>\n       <use xlink:href=\"#DejaVuSans-37\"/>\n       <use xlink:href=\"#DejaVuSans-30\" x=\"63.623047\"/>\n      </g>\n     </g>\n    </g>\n    <g id=\"ytick_6\">\n     <g id=\"line2d_10\">\n      <path d=\"M 30.6975 15.801289 \nL 309.6975 15.801289 \n\" clip-path=\"url(#p7e1c5d7dbb)\" style=\"fill: none; stroke: #ffffff; stroke-linecap: round\"/>\n     </g>\n     <g id=\"text_14\">\n      <!-- 80 -->\n      <g style=\"fill: #262626\" transform=\"translate(7.2 19.98043) scale(0.11 -0.11)\">\n       <defs>\n        <path id=\"DejaVuSans-38\" d=\"M 2034 2216 \nQ 1584 2216 1326 1975 \nQ 1069 1734 1069 1313 \nQ 1069 891 1326 650 \nQ 1584 409 2034 409 \nQ 2484 409 2743 651 \nQ 3003 894 3003 1313 \nQ 3003 1734 2745 1975 \nQ 2488 2216 2034 2216 \nz\nM 1403 2484 \nQ 997 2584 770 2862 \nQ 544 3141 544 3541 \nQ 544 4100 942 4425 \nQ 1341 4750 2034 4750 \nQ 2731 4750 3128 4425 \nQ 3525 4100 3525 3541 \nQ 3525 3141 3298 2862 \nQ 3072 2584 2669 2484 \nQ 3125 2378 3379 2068 \nQ 3634 1759 3634 1313 \nQ 3634 634 3220 271 \nQ 2806 -91 2034 -91 \nQ 1263 -91 848 271 \nQ 434 634 434 1313 \nQ 434 1759 690 2068 \nQ 947 2378 1403 2484 \nz\nM 1172 3481 \nQ 1172 3119 1398 2916 \nQ 1625 2713 2034 2713 \nQ 2441 2713 2670 2916 \nQ 2900 3119 2900 3481 \nQ 2900 3844 2670 4047 \nQ 2441 4250 2034 4250 \nQ 1625 4250 1398 4047 \nQ 1172 3844 1172 3481 \nz\n\" transform=\"scale(0.015625)\"/>\n       </defs>\n       <use xlink:href=\"#DejaVuSans-38\"/>\n       <use xlink:href=\"#DejaVuSans-30\" x=\"63.623047\"/>\n      </g>\n     </g>\n    </g>\n   </g>\n   <g id=\"line2d_11\">\n    <path d=\"M 30.6975 204.616899 \nL 30.952295 204.746106 \nL 31.207089 198.931757 \nL 31.461884 190.396867 \nL 31.716678 186.37707 \nL 31.971473 178.811237 \nL 32.226267 218.449307 \nL 32.481062 205.593135 \nL 32.735856 203.310465 \nL 33.245445 190.712708 \nL 33.755034 175.581043 \nL 34.009829 218.614406 \nL 34.264623 205.126552 \nL 34.519418 205.370611 \nL 35.538596 176.507032 \nL 35.79339 218.88 \nL 36.048185 204.415909 \nL 36.302979 205.21269 \nL 37.067363 184.05133 \nL 37.322158 176.743913 \nL 37.576952 217.882229 \nL 37.831747 204.415909 \nL 38.086541 206.806252 \nL 38.341336 197.2377 \nL 38.59613 177.504803 \nL 38.850925 171.403326 \nL 39.105719 162.638732 \nL 39.360514 209.627289 \nL 39.615308 195.572355 \nL 39.870103 194.366416 \nL 40.889281 162.947395 \nL 41.144075 209.892882 \nL 41.39887 194.15107 \nL 41.653664 193.289685 \nL 42.672842 162.940217 \nL 42.927637 210.632238 \nL 43.182432 192.679537 \nL 43.437226 195.909731 \nL 43.946815 178.07906 \nL 44.456404 163.083781 \nL 44.711199 209.196596 \nL 44.965993 193.935724 \nL 45.220788 195.156019 \nL 45.475582 186.441673 \nL 45.730377 152.345181 \nL 46.239966 135.964508 \nL 46.49476 190.159986 \nL 46.749555 172.365206 \nL 47.004349 170.599366 \nL 47.259144 164.318433 \nL 48.023527 136.021933 \nL 48.278322 192.937953 \nL 48.533116 173.513719 \nL 48.787911 170.757287 \nL 49.2975 154.606317 \nL 49.807089 135.404607 \nL 50.061884 191.071618 \nL 50.316678 172.035008 \nL 50.571473 173.025601 \nL 51.590651 135.770696 \nL 51.845445 190.612213 \nL 52.10024 171.510999 \nL 52.355034 171.740701 \nL 53.374212 133.976144 \nL 53.629007 172.257532 \nL 53.883801 150.622411 \nL 54.138596 151.289984 \nL 54.902979 117.695966 \nL 55.157774 107.883354 \nL 55.412568 173.685996 \nL 55.667363 150.923895 \nL 55.922158 150.773153 \nL 56.686541 118.033342 \nL 56.941336 106.325683 \nL 57.19613 173.14763 \nL 57.450925 149.107808 \nL 57.705719 150.687014 \nL 58.724897 105.981129 \nL 58.979692 170.74293 \nL 59.234486 148.992957 \nL 59.489281 149.158056 \nL 60.253664 120.753883 \nL 60.508459 105.457119 \nL 60.763253 173.542432 \nL 61.018048 150.040976 \nL 62.292021 92.335353 \nL 62.546815 163.212989 \nL 62.80161 139.244949 \nL 63.056404 138.541485 \nL 64.075582 94.991291 \nL 64.330377 164.727591 \nL 64.585171 138.469703 \nL 64.839966 139.043959 \nL 65.859144 93.71357 \nL 66.113938 163.191455 \nL 66.368733 139.625394 \nL 66.623527 137.88109 \nL 67.387911 103.174449 \nL 67.642705 90.490554 \nL 67.8975 163.16992 \nL 68.152295 138.728118 \nL 68.407089 137.981584 \nL 68.916678 115.63582 \nL 69.426267 78.40245 \nL 69.681062 154.857554 \nL 69.935856 130.379861 \nL 70.190651 128.312537 \nL 70.955034 91.2658 \nL 71.209829 80.642051 \nL 71.464623 153.63008 \nL 71.719418 125.965263 \nL 71.974212 128.391497 \nL 72.738596 91.919017 \nL 72.99339 78.926459 \nL 73.248185 155.546662 \nL 73.502979 128.197686 \nL 73.757774 129.540011 \nL 74.776952 77.031412 \nL 75.031747 152.876368 \nL 75.286541 129.827139 \nL 75.541336 127.429617 \nL 76.560514 78.567549 \nL 76.815308 145.030586 \nL 77.070103 117.7175 \nL 77.324897 116.992501 \nL 78.344075 66.414841 \nL 78.59887 142.941727 \nL 78.853664 116.892006 \nL 79.108459 118.248688 \nL 79.872842 76.528937 \nL 80.127637 65.237614 \nL 80.382432 144.865487 \nL 80.637226 116.691017 \nL 80.892021 118.708093 \nL 81.911199 64.972021 \nL 82.165993 144.578359 \nL 82.420788 118.578886 \nL 82.675582 116.0378 \nL 83.69476 64.498259 \nL 83.949555 145.102368 \nL 84.204349 117.207848 \nL 84.459144 118.995222 \nL 84.713938 130.279366 \nL 85.223527 102.901677 \nL 85.478322 92.600947 \nL 85.733116 161.992694 \nL 85.987911 139.697176 \nL 86.242705 141.742966 \nL 87.261884 92.895254 \nL 87.516678 162.452099 \nL 87.771473 140.379106 \nL 88.026267 139.790493 \nL 89.045445 93.476689 \nL 89.30024 164.1318 \nL 89.555034 138.871682 \nL 89.809829 139.725889 \nL 90.574212 103.605142 \nL 90.829007 94.83337 \nL 91.083801 163.378088 \nL 91.338596 138.886039 \nL 91.59339 139.043959 \nL 92.357774 105.658109 \nL 92.612568 106.634346 \nL 92.867363 169.615952 \nL 93.122158 149.351868 \nL 93.376952 151.275628 \nL 94.39613 106.820979 \nL 94.650925 172.78872 \nL 94.905719 148.547908 \nL 95.160514 150.600876 \nL 96.179692 107.287563 \nL 96.434486 170.671148 \nL 96.689281 153.163497 \nL 96.944075 149.545679 \nL 97.963253 105.966772 \nL 98.218048 171.862731 \nL 98.472842 150.586519 \nL 98.727637 149.387759 \nL 99.492021 120.545715 \nL 99.746815 106.512316 \nL 100.00161 172.221641 \nL 100.256404 161.949624 \nL 100.511199 160.420666 \nL 101.275582 131.42788 \nL 101.530377 121.191754 \nL 101.785171 180.656037 \nL 102.039966 162.064476 \nL 102.29476 162.818188 \nL 102.549555 148.756076 \nL 102.804349 142.073164 \nL 103.313938 120.330369 \nL 103.568733 182.400342 \nL 103.823527 162.12908 \nL 104.078322 161.762991 \nL 105.0975 121.974178 \nL 105.352295 182.586975 \nL 105.607089 161.562001 \nL 105.861884 161.935268 \nL 106.881062 121.701406 \nL 107.135856 182.464946 \nL 107.390651 161.518932 \nL 107.645445 160.413488 \nL 107.90024 151.577112 \nL 108.155034 128.664269 \nL 108.664623 107.208602 \nL 108.919418 172.178572 \nL 109.174212 150.356817 \nL 109.429007 151.871419 \nL 110.448185 107.746968 \nL 110.702979 171.030059 \nL 110.957774 150.399886 \nL 111.212568 150.938252 \nL 112.231747 107.33781 \nL 112.486541 171.920157 \nL 112.741336 150.206074 \nL 112.99613 149.22266 \nL 113.250925 140.946185 \nL 113.760514 117.588293 \nL 114.015308 106.828157 \nL 114.270103 171.855553 \nL 114.524897 151.14642 \nL 114.779692 149.990728 \nL 115.289281 128.441745 \nL 115.544075 118.428143 \nL 116.053664 208.600805 \nL 116.308459 193.634239 \nL 116.563253 193.246616 \nL 117.072842 177.820644 \nL 117.582432 164.483532 \nL 117.837226 210.029268 \nL 118.092021 194.02904 \nL 118.346815 193.605526 \nL 119.365993 161.24616 \nL 119.620788 208.98125 \nL 119.875582 195.435969 \nL 120.130377 194.50998 \nL 120.89476 170.053822 \nL 121.149555 161.569179 \nL 121.404349 209.34016 \nL 121.659144 194.35206 \nL 121.913938 192.736963 \nL 122.423527 180.56272 \nL 122.678322 170.613723 \nL 122.933116 165.481303 \nL 123.187911 209.914417 \nL 123.442705 194.940673 \nL 123.6975 191.26543 \nL 123.952295 180.663215 \nL 124.207089 175.545152 \nL 124.716678 158.059035 \nL 124.971473 206.468877 \nL 125.226267 190.490183 \nL 125.481062 190.360976 \nL 125.990651 174.03055 \nL 126.50024 159.559281 \nL 126.755034 206.684223 \nL 127.009829 189.958996 \nL 127.264623 191.021371 \nL 127.774212 174.525847 \nL 128.283801 158.697896 \nL 128.538596 205.880263 \nL 128.79339 191.782261 \nL 129.048185 190.052313 \nL 129.302979 182.723361 \nL 129.812568 165.258779 \nL 130.067363 157.700125 \nL 130.322158 206.246352 \nL 130.576952 190.052313 \nL 130.831747 190.490183 \nL 131.341336 173.197878 \nL 131.59613 151.656073 \nL 131.850925 139.919701 \nL 132.105719 194.861713 \nL 132.360514 177.39713 \nL 132.615308 175.423123 \nL 133.379692 149.315976 \nL 133.634486 141.104105 \nL 133.889281 196.570126 \nL 134.144075 177.619655 \nL 134.39887 178.129307 \nL 135.418048 142.073164 \nL 135.672842 196.591661 \nL 135.927637 177.978565 \nL 136.182432 176.909012 \nL 137.20161 141.312273 \nL 137.456404 194.35206 \nL 137.711199 177.892427 \nL 137.965993 176.004558 \nL 138.220788 169.400605 \nL 138.475582 159.616706 \nL 138.730377 121.715763 \nL 138.985171 109.433847 \nL 139.239966 173.843917 \nL 139.49476 151.038747 \nL 139.749555 151.490974 \nL 140.513938 121.514773 \nL 140.768733 109.175432 \nL 141.023527 174.597629 \nL 141.278322 152.840477 \nL 141.533116 153.637258 \nL 142.552295 109.412313 \nL 142.807089 174.547381 \nL 143.061884 153.077358 \nL 143.316678 153.163497 \nL 143.826267 131.758077 \nL 144.335856 109.189788 \nL 144.590651 174.475599 \nL 144.845445 154.584782 \nL 145.10024 152.036518 \nL 146.119418 109.469738 \nL 146.374212 173.858273 \nL 146.629007 129.913278 \nL 146.883801 128.491992 \nL 147.39339 104.121973 \nL 147.902979 74.806167 \nL 148.157774 152.538992 \nL 148.412568 126.783578 \nL 148.667363 127.558825 \nL 149.686541 77.139085 \nL 149.941336 152.251864 \nL 150.19613 126.805113 \nL 150.450925 127.508578 \nL 151.215308 89.858871 \nL 151.470103 77.196511 \nL 151.724897 153.199388 \nL 151.979692 125.950906 \nL 152.234486 127.838775 \nL 152.99887 90.598227 \nL 153.253664 76.191561 \nL 153.508459 153.364486 \nL 153.763253 126.948677 \nL 154.018048 126.812291 \nL 154.272842 100.855887 \nL 155.037226 61.196283 \nL 155.292021 142.295688 \nL 155.546815 112.857853 \nL 155.80161 116.411066 \nL 156.820788 62.4094 \nL 157.075582 140.013018 \nL 157.330377 113.582852 \nL 157.585171 113.905871 \nL 158.604349 61.217817 \nL 158.859144 142.69049 \nL 159.113938 115.406117 \nL 159.368733 114.401168 \nL 160.387911 62.359153 \nL 160.642705 141.448659 \nL 160.8975 114.221713 \nL 161.152295 114.961068 \nL 161.916678 75.129186 \nL 162.171473 45.231946 \nL 162.426267 131.126395 \nL 162.681062 104.689051 \nL 162.935856 100.374947 \nL 163.70024 62.617568 \nL 163.955034 46.071796 \nL 164.209829 131.004365 \nL 164.464623 101.358362 \nL 164.719418 102.636083 \nL 165.483801 57.391832 \nL 165.738596 41.204971 \nL 165.99339 130.272188 \nL 166.248185 101.903906 \nL 166.502979 101.710094 \nL 167.522158 46.861399 \nL 167.776952 129.245704 \nL 168.031747 105.162813 \nL 168.286541 101.681382 \nL 169.050925 58.525989 \nL 169.305719 44.528481 \nL 169.560514 132.483076 \nL 169.815308 90.605405 \nL 170.070103 89.291793 \nL 171.089281 28.657461 \nL 171.344075 119.325419 \nL 171.59887 89.019021 \nL 171.853664 92.478918 \nL 172.618048 44.018829 \nL 172.872842 31.248795 \nL 173.127637 121.694228 \nL 173.382432 89.607634 \nL 173.637226 90.971494 \nL 174.656404 29.124045 \nL 174.911199 119.08136 \nL 175.165993 91.897483 \nL 175.420788 92.837828 \nL 176.439966 27.875036 \nL 176.69476 121.163041 \nL 176.949555 90.30392 \nL 177.204349 89.657881 \nL 177.459144 74.842058 \nL 177.713938 90.153178 \nL 178.223527 64.282913 \nL 178.478322 142.532569 \nL 178.733116 115.729137 \nL 178.987911 114.451415 \nL 179.752295 75.416315 \nL 180.007089 60.456927 \nL 180.261884 142.202371 \nL 180.516678 115.700424 \nL 180.771473 116.19572 \nL 181.790651 59.631433 \nL 182.045445 141.714253 \nL 182.30024 116.016265 \nL 182.555034 115.578394 \nL 183.574212 62.179697 \nL 183.829007 142.683311 \nL 184.083801 114.020723 \nL 184.338596 115.686067 \nL 185.357774 61.662866 \nL 185.612568 153.823892 \nL 185.867363 128.204864 \nL 186.122158 127.874666 \nL 187.141336 76.234631 \nL 187.39613 152.215973 \nL 187.650925 127.164024 \nL 187.905719 126.963034 \nL 188.415308 103.928161 \nL 188.924897 75.890077 \nL 189.179692 151.333053 \nL 189.434486 127.472686 \nL 189.689281 127.501399 \nL 190.708459 77.620025 \nL 190.963253 152.02934 \nL 191.218048 127.616251 \nL 191.472842 129.073427 \nL 192.237226 89.413822 \nL 192.492021 78.495766 \nL 192.746815 152.675378 \nL 193.00161 128.578131 \nL 193.256404 140.185295 \nL 193.765993 117.258095 \nL 194.275582 94.761588 \nL 194.530377 162.789475 \nL 194.785171 142.532569 \nL 195.039966 138.792722 \nL 195.804349 107.316276 \nL 196.059144 94.287826 \nL 196.313938 162.832544 \nL 196.568733 139.417226 \nL 196.823527 141.692719 \nL 197.333116 118.069233 \nL 197.842705 93.519758 \nL 198.0975 163.564721 \nL 198.352295 139.165989 \nL 198.607089 138.807079 \nL 199.626267 93.99352 \nL 199.881062 163.665216 \nL 200.135856 140.292968 \nL 200.390651 140.127869 \nL 200.90024 116.992501 \nL 201.155034 89.535852 \nL 201.409829 78.790073 \nL 201.664623 151.577112 \nL 201.919418 128.850903 \nL 202.174212 128.49917 \nL 202.683801 102.894499 \nL 203.19339 79.148983 \nL 203.448185 154.182802 \nL 203.702979 126.690262 \nL 203.957774 126.625658 \nL 204.976952 77.864084 \nL 205.231747 153.048645 \nL 205.486541 128.090012 \nL 205.741336 127.235806 \nL 206.505719 89.421001 \nL 206.760514 76.780174 \nL 207.015308 151.447905 \nL 207.270103 127.120954 \nL 207.524897 126.180609 \nL 208.034486 101.731629 \nL 208.544075 78.07943 \nL 208.79887 195.357009 \nL 209.053664 177.188962 \nL 209.308459 178.545644 \nL 210.072842 150.428599 \nL 210.327637 144.901378 \nL 210.582432 194.847356 \nL 210.837226 176.191191 \nL 211.092021 177.820644 \nL 212.111199 141.649649 \nL 212.365993 197.007997 \nL 212.620788 177.181784 \nL 212.875582 175.95431 \nL 213.639966 152.582062 \nL 213.89476 141.441481 \nL 214.149555 194.883247 \nL 214.404349 177.325348 \nL 214.659144 178.933267 \nL 215.678322 141.190244 \nL 215.933116 196.060474 \nL 216.187911 177.978565 \nL 216.442705 179.191682 \nL 216.6975 179.277821 \nL 217.461884 151.462261 \nL 217.716678 200.747844 \nL 217.971473 185.034745 \nL 218.226267 186.118654 \nL 218.990651 159.80334 \nL 219.245445 151.031568 \nL 219.50024 202.664426 \nL 219.755034 185.077814 \nL 220.009829 184.187716 \nL 221.029007 152.007805 \nL 221.283801 201.228784 \nL 221.538596 185.860239 \nL 221.79339 185.343408 \nL 222.812568 150.66548 \nL 223.067363 201.939427 \nL 223.322158 185.077814 \nL 223.576952 184.797864 \nL 223.831747 178.947623 \nL 224.341336 160.08329 \nL 224.59613 134.99545 \nL 224.850925 191.071618 \nL 225.105719 172.939462 \nL 225.360514 172.795898 \nL 226.379692 133.624412 \nL 226.634486 189.829788 \nL 226.889281 171.001346 \nL 227.144075 171.353078 \nL 228.163253 135.849656 \nL 228.418048 191.602806 \nL 228.672842 171.848375 \nL 228.927637 172.523126 \nL 229.437226 153.314239 \nL 229.946815 134.234559 \nL 230.20161 191.717657 \nL 230.456404 173.004066 \nL 230.711199 172.566195 \nL 231.475582 145.446922 \nL 231.730377 100.030393 \nL 231.985171 168.869418 \nL 232.239966 145.970931 \nL 232.49476 146.085782 \nL 233.513938 100.855887 \nL 233.768733 169.594417 \nL 234.023527 146.932811 \nL 234.278322 145.985288 \nL 235.2975 101.020986 \nL 235.552295 167.405063 \nL 235.807089 146.401624 \nL 236.061884 146.308307 \nL 236.316678 136.567477 \nL 236.571473 119.792003 \nL 236.826267 111.910329 \nL 237.081062 99.815047 \nL 237.335856 169.371892 \nL 237.590651 145.820189 \nL 237.845445 147.248652 \nL 238.864623 100.109354 \nL 239.119418 167.189717 \nL 240.138596 91.718027 \nL 240.648185 68.022759 \nL 240.902979 145.906327 \nL 241.157774 119.497696 \nL 241.412568 123.381107 \nL 241.922158 94.75441 \nL 242.431747 66.249742 \nL 242.686541 147.255831 \nL 242.941336 121.457347 \nL 243.19613 122.914524 \nL 243.705719 91.718027 \nL 244.215308 65.955435 \nL 244.470103 147.212761 \nL 244.724897 121.730119 \nL 244.979692 120.179626 \nL 245.99887 66.299989 \nL 246.253664 146.502119 \nL 246.508459 120.337547 \nL 246.763253 120.782596 \nL 247.018048 105.485832 \nL 247.272842 78.48141 \nL 247.782432 53.616094 \nL 248.037226 135.282578 \nL 248.292021 107.280385 \nL 248.546815 106.426178 \nL 249.565993 51.211394 \nL 249.820788 135.71327 \nL 250.075582 107.287563 \nL 250.330377 107.366523 \nL 251.09476 64.498259 \nL 251.349555 49.538871 \nL 251.604349 134.894955 \nL 251.859144 105.442763 \nL 252.113938 104.997714 \nL 253.133116 50.802236 \nL 253.387911 134.715499 \nL 253.642705 105.277664 \nL 253.8975 106.677415 \nL 254.916678 51.42674 \nL 255.171473 124.163532 \nL 255.426267 92.895254 \nL 255.681062 93.964807 \nL 256.70024 33.545822 \nL 256.955034 124.141998 \nL 257.209829 92.866541 \nL 257.464623 94.359608 \nL 258.483801 31.578992 \nL 258.738596 124.77368 \nL 258.99339 92.995749 \nL 259.248185 94.015054 \nL 260.267363 34.242108 \nL 260.522158 125.103878 \nL 260.776952 93.577184 \nL 261.031747 93.656144 \nL 262.050925 34.39285 \nL 262.305719 122.943237 \nL 262.560514 92.285106 \nL 262.815308 82.537098 \nL 263.834486 17.667623 \nL 264.089281 112.570725 \nL 264.344075 81.00814 \nL 264.59887 78.969528 \nL 265.108459 48.691843 \nL 265.618048 17.28 \nL 265.872842 111.214043 \nL 266.127637 80.922001 \nL 266.382432 79.708884 \nL 267.40161 18.191633 \nL 267.656404 110.718747 \nL 267.911199 81.259377 \nL 268.165993 80.311853 \nL 269.185171 19.131978 \nL 269.439966 113.381862 \nL 269.69476 80.792793 \nL 269.949555 81.036852 \nL 270.459144 49.474267 \nL 270.713938 63.57227 \nL 270.968733 48.914367 \nL 271.223527 132.798918 \nL 271.478322 108.256621 \nL 271.733116 107.668008 \nL 272.752295 49.316347 \nL 273.007089 135.418964 \nL 273.261884 107.481374 \nL 273.516678 108.62271 \nL 274.535856 50.629959 \nL 274.790651 133.904362 \nL 275.045445 108.443254 \nL 275.30024 106.124693 \nL 276.319418 50.091593 \nL 276.574212 135.282578 \nL 276.829007 108.70167 \nL 277.083801 107.25885 \nL 278.102979 48.792338 \nL 278.357774 133.689015 \nL 278.612568 120.782596 \nL 278.867363 119.985814 \nL 279.886541 66.271276 \nL 280.141336 146.207812 \nL 280.39613 120.875912 \nL 280.650925 119.138786 \nL 281.670103 66.795286 \nL 281.924897 146.961524 \nL 282.179692 118.248688 \nL 282.434486 119.246459 \nL 283.453664 66.989097 \nL 283.708459 144.922913 \nL 283.963253 120.92616 \nL 284.218048 120.832843 \nL 285.237226 68.166324 \nL 285.492021 146.107317 \nL 285.746815 119.260815 \nL 286.00161 120.280121 \nL 286.256404 120.481111 \nL 287.020788 85.049471 \nL 287.275582 156.709532 \nL 287.530377 133.394709 \nL 287.785171 133.566986 \nL 288.804349 83.750215 \nL 289.059144 157.097155 \nL 289.313938 132.533324 \nL 289.568733 133.897184 \nL 290.587911 83.915314 \nL 290.842705 158.059035 \nL 291.0975 132.94966 \nL 291.352295 132.971195 \nL 292.371473 82.996503 \nL 292.626267 158.015966 \nL 292.881062 133.157828 \nL 293.135856 132.145701 \nL 293.390651 123.481602 \nL 293.90024 95.881389 \nL 294.155034 67.362364 \nL 294.409829 145.93504 \nL 294.664623 119.267994 \nL 294.919418 119.490518 \nL 295.938596 67.204444 \nL 296.19339 148.282314 \nL 296.448185 120.301656 \nL 296.702979 119.648439 \nL 297.722158 67.096771 \nL 297.976952 145.425387 \nL 298.231747 118.650668 \nL 298.486541 120.517002 \nL 299.505719 67.972512 \nL 299.760514 147.49989 \nL 300.015308 118.686559 \nL 300.270103 119.957102 \nL 300.779692 92.184611 \nL 301.289281 67.240335 \nL 301.544075 147.428108 \nL 301.79887 173.607036 \nL 302.053664 171.977582 \nL 303.072842 132.483076 \nL 303.327637 191.308499 \nL 303.582432 171.597137 \nL 303.837226 171.762236 \nL 304.092021 164.397394 \nL 304.856404 135.749161 \nL 305.111199 190.497362 \nL 305.365993 170.46298 \nL 305.620788 170.010753 \nL 305.875582 163.665216 \nL 306.639966 133.674659 \nL 306.89476 190.454292 \nL 307.149555 173.664461 \nL 307.404349 173.499363 \nL 308.168733 143.17143 \nL 308.423527 135.907082 \nL 308.678322 191.172113 \nL 308.933116 170.829069 \nL 309.187911 172.350849 \nL 309.6975 158.231312 \nL 309.6975 158.231312 \n\" clip-path=\"url(#p7e1c5d7dbb)\" style=\"fill: none; stroke: #4c72b0; stroke-width: 1.5; stroke-linecap: round\"/>\n   </g>\n   <g id=\"patch_3\">\n    <path d=\"M 30.6975 228.96 \nL 30.6975 7.2 \n\" style=\"fill: none; stroke: #ffffff; stroke-width: 1.25; stroke-linejoin: miter; stroke-linecap: square\"/>\n   </g>\n   <g id=\"patch_4\">\n    <path d=\"M 309.6975 228.96 \nL 309.6975 7.2 \n\" style=\"fill: none; stroke: #ffffff; stroke-width: 1.25; stroke-linejoin: miter; stroke-linecap: square\"/>\n   </g>\n   <g id=\"patch_5\">\n    <path d=\"M 30.6975 228.96 \nL 309.6975 228.96 \n\" style=\"fill: none; stroke: #ffffff; stroke-width: 1.25; stroke-linejoin: miter; stroke-linecap: square\"/>\n   </g>\n   <g id=\"patch_6\">\n    <path d=\"M 30.6975 7.2 \nL 309.6975 7.2 \n\" style=\"fill: none; stroke: #ffffff; stroke-width: 1.25; stroke-linejoin: miter; stroke-linecap: square\"/>\n   </g>\n  </g>\n </g>\n <defs>\n  <clipPath id=\"p7e1c5d7dbb\">\n   <rect x=\"30.6975\" y=\"7.2\" width=\"279\" height=\"221.76\"/>\n  </clipPath>\n </defs>\n</svg>\n"
          },
          "metadata": {}
        }
      ]
    },
    {
      "cell_type": "code",
      "source": [
        "test_data['sales'].plot()"
      ],
      "metadata": {
        "colab": {
          "base_uri": "https://localhost:8080/",
          "height": 418
        },
        "id": "AWIjwmZUohTA",
        "outputId": "0c5885fb-9223-438a-f454-d8069ff33810"
      },
      "execution_count": null,
      "outputs": [
        {
          "output_type": "execute_result",
          "data": {
            "text/plain": [
              "<Axes: xlabel='date'>"
            ]
          },
          "metadata": {},
          "execution_count": 195
        },
        {
          "output_type": "display_data",
          "data": {
            "text/plain": [
              "<Figure size 500x400 with 1 Axes>"
            ],
            "image/svg+xml": "<?xml version=\"1.0\" encoding=\"utf-8\" standalone=\"no\"?>\n<!DOCTYPE svg PUBLIC \"-//W3C//DTD SVG 1.1//EN\"\n  \"http://www.w3.org/Graphics/SVG/1.1/DTD/svg11.dtd\">\n<svg xmlns:xlink=\"http://www.w3.org/1999/xlink\" width=\"316.8975pt\" height=\"284.237281pt\" viewBox=\"0 0 316.8975 284.237281\" xmlns=\"http://www.w3.org/2000/svg\" version=\"1.1\">\n <metadata>\n  <rdf:RDF xmlns:dc=\"http://purl.org/dc/elements/1.1/\" xmlns:cc=\"http://creativecommons.org/ns#\" xmlns:rdf=\"http://www.w3.org/1999/02/22-rdf-syntax-ns#\">\n   <cc:Work>\n    <dc:type rdf:resource=\"http://purl.org/dc/dcmitype/StillImage\"/>\n    <dc:date>2023-09-04T05:39:00.415489</dc:date>\n    <dc:format>image/svg+xml</dc:format>\n    <dc:creator>\n     <cc:Agent>\n      <dc:title>Matplotlib v3.7.1, https://matplotlib.org/</dc:title>\n     </cc:Agent>\n    </dc:creator>\n   </cc:Work>\n  </rdf:RDF>\n </metadata>\n <defs>\n  <style type=\"text/css\">*{stroke-linejoin: round; stroke-linecap: butt}</style>\n </defs>\n <g id=\"figure_1\">\n  <g id=\"patch_1\">\n   <path d=\"M 0 284.237281 \nL 316.8975 284.237281 \nL 316.8975 0 \nL 0 0 \nz\n\" style=\"fill: #ffffff\"/>\n  </g>\n  <g id=\"axes_1\">\n   <g id=\"patch_2\">\n    <path d=\"M 30.6975 228.96 \nL 309.6975 228.96 \nL 309.6975 7.2 \nL 30.6975 7.2 \nz\n\" style=\"fill: #eaeaf2\"/>\n   </g>\n   <g id=\"matplotlib.axis_1\">\n    <g id=\"xtick_1\">\n     <g id=\"line2d_1\">\n      <path d=\"M 30.6975 228.96 \nL 30.6975 7.2 \n\" clip-path=\"url(#p85b0f0c422)\" style=\"fill: none; stroke: #ffffff; stroke-linecap: round\"/>\n     </g>\n     <g id=\"text_1\">\n      <!-- Jan -->\n      <g style=\"fill: #262626\" transform=\"translate(22.218906 246.818281) scale(0.11 -0.11)\">\n       <defs>\n        <path id=\"DejaVuSans-4a\" d=\"M 628 4666 \nL 1259 4666 \nL 1259 325 \nQ 1259 -519 939 -900 \nQ 619 -1281 -91 -1281 \nL -331 -1281 \nL -331 -750 \nL -134 -750 \nQ 284 -750 456 -515 \nQ 628 -281 628 325 \nL 628 4666 \nz\n\" transform=\"scale(0.015625)\"/>\n        <path id=\"DejaVuSans-61\" d=\"M 2194 1759 \nQ 1497 1759 1228 1600 \nQ 959 1441 959 1056 \nQ 959 750 1161 570 \nQ 1363 391 1709 391 \nQ 2188 391 2477 730 \nQ 2766 1069 2766 1631 \nL 2766 1759 \nL 2194 1759 \nz\nM 3341 1997 \nL 3341 0 \nL 2766 0 \nL 2766 531 \nQ 2569 213 2275 61 \nQ 1981 -91 1556 -91 \nQ 1019 -91 701 211 \nQ 384 513 384 1019 \nQ 384 1609 779 1909 \nQ 1175 2209 1959 2209 \nL 2766 2209 \nL 2766 2266 \nQ 2766 2663 2505 2880 \nQ 2244 3097 1772 3097 \nQ 1472 3097 1187 3025 \nQ 903 2953 641 2809 \nL 641 3341 \nQ 956 3463 1253 3523 \nQ 1550 3584 1831 3584 \nQ 2591 3584 2966 3190 \nQ 3341 2797 3341 1997 \nz\n\" transform=\"scale(0.015625)\"/>\n        <path id=\"DejaVuSans-6e\" d=\"M 3513 2113 \nL 3513 0 \nL 2938 0 \nL 2938 2094 \nQ 2938 2591 2744 2837 \nQ 2550 3084 2163 3084 \nQ 1697 3084 1428 2787 \nQ 1159 2491 1159 1978 \nL 1159 0 \nL 581 0 \nL 581 3500 \nL 1159 3500 \nL 1159 2956 \nQ 1366 3272 1645 3428 \nQ 1925 3584 2291 3584 \nQ 2894 3584 3203 3211 \nQ 3513 2838 3513 2113 \nz\n\" transform=\"scale(0.015625)\"/>\n       </defs>\n       <use xlink:href=\"#DejaVuSans-4a\"/>\n       <use xlink:href=\"#DejaVuSans-61\" x=\"29.492188\"/>\n       <use xlink:href=\"#DejaVuSans-6e\" x=\"90.771484\"/>\n      </g>\n      <!-- 2017 -->\n      <g style=\"fill: #262626\" transform=\"translate(16.7 259.135875) scale(0.11 -0.11)\">\n       <defs>\n        <path id=\"DejaVuSans-32\" d=\"M 1228 531 \nL 3431 531 \nL 3431 0 \nL 469 0 \nL 469 531 \nQ 828 903 1448 1529 \nQ 2069 2156 2228 2338 \nQ 2531 2678 2651 2914 \nQ 2772 3150 2772 3378 \nQ 2772 3750 2511 3984 \nQ 2250 4219 1831 4219 \nQ 1534 4219 1204 4116 \nQ 875 4013 500 3803 \nL 500 4441 \nQ 881 4594 1212 4672 \nQ 1544 4750 1819 4750 \nQ 2544 4750 2975 4387 \nQ 3406 4025 3406 3419 \nQ 3406 3131 3298 2873 \nQ 3191 2616 2906 2266 \nQ 2828 2175 2409 1742 \nQ 1991 1309 1228 531 \nz\n\" transform=\"scale(0.015625)\"/>\n        <path id=\"DejaVuSans-30\" d=\"M 2034 4250 \nQ 1547 4250 1301 3770 \nQ 1056 3291 1056 2328 \nQ 1056 1369 1301 889 \nQ 1547 409 2034 409 \nQ 2525 409 2770 889 \nQ 3016 1369 3016 2328 \nQ 3016 3291 2770 3770 \nQ 2525 4250 2034 4250 \nz\nM 2034 4750 \nQ 2819 4750 3233 4129 \nQ 3647 3509 3647 2328 \nQ 3647 1150 3233 529 \nQ 2819 -91 2034 -91 \nQ 1250 -91 836 529 \nQ 422 1150 422 2328 \nQ 422 3509 836 4129 \nQ 1250 4750 2034 4750 \nz\n\" transform=\"scale(0.015625)\"/>\n        <path id=\"DejaVuSans-31\" d=\"M 794 531 \nL 1825 531 \nL 1825 4091 \nL 703 3866 \nL 703 4441 \nL 1819 4666 \nL 2450 4666 \nL 2450 531 \nL 3481 531 \nL 3481 0 \nL 794 0 \nL 794 531 \nz\n\" transform=\"scale(0.015625)\"/>\n        <path id=\"DejaVuSans-37\" d=\"M 525 4666 \nL 3525 4666 \nL 3525 4397 \nL 1831 0 \nL 1172 0 \nL 2766 4134 \nL 525 4134 \nL 525 4666 \nz\n\" transform=\"scale(0.015625)\"/>\n       </defs>\n       <use xlink:href=\"#DejaVuSans-32\"/>\n       <use xlink:href=\"#DejaVuSans-30\" x=\"63.623047\"/>\n       <use xlink:href=\"#DejaVuSans-31\" x=\"127.246094\"/>\n       <use xlink:href=\"#DejaVuSans-37\" x=\"190.869141\"/>\n      </g>\n     </g>\n    </g>\n    <g id=\"xtick_2\">\n     <g id=\"line2d_2\">\n      <path d=\"M 54.458489 228.96 \nL 54.458489 7.2 \n\" clip-path=\"url(#p85b0f0c422)\" style=\"fill: none; stroke: #ffffff; stroke-linecap: round\"/>\n     </g>\n     <g id=\"text_2\">\n      <!-- Feb -->\n      <g style=\"fill: #262626\" transform=\"translate(44.72177 246.818281) scale(0.11 -0.11)\">\n       <defs>\n        <path id=\"DejaVuSans-46\" d=\"M 628 4666 \nL 3309 4666 \nL 3309 4134 \nL 1259 4134 \nL 1259 2759 \nL 3109 2759 \nL 3109 2228 \nL 1259 2228 \nL 1259 0 \nL 628 0 \nL 628 4666 \nz\n\" transform=\"scale(0.015625)\"/>\n        <path id=\"DejaVuSans-65\" d=\"M 3597 1894 \nL 3597 1613 \nL 953 1613 \nQ 991 1019 1311 708 \nQ 1631 397 2203 397 \nQ 2534 397 2845 478 \nQ 3156 559 3463 722 \nL 3463 178 \nQ 3153 47 2828 -22 \nQ 2503 -91 2169 -91 \nQ 1331 -91 842 396 \nQ 353 884 353 1716 \nQ 353 2575 817 3079 \nQ 1281 3584 2069 3584 \nQ 2775 3584 3186 3129 \nQ 3597 2675 3597 1894 \nz\nM 3022 2063 \nQ 3016 2534 2758 2815 \nQ 2500 3097 2075 3097 \nQ 1594 3097 1305 2825 \nQ 1016 2553 972 2059 \nL 3022 2063 \nz\n\" transform=\"scale(0.015625)\"/>\n        <path id=\"DejaVuSans-62\" d=\"M 3116 1747 \nQ 3116 2381 2855 2742 \nQ 2594 3103 2138 3103 \nQ 1681 3103 1420 2742 \nQ 1159 2381 1159 1747 \nQ 1159 1113 1420 752 \nQ 1681 391 2138 391 \nQ 2594 391 2855 752 \nQ 3116 1113 3116 1747 \nz\nM 1159 2969 \nQ 1341 3281 1617 3432 \nQ 1894 3584 2278 3584 \nQ 2916 3584 3314 3078 \nQ 3713 2572 3713 1747 \nQ 3713 922 3314 415 \nQ 2916 -91 2278 -91 \nQ 1894 -91 1617 61 \nQ 1341 213 1159 525 \nL 1159 0 \nL 581 0 \nL 581 4863 \nL 1159 4863 \nL 1159 2969 \nz\n\" transform=\"scale(0.015625)\"/>\n       </defs>\n       <use xlink:href=\"#DejaVuSans-46\"/>\n       <use xlink:href=\"#DejaVuSans-65\" x=\"52.019531\"/>\n       <use xlink:href=\"#DejaVuSans-62\" x=\"113.542969\"/>\n      </g>\n     </g>\n    </g>\n    <g id=\"xtick_3\">\n     <g id=\"line2d_3\">\n      <path d=\"M 75.920027 228.96 \nL 75.920027 7.2 \n\" clip-path=\"url(#p85b0f0c422)\" style=\"fill: none; stroke: #ffffff; stroke-linecap: round\"/>\n     </g>\n     <g id=\"text_3\">\n      <!-- Mar -->\n      <g style=\"fill: #262626\" transform=\"translate(65.543074 246.818281) scale(0.11 -0.11)\">\n       <defs>\n        <path id=\"DejaVuSans-4d\" d=\"M 628 4666 \nL 1569 4666 \nL 2759 1491 \nL 3956 4666 \nL 4897 4666 \nL 4897 0 \nL 4281 0 \nL 4281 4097 \nL 3078 897 \nL 2444 897 \nL 1241 4097 \nL 1241 0 \nL 628 0 \nL 628 4666 \nz\n\" transform=\"scale(0.015625)\"/>\n        <path id=\"DejaVuSans-72\" d=\"M 2631 2963 \nQ 2534 3019 2420 3045 \nQ 2306 3072 2169 3072 \nQ 1681 3072 1420 2755 \nQ 1159 2438 1159 1844 \nL 1159 0 \nL 581 0 \nL 581 3500 \nL 1159 3500 \nL 1159 2956 \nQ 1341 3275 1631 3429 \nQ 1922 3584 2338 3584 \nQ 2397 3584 2469 3576 \nQ 2541 3569 2628 3553 \nL 2631 2963 \nz\n\" transform=\"scale(0.015625)\"/>\n       </defs>\n       <use xlink:href=\"#DejaVuSans-4d\"/>\n       <use xlink:href=\"#DejaVuSans-61\" x=\"86.279297\"/>\n       <use xlink:href=\"#DejaVuSans-72\" x=\"147.558594\"/>\n      </g>\n     </g>\n    </g>\n    <g id=\"xtick_4\">\n     <g id=\"line2d_4\">\n      <path d=\"M 99.681016 228.96 \nL 99.681016 7.2 \n\" clip-path=\"url(#p85b0f0c422)\" style=\"fill: none; stroke: #ffffff; stroke-linecap: round\"/>\n     </g>\n     <g id=\"text_4\">\n      <!-- Apr -->\n      <g style=\"fill: #262626\" transform=\"translate(90.166016 246.818281) scale(0.11 -0.11)\">\n       <defs>\n        <path id=\"DejaVuSans-41\" d=\"M 2188 4044 \nL 1331 1722 \nL 3047 1722 \nL 2188 4044 \nz\nM 1831 4666 \nL 2547 4666 \nL 4325 0 \nL 3669 0 \nL 3244 1197 \nL 1141 1197 \nL 716 0 \nL 50 0 \nL 1831 4666 \nz\n\" transform=\"scale(0.015625)\"/>\n        <path id=\"DejaVuSans-70\" d=\"M 1159 525 \nL 1159 -1331 \nL 581 -1331 \nL 581 3500 \nL 1159 3500 \nL 1159 2969 \nQ 1341 3281 1617 3432 \nQ 1894 3584 2278 3584 \nQ 2916 3584 3314 3078 \nQ 3713 2572 3713 1747 \nQ 3713 922 3314 415 \nQ 2916 -91 2278 -91 \nQ 1894 -91 1617 61 \nQ 1341 213 1159 525 \nz\nM 3116 1747 \nQ 3116 2381 2855 2742 \nQ 2594 3103 2138 3103 \nQ 1681 3103 1420 2742 \nQ 1159 2381 1159 1747 \nQ 1159 1113 1420 752 \nQ 1681 391 2138 391 \nQ 2594 391 2855 752 \nQ 3116 1113 3116 1747 \nz\n\" transform=\"scale(0.015625)\"/>\n       </defs>\n       <use xlink:href=\"#DejaVuSans-41\"/>\n       <use xlink:href=\"#DejaVuSans-70\" x=\"68.408203\"/>\n       <use xlink:href=\"#DejaVuSans-72\" x=\"131.884766\"/>\n      </g>\n     </g>\n    </g>\n    <g id=\"xtick_5\">\n     <g id=\"line2d_5\">\n      <path d=\"M 122.675522 228.96 \nL 122.675522 7.2 \n\" clip-path=\"url(#p85b0f0c422)\" style=\"fill: none; stroke: #ffffff; stroke-linecap: round\"/>\n     </g>\n     <g id=\"text_5\">\n      <!-- May -->\n      <g style=\"fill: #262626\" transform=\"translate(111.304272 246.818281) scale(0.11 -0.11)\">\n       <defs>\n        <path id=\"DejaVuSans-79\" d=\"M 2059 -325 \nQ 1816 -950 1584 -1140 \nQ 1353 -1331 966 -1331 \nL 506 -1331 \nL 506 -850 \nL 844 -850 \nQ 1081 -850 1212 -737 \nQ 1344 -625 1503 -206 \nL 1606 56 \nL 191 3500 \nL 800 3500 \nL 1894 763 \nL 2988 3500 \nL 3597 3500 \nL 2059 -325 \nz\n\" transform=\"scale(0.015625)\"/>\n       </defs>\n       <use xlink:href=\"#DejaVuSans-4d\"/>\n       <use xlink:href=\"#DejaVuSans-61\" x=\"86.279297\"/>\n       <use xlink:href=\"#DejaVuSans-79\" x=\"147.558594\"/>\n      </g>\n     </g>\n    </g>\n    <g id=\"xtick_6\">\n     <g id=\"line2d_6\">\n      <path d=\"M 146.436511 228.96 \nL 146.436511 7.2 \n\" clip-path=\"url(#p85b0f0c422)\" style=\"fill: none; stroke: #ffffff; stroke-linecap: round\"/>\n     </g>\n     <g id=\"text_6\">\n      <!-- Jun -->\n      <g style=\"fill: #262626\" transform=\"translate(137.842761 246.818281) scale(0.11 -0.11)\">\n       <defs>\n        <path id=\"DejaVuSans-75\" d=\"M 544 1381 \nL 544 3500 \nL 1119 3500 \nL 1119 1403 \nQ 1119 906 1312 657 \nQ 1506 409 1894 409 \nQ 2359 409 2629 706 \nQ 2900 1003 2900 1516 \nL 2900 3500 \nL 3475 3500 \nL 3475 0 \nL 2900 0 \nL 2900 538 \nQ 2691 219 2414 64 \nQ 2138 -91 1772 -91 \nQ 1169 -91 856 284 \nQ 544 659 544 1381 \nz\nM 1991 3584 \nL 1991 3584 \nz\n\" transform=\"scale(0.015625)\"/>\n       </defs>\n       <use xlink:href=\"#DejaVuSans-4a\"/>\n       <use xlink:href=\"#DejaVuSans-75\" x=\"29.492188\"/>\n       <use xlink:href=\"#DejaVuSans-6e\" x=\"92.871094\"/>\n      </g>\n     </g>\n    </g>\n    <g id=\"xtick_7\">\n     <g id=\"line2d_7\">\n      <path d=\"M 169.431016 228.96 \nL 169.431016 7.2 \n\" clip-path=\"url(#p85b0f0c422)\" style=\"fill: none; stroke: #ffffff; stroke-linecap: round\"/>\n     </g>\n     <g id=\"text_7\">\n      <!-- Jul -->\n      <g style=\"fill: #262626\" transform=\"translate(162.794923 246.818281) scale(0.11 -0.11)\">\n       <defs>\n        <path id=\"DejaVuSans-6c\" d=\"M 603 4863 \nL 1178 4863 \nL 1178 0 \nL 603 0 \nL 603 4863 \nz\n\" transform=\"scale(0.015625)\"/>\n       </defs>\n       <use xlink:href=\"#DejaVuSans-4a\"/>\n       <use xlink:href=\"#DejaVuSans-75\" x=\"29.492188\"/>\n       <use xlink:href=\"#DejaVuSans-6c\" x=\"92.871094\"/>\n      </g>\n     </g>\n    </g>\n    <g id=\"xtick_8\">\n     <g id=\"line2d_8\">\n      <path d=\"M 193.192005 228.96 \nL 193.192005 7.2 \n\" clip-path=\"url(#p85b0f0c422)\" style=\"fill: none; stroke: #ffffff; stroke-linecap: round\"/>\n     </g>\n     <g id=\"text_8\">\n      <!-- Aug -->\n      <g style=\"fill: #262626\" transform=\"translate(182.452396 246.818281) scale(0.11 -0.11)\">\n       <defs>\n        <path id=\"DejaVuSans-67\" d=\"M 2906 1791 \nQ 2906 2416 2648 2759 \nQ 2391 3103 1925 3103 \nQ 1463 3103 1205 2759 \nQ 947 2416 947 1791 \nQ 947 1169 1205 825 \nQ 1463 481 1925 481 \nQ 2391 481 2648 825 \nQ 2906 1169 2906 1791 \nz\nM 3481 434 \nQ 3481 -459 3084 -895 \nQ 2688 -1331 1869 -1331 \nQ 1566 -1331 1297 -1286 \nQ 1028 -1241 775 -1147 \nL 775 -588 \nQ 1028 -725 1275 -790 \nQ 1522 -856 1778 -856 \nQ 2344 -856 2625 -561 \nQ 2906 -266 2906 331 \nL 2906 616 \nQ 2728 306 2450 153 \nQ 2172 0 1784 0 \nQ 1141 0 747 490 \nQ 353 981 353 1791 \nQ 353 2603 747 3093 \nQ 1141 3584 1784 3584 \nQ 2172 3584 2450 3431 \nQ 2728 3278 2906 2969 \nL 2906 3500 \nL 3481 3500 \nL 3481 434 \nz\n\" transform=\"scale(0.015625)\"/>\n       </defs>\n       <use xlink:href=\"#DejaVuSans-41\"/>\n       <use xlink:href=\"#DejaVuSans-75\" x=\"68.408203\"/>\n       <use xlink:href=\"#DejaVuSans-67\" x=\"131.787109\"/>\n      </g>\n     </g>\n    </g>\n    <g id=\"xtick_9\">\n     <g id=\"line2d_9\">\n      <path d=\"M 216.952995 228.96 \nL 216.952995 7.2 \n\" clip-path=\"url(#p85b0f0c422)\" style=\"fill: none; stroke: #ffffff; stroke-linecap: round\"/>\n     </g>\n     <g id=\"text_9\">\n      <!-- Sep -->\n      <g style=\"fill: #262626\" transform=\"translate(206.585495 246.818281) scale(0.11 -0.11)\">\n       <defs>\n        <path id=\"DejaVuSans-53\" d=\"M 3425 4513 \nL 3425 3897 \nQ 3066 4069 2747 4153 \nQ 2428 4238 2131 4238 \nQ 1616 4238 1336 4038 \nQ 1056 3838 1056 3469 \nQ 1056 3159 1242 3001 \nQ 1428 2844 1947 2747 \nL 2328 2669 \nQ 3034 2534 3370 2195 \nQ 3706 1856 3706 1288 \nQ 3706 609 3251 259 \nQ 2797 -91 1919 -91 \nQ 1588 -91 1214 -16 \nQ 841 59 441 206 \nL 441 856 \nQ 825 641 1194 531 \nQ 1563 422 1919 422 \nQ 2459 422 2753 634 \nQ 3047 847 3047 1241 \nQ 3047 1584 2836 1778 \nQ 2625 1972 2144 2069 \nL 1759 2144 \nQ 1053 2284 737 2584 \nQ 422 2884 422 3419 \nQ 422 4038 858 4394 \nQ 1294 4750 2059 4750 \nQ 2388 4750 2728 4690 \nQ 3069 4631 3425 4513 \nz\n\" transform=\"scale(0.015625)\"/>\n       </defs>\n       <use xlink:href=\"#DejaVuSans-53\"/>\n       <use xlink:href=\"#DejaVuSans-65\" x=\"63.476562\"/>\n       <use xlink:href=\"#DejaVuSans-70\" x=\"125\"/>\n      </g>\n     </g>\n    </g>\n    <g id=\"xtick_10\">\n     <g id=\"line2d_10\">\n      <path d=\"M 239.9475 228.96 \nL 239.9475 7.2 \n\" clip-path=\"url(#p85b0f0c422)\" style=\"fill: none; stroke: #ffffff; stroke-linecap: round\"/>\n     </g>\n     <g id=\"text_10\">\n      <!-- Oct -->\n      <g style=\"fill: #262626\" transform=\"translate(230.437656 246.818281) scale(0.11 -0.11)\">\n       <defs>\n        <path id=\"DejaVuSans-4f\" d=\"M 2522 4238 \nQ 1834 4238 1429 3725 \nQ 1025 3213 1025 2328 \nQ 1025 1447 1429 934 \nQ 1834 422 2522 422 \nQ 3209 422 3611 934 \nQ 4013 1447 4013 2328 \nQ 4013 3213 3611 3725 \nQ 3209 4238 2522 4238 \nz\nM 2522 4750 \nQ 3503 4750 4090 4092 \nQ 4678 3434 4678 2328 \nQ 4678 1225 4090 567 \nQ 3503 -91 2522 -91 \nQ 1538 -91 948 565 \nQ 359 1222 359 2328 \nQ 359 3434 948 4092 \nQ 1538 4750 2522 4750 \nz\n\" transform=\"scale(0.015625)\"/>\n        <path id=\"DejaVuSans-63\" d=\"M 3122 3366 \nL 3122 2828 \nQ 2878 2963 2633 3030 \nQ 2388 3097 2138 3097 \nQ 1578 3097 1268 2742 \nQ 959 2388 959 1747 \nQ 959 1106 1268 751 \nQ 1578 397 2138 397 \nQ 2388 397 2633 464 \nQ 2878 531 3122 666 \nL 3122 134 \nQ 2881 22 2623 -34 \nQ 2366 -91 2075 -91 \nQ 1284 -91 818 406 \nQ 353 903 353 1747 \nQ 353 2603 823 3093 \nQ 1294 3584 2113 3584 \nQ 2378 3584 2631 3529 \nQ 2884 3475 3122 3366 \nz\n\" transform=\"scale(0.015625)\"/>\n        <path id=\"DejaVuSans-74\" d=\"M 1172 4494 \nL 1172 3500 \nL 2356 3500 \nL 2356 3053 \nL 1172 3053 \nL 1172 1153 \nQ 1172 725 1289 603 \nQ 1406 481 1766 481 \nL 2356 481 \nL 2356 0 \nL 1766 0 \nQ 1100 0 847 248 \nQ 594 497 594 1153 \nL 594 3053 \nL 172 3053 \nL 172 3500 \nL 594 3500 \nL 594 4494 \nL 1172 4494 \nz\n\" transform=\"scale(0.015625)\"/>\n       </defs>\n       <use xlink:href=\"#DejaVuSans-4f\"/>\n       <use xlink:href=\"#DejaVuSans-63\" x=\"78.710938\"/>\n       <use xlink:href=\"#DejaVuSans-74\" x=\"133.691406\"/>\n      </g>\n     </g>\n    </g>\n    <g id=\"xtick_11\">\n     <g id=\"line2d_11\">\n      <path d=\"M 263.708489 228.96 \nL 263.708489 7.2 \n\" clip-path=\"url(#p85b0f0c422)\" style=\"fill: none; stroke: #ffffff; stroke-linecap: round\"/>\n     </g>\n     <g id=\"text_11\">\n      <!-- Nov -->\n      <g style=\"fill: #262626\" transform=\"translate(252.973177 246.818281) scale(0.11 -0.11)\">\n       <defs>\n        <path id=\"DejaVuSans-4e\" d=\"M 628 4666 \nL 1478 4666 \nL 3547 763 \nL 3547 4666 \nL 4159 4666 \nL 4159 0 \nL 3309 0 \nL 1241 3903 \nL 1241 0 \nL 628 0 \nL 628 4666 \nz\n\" transform=\"scale(0.015625)\"/>\n        <path id=\"DejaVuSans-6f\" d=\"M 1959 3097 \nQ 1497 3097 1228 2736 \nQ 959 2375 959 1747 \nQ 959 1119 1226 758 \nQ 1494 397 1959 397 \nQ 2419 397 2687 759 \nQ 2956 1122 2956 1747 \nQ 2956 2369 2687 2733 \nQ 2419 3097 1959 3097 \nz\nM 1959 3584 \nQ 2709 3584 3137 3096 \nQ 3566 2609 3566 1747 \nQ 3566 888 3137 398 \nQ 2709 -91 1959 -91 \nQ 1206 -91 779 398 \nQ 353 888 353 1747 \nQ 353 2609 779 3096 \nQ 1206 3584 1959 3584 \nz\n\" transform=\"scale(0.015625)\"/>\n        <path id=\"DejaVuSans-76\" d=\"M 191 3500 \nL 800 3500 \nL 1894 563 \nL 2988 3500 \nL 3597 3500 \nL 2284 0 \nL 1503 0 \nL 191 3500 \nz\n\" transform=\"scale(0.015625)\"/>\n       </defs>\n       <use xlink:href=\"#DejaVuSans-4e\"/>\n       <use xlink:href=\"#DejaVuSans-6f\" x=\"74.804688\"/>\n       <use xlink:href=\"#DejaVuSans-76\" x=\"135.986328\"/>\n      </g>\n     </g>\n    </g>\n    <g id=\"xtick_12\">\n     <g id=\"line2d_12\">\n      <path d=\"M 286.702995 228.96 \nL 286.702995 7.2 \n\" clip-path=\"url(#p85b0f0c422)\" style=\"fill: none; stroke: #ffffff; stroke-linecap: round\"/>\n     </g>\n     <g id=\"text_12\">\n      <!-- Dec -->\n      <g style=\"fill: #262626\" transform=\"translate(276.059635 246.818281) scale(0.11 -0.11)\">\n       <defs>\n        <path id=\"DejaVuSans-44\" d=\"M 1259 4147 \nL 1259 519 \nL 2022 519 \nQ 2988 519 3436 956 \nQ 3884 1394 3884 2338 \nQ 3884 3275 3436 3711 \nQ 2988 4147 2022 4147 \nL 1259 4147 \nz\nM 628 4666 \nL 1925 4666 \nQ 3281 4666 3915 4102 \nQ 4550 3538 4550 2338 \nQ 4550 1131 3912 565 \nQ 3275 0 1925 0 \nL 628 0 \nL 628 4666 \nz\n\" transform=\"scale(0.015625)\"/>\n       </defs>\n       <use xlink:href=\"#DejaVuSans-44\"/>\n       <use xlink:href=\"#DejaVuSans-65\" x=\"77.001953\"/>\n       <use xlink:href=\"#DejaVuSans-63\" x=\"138.525391\"/>\n      </g>\n     </g>\n    </g>\n    <g id=\"xtick_13\">\n     <g id=\"line2d_13\">\n      <path d=\"M 309.6975 228.96 \nL 309.6975 7.2 \n\" clip-path=\"url(#p85b0f0c422)\" style=\"fill: none; stroke: #ffffff; stroke-linecap: round\"/>\n     </g>\n    </g>\n    <g id=\"xtick_14\"/>\n    <g id=\"xtick_15\"/>\n    <g id=\"xtick_16\"/>\n    <g id=\"xtick_17\"/>\n    <g id=\"xtick_18\"/>\n    <g id=\"xtick_19\"/>\n    <g id=\"xtick_20\"/>\n    <g id=\"xtick_21\"/>\n    <g id=\"xtick_22\"/>\n    <g id=\"xtick_23\"/>\n    <g id=\"xtick_24\"/>\n    <g id=\"xtick_25\"/>\n    <g id=\"xtick_26\"/>\n    <g id=\"xtick_27\"/>\n    <g id=\"xtick_28\"/>\n    <g id=\"xtick_29\"/>\n    <g id=\"xtick_30\"/>\n    <g id=\"xtick_31\"/>\n    <g id=\"xtick_32\"/>\n    <g id=\"xtick_33\"/>\n    <g id=\"xtick_34\"/>\n    <g id=\"xtick_35\"/>\n    <g id=\"xtick_36\"/>\n    <g id=\"xtick_37\"/>\n    <g id=\"xtick_38\"/>\n    <g id=\"xtick_39\"/>\n    <g id=\"xtick_40\"/>\n    <g id=\"xtick_41\"/>\n    <g id=\"xtick_42\"/>\n    <g id=\"xtick_43\"/>\n    <g id=\"xtick_44\"/>\n    <g id=\"xtick_45\"/>\n    <g id=\"xtick_46\"/>\n    <g id=\"xtick_47\"/>\n    <g id=\"xtick_48\"/>\n    <g id=\"xtick_49\"/>\n    <g id=\"xtick_50\"/>\n    <g id=\"xtick_51\"/>\n    <g id=\"xtick_52\"/>\n    <g id=\"xtick_53\"/>\n    <g id=\"xtick_54\"/>\n    <g id=\"xtick_55\"/>\n    <g id=\"xtick_56\"/>\n    <g id=\"xtick_57\"/>\n    <g id=\"xtick_58\"/>\n    <g id=\"xtick_59\"/>\n    <g id=\"xtick_60\"/>\n    <g id=\"xtick_61\"/>\n    <g id=\"xtick_62\"/>\n    <g id=\"xtick_63\"/>\n    <g id=\"xtick_64\"/>\n    <g id=\"text_13\">\n     <!-- date -->\n     <g style=\"fill: #262626\" transform=\"translate(156.6675 274.541656) scale(0.12 -0.12)\">\n      <defs>\n       <path id=\"DejaVuSans-64\" d=\"M 2906 2969 \nL 2906 4863 \nL 3481 4863 \nL 3481 0 \nL 2906 0 \nL 2906 525 \nQ 2725 213 2448 61 \nQ 2172 -91 1784 -91 \nQ 1150 -91 751 415 \nQ 353 922 353 1747 \nQ 353 2572 751 3078 \nQ 1150 3584 1784 3584 \nQ 2172 3584 2448 3432 \nQ 2725 3281 2906 2969 \nz\nM 947 1747 \nQ 947 1113 1208 752 \nQ 1469 391 1925 391 \nQ 2381 391 2643 752 \nQ 2906 1113 2906 1747 \nQ 2906 2381 2643 2742 \nQ 2381 3103 1925 3103 \nQ 1469 3103 1208 2742 \nQ 947 2381 947 1747 \nz\n\" transform=\"scale(0.015625)\"/>\n      </defs>\n      <use xlink:href=\"#DejaVuSans-64\"/>\n      <use xlink:href=\"#DejaVuSans-61\" x=\"63.476562\"/>\n      <use xlink:href=\"#DejaVuSans-74\" x=\"124.755859\"/>\n      <use xlink:href=\"#DejaVuSans-65\" x=\"163.964844\"/>\n     </g>\n    </g>\n   </g>\n   <g id=\"matplotlib.axis_2\">\n    <g id=\"ytick_1\">\n     <g id=\"line2d_14\">\n      <path d=\"M 30.6975 223.685746 \nL 309.6975 223.685746 \n\" clip-path=\"url(#p85b0f0c422)\" style=\"fill: none; stroke: #ffffff; stroke-linecap: round\"/>\n     </g>\n     <g id=\"text_14\">\n      <!-- 30 -->\n      <g style=\"fill: #262626\" transform=\"translate(7.2 227.864886) scale(0.11 -0.11)\">\n       <defs>\n        <path id=\"DejaVuSans-33\" d=\"M 2597 2516 \nQ 3050 2419 3304 2112 \nQ 3559 1806 3559 1356 \nQ 3559 666 3084 287 \nQ 2609 -91 1734 -91 \nQ 1441 -91 1130 -33 \nQ 819 25 488 141 \nL 488 750 \nQ 750 597 1062 519 \nQ 1375 441 1716 441 \nQ 2309 441 2620 675 \nQ 2931 909 2931 1356 \nQ 2931 1769 2642 2001 \nQ 2353 2234 1838 2234 \nL 1294 2234 \nL 1294 2753 \nL 1863 2753 \nQ 2328 2753 2575 2939 \nQ 2822 3125 2822 3475 \nQ 2822 3834 2567 4026 \nQ 2313 4219 1838 4219 \nQ 1578 4219 1281 4162 \nQ 984 4106 628 3988 \nL 628 4550 \nQ 988 4650 1302 4700 \nQ 1616 4750 1894 4750 \nQ 2613 4750 3031 4423 \nQ 3450 4097 3450 3541 \nQ 3450 3153 3228 2886 \nQ 3006 2619 2597 2516 \nz\n\" transform=\"scale(0.015625)\"/>\n       </defs>\n       <use xlink:href=\"#DejaVuSans-33\"/>\n       <use xlink:href=\"#DejaVuSans-30\" x=\"63.623047\"/>\n      </g>\n     </g>\n    </g>\n    <g id=\"ytick_2\">\n     <g id=\"line2d_15\">\n      <path d=\"M 30.6975 189.211243 \nL 309.6975 189.211243 \n\" clip-path=\"url(#p85b0f0c422)\" style=\"fill: none; stroke: #ffffff; stroke-linecap: round\"/>\n     </g>\n     <g id=\"text_15\">\n      <!-- 40 -->\n      <g style=\"fill: #262626\" transform=\"translate(7.2 193.390383) scale(0.11 -0.11)\">\n       <defs>\n        <path id=\"DejaVuSans-34\" d=\"M 2419 4116 \nL 825 1625 \nL 2419 1625 \nL 2419 4116 \nz\nM 2253 4666 \nL 3047 4666 \nL 3047 1625 \nL 3713 1625 \nL 3713 1100 \nL 3047 1100 \nL 3047 0 \nL 2419 0 \nL 2419 1100 \nL 313 1100 \nL 313 1709 \nL 2253 4666 \nz\n\" transform=\"scale(0.015625)\"/>\n       </defs>\n       <use xlink:href=\"#DejaVuSans-34\"/>\n       <use xlink:href=\"#DejaVuSans-30\" x=\"63.623047\"/>\n      </g>\n     </g>\n    </g>\n    <g id=\"ytick_3\">\n     <g id=\"line2d_16\">\n      <path d=\"M 30.6975 154.736739 \nL 309.6975 154.736739 \n\" clip-path=\"url(#p85b0f0c422)\" style=\"fill: none; stroke: #ffffff; stroke-linecap: round\"/>\n     </g>\n     <g id=\"text_16\">\n      <!-- 50 -->\n      <g style=\"fill: #262626\" transform=\"translate(7.2 158.91588) scale(0.11 -0.11)\">\n       <defs>\n        <path id=\"DejaVuSans-35\" d=\"M 691 4666 \nL 3169 4666 \nL 3169 4134 \nL 1269 4134 \nL 1269 2991 \nQ 1406 3038 1543 3061 \nQ 1681 3084 1819 3084 \nQ 2600 3084 3056 2656 \nQ 3513 2228 3513 1497 \nQ 3513 744 3044 326 \nQ 2575 -91 1722 -91 \nQ 1428 -91 1123 -41 \nQ 819 9 494 109 \nL 494 744 \nQ 775 591 1075 516 \nQ 1375 441 1709 441 \nQ 2250 441 2565 725 \nQ 2881 1009 2881 1497 \nQ 2881 1984 2565 2268 \nQ 2250 2553 1709 2553 \nQ 1456 2553 1204 2497 \nQ 953 2441 691 2322 \nL 691 4666 \nz\n\" transform=\"scale(0.015625)\"/>\n       </defs>\n       <use xlink:href=\"#DejaVuSans-35\"/>\n       <use xlink:href=\"#DejaVuSans-30\" x=\"63.623047\"/>\n      </g>\n     </g>\n    </g>\n    <g id=\"ytick_4\">\n     <g id=\"line2d_17\">\n      <path d=\"M 30.6975 120.262236 \nL 309.6975 120.262236 \n\" clip-path=\"url(#p85b0f0c422)\" style=\"fill: none; stroke: #ffffff; stroke-linecap: round\"/>\n     </g>\n     <g id=\"text_17\">\n      <!-- 60 -->\n      <g style=\"fill: #262626\" transform=\"translate(7.2 124.441377) scale(0.11 -0.11)\">\n       <defs>\n        <path id=\"DejaVuSans-36\" d=\"M 2113 2584 \nQ 1688 2584 1439 2293 \nQ 1191 2003 1191 1497 \nQ 1191 994 1439 701 \nQ 1688 409 2113 409 \nQ 2538 409 2786 701 \nQ 3034 994 3034 1497 \nQ 3034 2003 2786 2293 \nQ 2538 2584 2113 2584 \nz\nM 3366 4563 \nL 3366 3988 \nQ 3128 4100 2886 4159 \nQ 2644 4219 2406 4219 \nQ 1781 4219 1451 3797 \nQ 1122 3375 1075 2522 \nQ 1259 2794 1537 2939 \nQ 1816 3084 2150 3084 \nQ 2853 3084 3261 2657 \nQ 3669 2231 3669 1497 \nQ 3669 778 3244 343 \nQ 2819 -91 2113 -91 \nQ 1303 -91 875 529 \nQ 447 1150 447 2328 \nQ 447 3434 972 4092 \nQ 1497 4750 2381 4750 \nQ 2619 4750 2861 4703 \nQ 3103 4656 3366 4563 \nz\n\" transform=\"scale(0.015625)\"/>\n       </defs>\n       <use xlink:href=\"#DejaVuSans-36\"/>\n       <use xlink:href=\"#DejaVuSans-30\" x=\"63.623047\"/>\n      </g>\n     </g>\n    </g>\n    <g id=\"ytick_5\">\n     <g id=\"line2d_18\">\n      <path d=\"M 30.6975 85.787733 \nL 309.6975 85.787733 \n\" clip-path=\"url(#p85b0f0c422)\" style=\"fill: none; stroke: #ffffff; stroke-linecap: round\"/>\n     </g>\n     <g id=\"text_18\">\n      <!-- 70 -->\n      <g style=\"fill: #262626\" transform=\"translate(7.2 89.966873) scale(0.11 -0.11)\">\n       <use xlink:href=\"#DejaVuSans-37\"/>\n       <use xlink:href=\"#DejaVuSans-30\" x=\"63.623047\"/>\n      </g>\n     </g>\n    </g>\n    <g id=\"ytick_6\">\n     <g id=\"line2d_19\">\n      <path d=\"M 30.6975 51.31323 \nL 309.6975 51.31323 \n\" clip-path=\"url(#p85b0f0c422)\" style=\"fill: none; stroke: #ffffff; stroke-linecap: round\"/>\n     </g>\n     <g id=\"text_19\">\n      <!-- 80 -->\n      <g style=\"fill: #262626\" transform=\"translate(7.2 55.49237) scale(0.11 -0.11)\">\n       <defs>\n        <path id=\"DejaVuSans-38\" d=\"M 2034 2216 \nQ 1584 2216 1326 1975 \nQ 1069 1734 1069 1313 \nQ 1069 891 1326 650 \nQ 1584 409 2034 409 \nQ 2484 409 2743 651 \nQ 3003 894 3003 1313 \nQ 3003 1734 2745 1975 \nQ 2488 2216 2034 2216 \nz\nM 1403 2484 \nQ 997 2584 770 2862 \nQ 544 3141 544 3541 \nQ 544 4100 942 4425 \nQ 1341 4750 2034 4750 \nQ 2731 4750 3128 4425 \nQ 3525 4100 3525 3541 \nQ 3525 3141 3298 2862 \nQ 3072 2584 2669 2484 \nQ 3125 2378 3379 2068 \nQ 3634 1759 3634 1313 \nQ 3634 634 3220 271 \nQ 2806 -91 2034 -91 \nQ 1263 -91 848 271 \nQ 434 634 434 1313 \nQ 434 1759 690 2068 \nQ 947 2378 1403 2484 \nz\nM 1172 3481 \nQ 1172 3119 1398 2916 \nQ 1625 2713 2034 2713 \nQ 2441 2713 2670 2916 \nQ 2900 3119 2900 3481 \nQ 2900 3844 2670 4047 \nQ 2441 4250 2034 4250 \nQ 1625 4250 1398 4047 \nQ 1172 3844 1172 3481 \nz\n\" transform=\"scale(0.015625)\"/>\n       </defs>\n       <use xlink:href=\"#DejaVuSans-38\"/>\n       <use xlink:href=\"#DejaVuSans-30\" x=\"63.623047\"/>\n      </g>\n     </g>\n    </g>\n    <g id=\"ytick_7\">\n     <g id=\"line2d_20\">\n      <path d=\"M 30.6975 16.838726 \nL 309.6975 16.838726 \n\" clip-path=\"url(#p85b0f0c422)\" style=\"fill: none; stroke: #ffffff; stroke-linecap: round\"/>\n     </g>\n     <g id=\"text_20\">\n      <!-- 90 -->\n      <g style=\"fill: #262626\" transform=\"translate(7.2 21.017867) scale(0.11 -0.11)\">\n       <defs>\n        <path id=\"DejaVuSans-39\" d=\"M 703 97 \nL 703 672 \nQ 941 559 1184 500 \nQ 1428 441 1663 441 \nQ 2288 441 2617 861 \nQ 2947 1281 2994 2138 \nQ 2813 1869 2534 1725 \nQ 2256 1581 1919 1581 \nQ 1219 1581 811 2004 \nQ 403 2428 403 3163 \nQ 403 3881 828 4315 \nQ 1253 4750 1959 4750 \nQ 2769 4750 3195 4129 \nQ 3622 3509 3622 2328 \nQ 3622 1225 3098 567 \nQ 2575 -91 1691 -91 \nQ 1453 -91 1209 -44 \nQ 966 3 703 97 \nz\nM 1959 2075 \nQ 2384 2075 2632 2365 \nQ 2881 2656 2881 3163 \nQ 2881 3666 2632 3958 \nQ 2384 4250 1959 4250 \nQ 1534 4250 1286 3958 \nQ 1038 3666 1038 3163 \nQ 1038 2656 1286 2365 \nQ 1534 2075 1959 2075 \nz\n\" transform=\"scale(0.015625)\"/>\n       </defs>\n       <use xlink:href=\"#DejaVuSans-39\"/>\n       <use xlink:href=\"#DejaVuSans-30\" x=\"63.623047\"/>\n      </g>\n     </g>\n    </g>\n   </g>\n   <g id=\"line2d_21\">\n    <path d=\"M 30.6975 163.638056 \nL 31.463984 218.362882 \nL 32.230467 198.519358 \nL 32.996951 199.484644 \nL 33.763434 189.935207 \nL 34.529918 182.357711 \nL 35.296401 171.346555 \nL 36.062885 163.70011 \nL 36.829368 218.19051 \nL 37.595852 198.808944 \nL 38.362335 199.615648 \nL 39.128819 191.390031 \nL 39.895302 181.03389 \nL 41.428269 163.693215 \nL 42.194753 218.562835 \nL 42.961236 199.484644 \nL 43.72772 198.553833 \nL 44.494203 192.451846 \nL 46.02717 171.346555 \nL 46.793654 162.796878 \nL 47.560137 218.88 \nL 48.326621 199.388116 \nL 49.093104 199.898339 \nL 49.859588 192.376002 \nL 50.626071 181.516533 \nL 51.392555 173.973512 \nL 52.159038 162.962356 \nL 52.925522 217.900924 \nL 53.692005 199.650122 \nL 54.458489 184.991563 \nL 55.224973 176.283304 \nL 56.75794 154.612631 \nL 57.524423 147.262667 \nL 58.290907 205.869322 \nL 59.05739 186.225751 \nL 59.823874 187.197932 \nL 61.356841 164.858453 \nL 62.123324 152.592425 \nL 62.889808 144.484022 \nL 63.656291 205.896902 \nL 64.422775 185.860321 \nL 65.189258 185.294939 \nL 65.955742 176.710788 \nL 66.722225 164.948087 \nL 67.488709 155.757185 \nL 68.255192 144.897716 \nL 69.021676 206.896663 \nL 69.788159 185.19841 \nL 70.554643 186.28091 \nL 71.321126 174.545789 \nL 72.08761 165.541049 \nL 73.620577 143.863481 \nL 74.38706 206.103749 \nL 75.153544 186.542916 \nL 75.920027 157.625703 \nL 77.452995 133.796926 \nL 78.219478 123.620053 \nL 78.985962 108.589169 \nL 79.752445 182.095705 \nL 80.518929 158.790941 \nL 81.285412 155.233172 \nL 82.051896 147.931472 \nL 83.584863 121.399895 \nL 84.351346 107.810045 \nL 85.11783 180.985626 \nL 85.884313 155.874398 \nL 86.650797 159.128791 \nL 88.950247 120.972411 \nL 89.716731 110.037098 \nL 90.483214 183.040306 \nL 91.249698 156.784525 \nL 92.016181 156.474254 \nL 92.782665 147.062715 \nL 95.082115 108.16858 \nL 95.848599 182.226708 \nL 96.615082 156.853474 \nL 97.381566 158.363457 \nL 98.148049 145.132143 \nL 98.914533 135.203486 \nL 99.681016 87.539038 \nL 100.4475 73.535494 \nL 101.213984 156.708681 \nL 101.980467 130.845909 \nL 102.746951 131.811195 \nL 105.046401 84.636284 \nL 105.812885 74.735207 \nL 106.579368 157.163744 \nL 107.345852 130.039205 \nL 108.112335 129.853043 \nL 109.645302 103.480048 \nL 110.411786 87.256347 \nL 111.178269 75.459172 \nL 111.944753 156.784525 \nL 112.711236 130.404635 \nL 113.47772 129.115288 \nL 115.010687 101.2461 \nL 116.543654 71.329126 \nL 117.310137 158.163505 \nL 118.076621 129.501403 \nL 118.843104 129.790989 \nL 121.909038 73.480335 \nL 122.675522 145.842317 \nL 123.442005 113.02259 \nL 124.208489 114.987637 \nL 127.274423 55.036476 \nL 128.040907 145.3252 \nL 128.80739 113.994771 \nL 129.573874 114.0913 \nL 130.340357 97.964127 \nL 131.106841 85.429198 \nL 132.639808 55.388116 \nL 133.406291 146.524913 \nL 134.172775 113.870663 \nL 134.939258 116.690678 \nL 137.238709 67.385243 \nL 138.005192 52.181987 \nL 138.771676 145.401044 \nL 139.538159 116.063242 \nL 140.304643 115.111745 \nL 141.83761 82.409232 \nL 143.370577 55.332957 \nL 144.13706 146.504228 \nL 144.903544 118.200661 \nL 145.670027 114.311937 \nL 146.436511 86.387589 \nL 148.735962 37.102839 \nL 149.502445 135.472387 \nL 150.268929 100.032598 \nL 151.035412 99.156945 \nL 151.801896 83.022878 \nL 152.568379 69.901882 \nL 153.334863 52.319885 \nL 154.101346 37.37174 \nL 154.86783 135.244855 \nL 155.634313 100.715193 \nL 156.400797 99.218999 \nL 157.933764 70.253522 \nL 158.700247 50.62374 \nL 159.466731 37.495849 \nL 160.233214 132.85922 \nL 160.999698 100.956514 \nL 161.766181 99.970543 \nL 162.532665 86.821968 \nL 163.299148 69.060704 \nL 164.065632 54.753785 \nL 164.832115 37.323476 \nL 165.598599 132.762691 \nL 166.365082 100.618664 \nL 167.131566 101.549476 \nL 167.898049 83.650314 \nL 168.664533 70.74306 \nL 169.431016 33.427857 \nL 170.1975 17.28 \nL 170.963984 121.813589 \nL 171.730467 87.601092 \nL 172.496951 87.987206 \nL 174.029918 51.389073 \nL 174.796401 39.874589 \nL 175.562885 19.527738 \nL 176.329368 122.172124 \nL 177.095852 86.139373 \nL 177.862335 87.00813 \nL 178.628819 71.942772 \nL 179.395302 50.451367 \nL 180.161786 36.351295 \nL 180.928269 17.831592 \nL 181.694753 120.544927 \nL 182.461236 88.44227 \nL 183.22772 85.870472 \nL 184.760687 52.561207 \nL 186.293654 18.003965 \nL 187.060137 119.979545 \nL 187.826621 86.408274 \nL 188.593104 85.939421 \nL 190.892555 36.758094 \nL 191.659038 17.99707 \nL 192.425522 119.131472 \nL 193.192005 115.263433 \nL 193.958489 114.835949 \nL 195.491456 84.863816 \nL 197.024423 56.174135 \nL 197.790907 143.477367 \nL 198.55739 114.553258 \nL 199.323874 115.304802 \nL 200.090357 98.819095 \nL 200.856841 85.208561 \nL 202.389808 54.815839 \nL 203.156291 146.848973 \nL 203.922775 116.86305 \nL 204.689258 115.291013 \nL 207.755192 51.161542 \nL 208.521676 146.545597 \nL 209.288159 114.043036 \nL 210.054643 115.952923 \nL 210.821126 100.005018 \nL 211.58761 86.587541 \nL 212.354093 66.806071 \nL 213.120577 52.968006 \nL 213.88706 144.001379 \nL 214.653544 114.918688 \nL 215.420027 116.18735 \nL 216.186511 100.011913 \nL 216.952995 102.825032 \nL 217.719478 87.104659 \nL 218.485962 75.300589 \nL 219.252445 157.322327 \nL 220.018929 132.059411 \nL 220.785412 130.135734 \nL 221.551896 115.801235 \nL 222.318379 98.48814 \nL 223.084863 87.952732 \nL 223.851346 70.880958 \nL 224.61783 157.184429 \nL 225.384313 130.349476 \nL 226.150797 128.281006 \nL 229.216731 73.128695 \nL 229.983214 157.667072 \nL 230.749698 130.128839 \nL 231.516181 127.26056 \nL 232.282665 115.525439 \nL 234.582115 74.652468 \nL 235.348599 156.143299 \nL 236.115082 130.349476 \nL 236.881566 126.771022 \nL 237.648049 116.573464 \nL 239.181016 88.38711 \nL 239.9475 93.751343 \nL 240.713984 169.126397 \nL 241.480467 141.953593 \nL 242.246951 143.077462 \nL 243.779918 118.710883 \nL 245.312885 91.345023 \nL 246.079368 168.705808 \nL 246.845852 144.546076 \nL 247.612335 141.643323 \nL 249.145302 117.821441 \nL 249.911786 102.225176 \nL 250.678269 91.834561 \nL 251.444753 168.940235 \nL 252.211236 142.760297 \nL 252.97772 142.718927 \nL 253.744203 128.605066 \nL 254.510687 116.614834 \nL 255.27717 101.714953 \nL 256.043654 90.055676 \nL 256.810137 168.767862 \nL 257.576621 144.435758 \nL 258.343104 142.367288 \nL 259.109588 131.08723 \nL 261.409038 90.531424 \nL 262.175522 170.629485 \nL 262.942005 144.049643 \nL 263.708489 130.770065 \nL 264.474973 113.119119 \nL 265.241456 100.660034 \nL 266.00794 85.346459 \nL 266.774423 72.666737 \nL 267.540907 156.446675 \nL 268.30739 127.694939 \nL 269.073874 128.956706 \nL 270.606841 100.639349 \nL 271.373324 89.400661 \nL 272.139808 72.452995 \nL 272.906291 157.46712 \nL 273.672775 128.784333 \nL 274.439258 129.866833 \nL 276.738709 85.739469 \nL 277.505192 75.335063 \nL 278.271676 157.246483 \nL 279.038159 128.349955 \nL 279.804643 131.866354 \nL 280.571126 113.815504 \nL 281.33761 102.28723 \nL 282.870577 72.184094 \nL 283.63706 158.687517 \nL 284.403544 128.618856 \nL 285.170027 129.080814 \nL 285.936511 114.615312 \nL 286.702995 165.354886 \nL 287.469478 157.922183 \nL 288.235962 144.166857 \nL 289.002445 207.262092 \nL 289.768929 187.990845 \nL 290.535412 186.866976 \nL 293.601346 145.070089 \nL 294.36783 205.628001 \nL 295.134313 187.584046 \nL 295.900797 184.364127 \nL 296.66728 175.16633 \nL 298.200247 155.0608 \nL 298.966731 146.69039 \nL 299.733214 204.752349 \nL 300.499698 185.646579 \nL 301.266181 185.453522 \nL 302.032665 173.945932 \nL 304.332115 146.945502 \nL 305.098599 206.331281 \nL 305.865082 184.122806 \nL 306.631566 186.60497 \nL 309.6975 144.94598 \nL 309.6975 144.94598 \n\" clip-path=\"url(#p85b0f0c422)\" style=\"fill: none; stroke: #4c72b0; stroke-width: 1.5; stroke-linecap: round\"/>\n   </g>\n   <g id=\"patch_3\">\n    <path d=\"M 30.6975 228.96 \nL 30.6975 7.2 \n\" style=\"fill: none; stroke: #ffffff; stroke-width: 1.25; stroke-linejoin: miter; stroke-linecap: square\"/>\n   </g>\n   <g id=\"patch_4\">\n    <path d=\"M 309.6975 228.96 \nL 309.6975 7.2 \n\" style=\"fill: none; stroke: #ffffff; stroke-width: 1.25; stroke-linejoin: miter; stroke-linecap: square\"/>\n   </g>\n   <g id=\"patch_5\">\n    <path d=\"M 30.6975 228.96 \nL 309.6975 228.96 \n\" style=\"fill: none; stroke: #ffffff; stroke-width: 1.25; stroke-linejoin: miter; stroke-linecap: square\"/>\n   </g>\n   <g id=\"patch_6\">\n    <path d=\"M 30.6975 7.2 \nL 309.6975 7.2 \n\" style=\"fill: none; stroke: #ffffff; stroke-width: 1.25; stroke-linejoin: miter; stroke-linecap: square\"/>\n   </g>\n  </g>\n </g>\n <defs>\n  <clipPath id=\"p85b0f0c422\">\n   <rect x=\"30.6975\" y=\"7.2\" width=\"279\" height=\"221.76\"/>\n  </clipPath>\n </defs>\n</svg>\n"
          },
          "metadata": {}
        }
      ]
    },
    {
      "cell_type": "code",
      "source": [
        "scaler = MinMaxScaler(feature_range=(0,1))\n",
        "scaled_tain_data = scaler.fit_transform(training_data.values.reshape(-1,1))\n",
        "scaled_tain_data.shape"
      ],
      "metadata": {
        "colab": {
          "base_uri": "https://localhost:8080/"
        },
        "id": "Xuu7Wyw0eWYv",
        "outputId": "de51470e-5c41-44fe-b995-25a25e3ce37a"
      },
      "execution_count": null,
      "outputs": [
        {
          "output_type": "execute_result",
          "data": {
            "text/plain": [
              "(1096, 1)"
            ]
          },
          "metadata": {},
          "execution_count": 196
        }
      ]
    },
    {
      "cell_type": "code",
      "source": [
        "scaler = MinMaxScaler(feature_range=(0,1))\n",
        "scaled_test_data = scaler.fit_transform(test_data.values.reshape(-1,1))\n",
        "scaled_test_data.shape"
      ],
      "metadata": {
        "colab": {
          "base_uri": "https://localhost:8080/"
        },
        "id": "yP2VnO3Ief0d",
        "outputId": "7d08441e-1662-40e7-81bb-a0a4f014b8aa"
      },
      "execution_count": null,
      "outputs": [
        {
          "output_type": "execute_result",
          "data": {
            "text/plain": [
              "(365, 1)"
            ]
          },
          "metadata": {},
          "execution_count": 197
        }
      ]
    },
    {
      "cell_type": "code",
      "source": [
        "days_past = 30\n",
        "days_future = 5"
      ],
      "metadata": {
        "id": "2hEDJ3LeeyPq"
      },
      "execution_count": null,
      "outputs": []
    },
    {
      "cell_type": "code",
      "source": [
        "def split_sequence(sequence, n_past, n_future):\n",
        "    X, y = [], []\n",
        "    for i in range(len(sequence) - n_past - n_future + 1):\n",
        "        X.append(sequence[i:i + n_past])\n",
        "        y.append(sequence[i + n_past:i + n_past + n_future])\n",
        "    return np.array(X), np.array(y)"
      ],
      "metadata": {
        "id": "4cY21-VqfbjU"
      },
      "execution_count": null,
      "outputs": []
    },
    {
      "cell_type": "code",
      "source": [
        "x_train, y_train = split_sequence(scaled_tain_data, days_past, days_future)\n",
        "x_test, y_test = split_sequence(scaled_test_data, days_past, days_future)"
      ],
      "metadata": {
        "id": "Fxq--JboemIX"
      },
      "execution_count": null,
      "outputs": []
    },
    {
      "cell_type": "code",
      "source": [
        "x_train.shape"
      ],
      "metadata": {
        "colab": {
          "base_uri": "https://localhost:8080/"
        },
        "id": "PgQeHiOzfsno",
        "outputId": "49f3a88c-9280-413e-8a0d-c2323c5fa1c1"
      },
      "execution_count": null,
      "outputs": [
        {
          "output_type": "execute_result",
          "data": {
            "text/plain": [
              "(1062, 30, 1)"
            ]
          },
          "metadata": {},
          "execution_count": 201
        }
      ]
    },
    {
      "cell_type": "code",
      "source": [
        "x_test.shape"
      ],
      "metadata": {
        "colab": {
          "base_uri": "https://localhost:8080/"
        },
        "id": "XVGijQlDgEBb",
        "outputId": "fdd6d894-e537-4d93-ffdf-20180b52ebe0"
      },
      "execution_count": null,
      "outputs": [
        {
          "output_type": "execute_result",
          "data": {
            "text/plain": [
              "(331, 30, 1)"
            ]
          },
          "metadata": {},
          "execution_count": 202
        }
      ]
    },
    {
      "cell_type": "code",
      "source": [
        "x_train = x_train.reshape((x_train.shape[0], x_train.shape[1], 1))\n",
        "y_train = y_train.reshape((y_train.shape[0], y_train.shape[1], 1))\n",
        "\n",
        "x_test = x_test.reshape((x_test.shape[0], x_test.shape[1], 1))\n",
        "y_test = y_test.reshape((y_test.shape[0], y_test.shape[1], 1))"
      ],
      "metadata": {
        "id": "sMFP4krwfyx4"
      },
      "execution_count": null,
      "outputs": []
    },
    {
      "cell_type": "code",
      "source": [
        "x_train.shape"
      ],
      "metadata": {
        "colab": {
          "base_uri": "https://localhost:8080/"
        },
        "id": "zqWKfKJ_f3BZ",
        "outputId": "d7e370ce-dfd2-4155-bf26-a49a844509fa"
      },
      "execution_count": null,
      "outputs": [
        {
          "output_type": "execute_result",
          "data": {
            "text/plain": [
              "(1062, 30, 1)"
            ]
          },
          "metadata": {},
          "execution_count": 204
        }
      ]
    },
    {
      "cell_type": "code",
      "source": [
        "x_test.shape"
      ],
      "metadata": {
        "colab": {
          "base_uri": "https://localhost:8080/"
        },
        "id": "AyKS8_EFgIMB",
        "outputId": "129974e3-1858-4a0e-f42a-96e00460d435"
      },
      "execution_count": null,
      "outputs": [
        {
          "output_type": "execute_result",
          "data": {
            "text/plain": [
              "(331, 30, 1)"
            ]
          },
          "metadata": {},
          "execution_count": 205
        }
      ]
    },
    {
      "cell_type": "markdown",
      "source": [
        "build LSTM encoder-decoder model"
      ],
      "metadata": {
        "id": "VKJvYQ-XgwNb"
      }
    },
    {
      "cell_type": "code",
      "source": [
        "def DF_model():\n",
        "  model = Sequential()\n",
        "  model.add(LSTM(100, activation='relu',input_shape = (days_past,1)))\n",
        "  model.add(Dropout(0.2))\n",
        "  model.add(RepeatVector(days_future))\n",
        "  model.add(LSTM(100, activation='relu', return_sequences=True))\n",
        "  model.add(Dropout(0.2))\n",
        "  model.add(TimeDistributed(Dense(units=1, activation = \"linear\")))\n",
        "  return model"
      ],
      "metadata": {
        "id": "pTO9gwaegyRT"
      },
      "execution_count": null,
      "outputs": []
    },
    {
      "cell_type": "code",
      "source": [
        "model = DF_model()\n",
        "model.summary()"
      ],
      "metadata": {
        "colab": {
          "base_uri": "https://localhost:8080/"
        },
        "id": "LUKjwhj_hHOK",
        "outputId": "5d3c91e6-c943-48c3-c6f5-96cf11d84610"
      },
      "execution_count": null,
      "outputs": [
        {
          "output_type": "stream",
          "name": "stdout",
          "text": [
            "Model: \"sequential_2\"\n",
            "_________________________________________________________________\n",
            " Layer (type)                Output Shape              Param #   \n",
            "=================================================================\n",
            " lstm_4 (LSTM)               (None, 100)               40800     \n",
            "                                                                 \n",
            " dropout_4 (Dropout)         (None, 100)               0         \n",
            "                                                                 \n",
            " repeat_vector_2 (RepeatVect  (None, 5, 100)           0         \n",
            " or)                                                             \n",
            "                                                                 \n",
            " lstm_5 (LSTM)               (None, 5, 100)            80400     \n",
            "                                                                 \n",
            " dropout_5 (Dropout)         (None, 5, 100)            0         \n",
            "                                                                 \n",
            " time_distributed_2 (TimeDis  (None, 5, 1)             101       \n",
            " tributed)                                                       \n",
            "                                                                 \n",
            "=================================================================\n",
            "Total params: 121,301\n",
            "Trainable params: 121,301\n",
            "Non-trainable params: 0\n",
            "_________________________________________________________________\n"
          ]
        }
      ]
    },
    {
      "cell_type": "code",
      "source": [
        "model.compile(optimizer='adam', loss='mean_squared_error', metrics = ['accuracy'])"
      ],
      "metadata": {
        "id": "AlMEqsPThZFp"
      },
      "execution_count": null,
      "outputs": []
    },
    {
      "cell_type": "code",
      "source": [
        "checkpointer = ModelCheckpoint(filepath = './checkpoint.hdf5', monitor='accuracy', verbose = 0, save_best_only = True)\n",
        "his=model.fit(x_train,y_train,epochs=50,callbacks=[checkpointer], verbose=1)"
      ],
      "metadata": {
        "colab": {
          "base_uri": "https://localhost:8080/"
        },
        "id": "BOI-u3GdiVFE",
        "outputId": "55331325-9cba-4810-b652-0b0f744c586d"
      },
      "execution_count": null,
      "outputs": [
        {
          "output_type": "stream",
          "name": "stdout",
          "text": [
            "Epoch 1/50\n",
            "34/34 [==============================] - 4s 32ms/step - loss: 0.1077 - accuracy: 1.8832e-04\n",
            "Epoch 2/50\n",
            "34/34 [==============================] - 2s 52ms/step - loss: 0.0409 - accuracy: 7.5330e-04\n",
            "Epoch 3/50\n",
            "34/34 [==============================] - 2s 51ms/step - loss: 0.0255 - accuracy: 9.4162e-04\n",
            "Epoch 4/50\n",
            "34/34 [==============================] - 1s 32ms/step - loss: 0.0201 - accuracy: 9.4162e-04\n",
            "Epoch 5/50\n",
            "34/34 [==============================] - 1s 34ms/step - loss: 0.0186 - accuracy: 9.4162e-04\n",
            "Epoch 6/50\n",
            "34/34 [==============================] - 1s 33ms/step - loss: 0.0187 - accuracy: 9.4162e-04\n",
            "Epoch 7/50\n",
            "34/34 [==============================] - 1s 31ms/step - loss: 0.0181 - accuracy: 9.4162e-04\n",
            "Epoch 8/50\n",
            "34/34 [==============================] - 1s 32ms/step - loss: 0.0181 - accuracy: 9.4162e-04\n",
            "Epoch 9/50\n",
            "34/34 [==============================] - 1s 32ms/step - loss: 0.0178 - accuracy: 9.4162e-04\n",
            "Epoch 10/50\n",
            "34/34 [==============================] - 1s 33ms/step - loss: 0.0177 - accuracy: 9.4162e-04\n",
            "Epoch 11/50\n",
            "34/34 [==============================] - 1s 32ms/step - loss: 0.0177 - accuracy: 9.4162e-04\n",
            "Epoch 12/50\n",
            "34/34 [==============================] - 1s 38ms/step - loss: 0.0175 - accuracy: 9.4162e-04\n",
            "Epoch 13/50\n",
            "34/34 [==============================] - 2s 51ms/step - loss: 0.0172 - accuracy: 9.4162e-04\n",
            "Epoch 14/50\n",
            "34/34 [==============================] - 1s 43ms/step - loss: 0.0172 - accuracy: 9.4162e-04\n",
            "Epoch 15/50\n",
            "34/34 [==============================] - 1s 34ms/step - loss: 0.0166 - accuracy: 9.4162e-04\n",
            "Epoch 16/50\n",
            "34/34 [==============================] - 1s 31ms/step - loss: 0.0171 - accuracy: 9.4162e-04\n",
            "Epoch 17/50\n",
            "34/34 [==============================] - 1s 35ms/step - loss: 0.0170 - accuracy: 9.4162e-04\n",
            "Epoch 18/50\n",
            "34/34 [==============================] - 1s 30ms/step - loss: 0.0165 - accuracy: 9.4162e-04\n",
            "Epoch 19/50\n",
            "34/34 [==============================] - 1s 31ms/step - loss: 0.0166 - accuracy: 9.4162e-04\n",
            "Epoch 20/50\n",
            "34/34 [==============================] - 1s 32ms/step - loss: 0.0164 - accuracy: 9.4162e-04\n",
            "Epoch 21/50\n",
            "34/34 [==============================] - 1s 34ms/step - loss: 0.0162 - accuracy: 9.4162e-04\n",
            "Epoch 22/50\n",
            "34/34 [==============================] - 1s 34ms/step - loss: 0.0166 - accuracy: 9.4162e-04\n",
            "Epoch 23/50\n",
            "34/34 [==============================] - 2s 47ms/step - loss: 0.0158 - accuracy: 9.4162e-04\n",
            "Epoch 24/50\n",
            "34/34 [==============================] - 2s 57ms/step - loss: 0.0157 - accuracy: 9.4162e-04\n",
            "Epoch 25/50\n",
            "34/34 [==============================] - 1s 31ms/step - loss: 0.0155 - accuracy: 9.4162e-04\n",
            "Epoch 26/50\n",
            "34/34 [==============================] - 1s 31ms/step - loss: 0.0154 - accuracy: 9.4162e-04\n",
            "Epoch 27/50\n",
            "34/34 [==============================] - 1s 31ms/step - loss: 0.0155 - accuracy: 9.4162e-04\n",
            "Epoch 28/50\n",
            "34/34 [==============================] - 1s 34ms/step - loss: 0.0153 - accuracy: 9.4162e-04\n",
            "Epoch 29/50\n",
            "34/34 [==============================] - 1s 34ms/step - loss: 0.0148 - accuracy: 9.4162e-04\n",
            "Epoch 30/50\n",
            "34/34 [==============================] - 1s 34ms/step - loss: 0.0147 - accuracy: 9.4162e-04\n",
            "Epoch 31/50\n",
            "34/34 [==============================] - 1s 33ms/step - loss: 0.0144 - accuracy: 9.4162e-04\n",
            "Epoch 32/50\n",
            "34/34 [==============================] - 1s 31ms/step - loss: 0.0141 - accuracy: 9.4162e-04\n",
            "Epoch 33/50\n",
            "34/34 [==============================] - 1s 32ms/step - loss: 0.0136 - accuracy: 9.4162e-04\n",
            "Epoch 34/50\n",
            "34/34 [==============================] - 2s 52ms/step - loss: 0.0138 - accuracy: 9.4162e-04\n",
            "Epoch 35/50\n",
            "34/34 [==============================] - 2s 53ms/step - loss: 0.0126 - accuracy: 9.4162e-04\n",
            "Epoch 36/50\n",
            "34/34 [==============================] - 1s 33ms/step - loss: 0.0127 - accuracy: 9.4162e-04\n",
            "Epoch 37/50\n",
            "34/34 [==============================] - 1s 34ms/step - loss: 0.0121 - accuracy: 9.4162e-04\n",
            "Epoch 38/50\n",
            "34/34 [==============================] - 1s 35ms/step - loss: 0.0117 - accuracy: 9.4162e-04\n",
            "Epoch 39/50\n",
            "34/34 [==============================] - 1s 32ms/step - loss: 0.0109 - accuracy: 9.4162e-04\n",
            "Epoch 40/50\n",
            "34/34 [==============================] - 1s 32ms/step - loss: 0.0109 - accuracy: 9.4162e-04\n",
            "Epoch 41/50\n",
            "34/34 [==============================] - 1s 32ms/step - loss: 0.0101 - accuracy: 9.4162e-04\n",
            "Epoch 42/50\n",
            "34/34 [==============================] - 1s 31ms/step - loss: 0.0103 - accuracy: 9.4162e-04\n",
            "Epoch 43/50\n",
            "34/34 [==============================] - 1s 31ms/step - loss: 0.0096 - accuracy: 9.4162e-04\n",
            "Epoch 44/50\n",
            "34/34 [==============================] - 1s 38ms/step - loss: 0.0093 - accuracy: 9.4162e-04\n",
            "Epoch 45/50\n",
            "34/34 [==============================] - 2s 52ms/step - loss: 0.0087 - accuracy: 9.4162e-04\n",
            "Epoch 46/50\n",
            "34/34 [==============================] - 2s 47ms/step - loss: 0.0086 - accuracy: 9.4162e-04\n",
            "Epoch 47/50\n",
            "34/34 [==============================] - 1s 35ms/step - loss: 0.0089 - accuracy: 9.4162e-04\n",
            "Epoch 48/50\n",
            "34/34 [==============================] - 2s 63ms/step - loss: 0.0084 - accuracy: 9.4162e-04\n",
            "Epoch 49/50\n",
            "34/34 [==============================] - 2s 48ms/step - loss: 0.0083 - accuracy: 9.4162e-04\n",
            "Epoch 50/50\n",
            "34/34 [==============================] - 1s 30ms/step - loss: 0.0083 - accuracy: 9.4162e-04\n"
          ]
        }
      ]
    },
    {
      "cell_type": "code",
      "source": [
        "plt.plot(his.history['loss'])\n",
        "plt.plot(his.history['accuracy'])\n",
        "plt.title('model loss')\n",
        "plt.ylabel('loss')\n",
        "plt.xlabel('epoch')\n",
        "plt.legend(['loss','accuracy'])\n",
        "plt.show()"
      ],
      "metadata": {
        "colab": {
          "base_uri": "https://localhost:8080/",
          "height": 404
        },
        "id": "Af30BJyxihez",
        "outputId": "e30b69aa-069a-400c-9e26-4a644c8dd187"
      },
      "execution_count": null,
      "outputs": [
        {
          "output_type": "display_data",
          "data": {
            "text/plain": [
              "<Figure size 500x400 with 1 Axes>"
            ],
            "image/svg+xml": "<?xml version=\"1.0\" encoding=\"utf-8\" standalone=\"no\"?>\n<!DOCTYPE svg PUBLIC \"-//W3C//DTD SVG 1.1//EN\"\n  \"http://www.w3.org/Graphics/SVG/1.1/DTD/svg11.dtd\">\n<svg xmlns:xlink=\"http://www.w3.org/1999/xlink\" width=\"343.005937pt\" height=\"287.037813pt\" viewBox=\"0 0 343.005937 287.037813\" xmlns=\"http://www.w3.org/2000/svg\" version=\"1.1\">\n <metadata>\n  <rdf:RDF xmlns:dc=\"http://purl.org/dc/elements/1.1/\" xmlns:cc=\"http://creativecommons.org/ns#\" xmlns:rdf=\"http://www.w3.org/1999/02/22-rdf-syntax-ns#\">\n   <cc:Work>\n    <dc:type rdf:resource=\"http://purl.org/dc/dcmitype/StillImage\"/>\n    <dc:date>2023-09-04T05:40:15.757649</dc:date>\n    <dc:format>image/svg+xml</dc:format>\n    <dc:creator>\n     <cc:Agent>\n      <dc:title>Matplotlib v3.7.1, https://matplotlib.org/</dc:title>\n     </cc:Agent>\n    </dc:creator>\n   </cc:Work>\n  </rdf:RDF>\n </metadata>\n <defs>\n  <style type=\"text/css\">*{stroke-linejoin: round; stroke-linecap: butt}</style>\n </defs>\n <g id=\"figure_1\">\n  <g id=\"patch_1\">\n   <path d=\"M 0 287.037813 \nL 343.005937 287.037813 \nL 343.005937 0 \nL 0 0 \nz\n\" style=\"fill: #ffffff\"/>\n  </g>\n  <g id=\"axes_1\">\n   <g id=\"patch_2\">\n    <path d=\"M 56.805937 244.078125 \nL 335.805938 244.078125 \nL 335.805938 22.318125 \nL 56.805937 22.318125 \nz\n\" style=\"fill: #eaeaf2\"/>\n   </g>\n   <g id=\"matplotlib.axis_1\">\n    <g id=\"xtick_1\">\n     <g id=\"line2d_1\">\n      <path d=\"M 69.487756 244.078125 \nL 69.487756 22.318125 \n\" clip-path=\"url(#pa807c4402d)\" style=\"fill: none; stroke: #ffffff; stroke-linecap: round\"/>\n     </g>\n     <g id=\"text_1\">\n      <!-- 0 -->\n      <g style=\"fill: #262626\" transform=\"translate(65.988381 261.936406) scale(0.11 -0.11)\">\n       <defs>\n        <path id=\"DejaVuSans-30\" d=\"M 2034 4250 \nQ 1547 4250 1301 3770 \nQ 1056 3291 1056 2328 \nQ 1056 1369 1301 889 \nQ 1547 409 2034 409 \nQ 2525 409 2770 889 \nQ 3016 1369 3016 2328 \nQ 3016 3291 2770 3770 \nQ 2525 4250 2034 4250 \nz\nM 2034 4750 \nQ 2819 4750 3233 4129 \nQ 3647 3509 3647 2328 \nQ 3647 1150 3233 529 \nQ 2819 -91 2034 -91 \nQ 1250 -91 836 529 \nQ 422 1150 422 2328 \nQ 422 3509 836 4129 \nQ 1250 4750 2034 4750 \nz\n\" transform=\"scale(0.015625)\"/>\n       </defs>\n       <use xlink:href=\"#DejaVuSans-30\"/>\n      </g>\n     </g>\n    </g>\n    <g id=\"xtick_2\">\n     <g id=\"line2d_2\">\n      <path d=\"M 121.250279 244.078125 \nL 121.250279 22.318125 \n\" clip-path=\"url(#pa807c4402d)\" style=\"fill: none; stroke: #ffffff; stroke-linecap: round\"/>\n     </g>\n     <g id=\"text_2\">\n      <!-- 10 -->\n      <g style=\"fill: #262626\" transform=\"translate(114.251529 261.936406) scale(0.11 -0.11)\">\n       <defs>\n        <path id=\"DejaVuSans-31\" d=\"M 794 531 \nL 1825 531 \nL 1825 4091 \nL 703 3866 \nL 703 4441 \nL 1819 4666 \nL 2450 4666 \nL 2450 531 \nL 3481 531 \nL 3481 0 \nL 794 0 \nL 794 531 \nz\n\" transform=\"scale(0.015625)\"/>\n       </defs>\n       <use xlink:href=\"#DejaVuSans-31\"/>\n       <use xlink:href=\"#DejaVuSans-30\" x=\"63.623047\"/>\n      </g>\n     </g>\n    </g>\n    <g id=\"xtick_3\">\n     <g id=\"line2d_3\">\n      <path d=\"M 173.012802 244.078125 \nL 173.012802 22.318125 \n\" clip-path=\"url(#pa807c4402d)\" style=\"fill: none; stroke: #ffffff; stroke-linecap: round\"/>\n     </g>\n     <g id=\"text_3\">\n      <!-- 20 -->\n      <g style=\"fill: #262626\" transform=\"translate(166.014052 261.936406) scale(0.11 -0.11)\">\n       <defs>\n        <path id=\"DejaVuSans-32\" d=\"M 1228 531 \nL 3431 531 \nL 3431 0 \nL 469 0 \nL 469 531 \nQ 828 903 1448 1529 \nQ 2069 2156 2228 2338 \nQ 2531 2678 2651 2914 \nQ 2772 3150 2772 3378 \nQ 2772 3750 2511 3984 \nQ 2250 4219 1831 4219 \nQ 1534 4219 1204 4116 \nQ 875 4013 500 3803 \nL 500 4441 \nQ 881 4594 1212 4672 \nQ 1544 4750 1819 4750 \nQ 2544 4750 2975 4387 \nQ 3406 4025 3406 3419 \nQ 3406 3131 3298 2873 \nQ 3191 2616 2906 2266 \nQ 2828 2175 2409 1742 \nQ 1991 1309 1228 531 \nz\n\" transform=\"scale(0.015625)\"/>\n       </defs>\n       <use xlink:href=\"#DejaVuSans-32\"/>\n       <use xlink:href=\"#DejaVuSans-30\" x=\"63.623047\"/>\n      </g>\n     </g>\n    </g>\n    <g id=\"xtick_4\">\n     <g id=\"line2d_4\">\n      <path d=\"M 224.775325 244.078125 \nL 224.775325 22.318125 \n\" clip-path=\"url(#pa807c4402d)\" style=\"fill: none; stroke: #ffffff; stroke-linecap: round\"/>\n     </g>\n     <g id=\"text_4\">\n      <!-- 30 -->\n      <g style=\"fill: #262626\" transform=\"translate(217.776575 261.936406) scale(0.11 -0.11)\">\n       <defs>\n        <path id=\"DejaVuSans-33\" d=\"M 2597 2516 \nQ 3050 2419 3304 2112 \nQ 3559 1806 3559 1356 \nQ 3559 666 3084 287 \nQ 2609 -91 1734 -91 \nQ 1441 -91 1130 -33 \nQ 819 25 488 141 \nL 488 750 \nQ 750 597 1062 519 \nQ 1375 441 1716 441 \nQ 2309 441 2620 675 \nQ 2931 909 2931 1356 \nQ 2931 1769 2642 2001 \nQ 2353 2234 1838 2234 \nL 1294 2234 \nL 1294 2753 \nL 1863 2753 \nQ 2328 2753 2575 2939 \nQ 2822 3125 2822 3475 \nQ 2822 3834 2567 4026 \nQ 2313 4219 1838 4219 \nQ 1578 4219 1281 4162 \nQ 984 4106 628 3988 \nL 628 4550 \nQ 988 4650 1302 4700 \nQ 1616 4750 1894 4750 \nQ 2613 4750 3031 4423 \nQ 3450 4097 3450 3541 \nQ 3450 3153 3228 2886 \nQ 3006 2619 2597 2516 \nz\n\" transform=\"scale(0.015625)\"/>\n       </defs>\n       <use xlink:href=\"#DejaVuSans-33\"/>\n       <use xlink:href=\"#DejaVuSans-30\" x=\"63.623047\"/>\n      </g>\n     </g>\n    </g>\n    <g id=\"xtick_5\">\n     <g id=\"line2d_5\">\n      <path d=\"M 276.537848 244.078125 \nL 276.537848 22.318125 \n\" clip-path=\"url(#pa807c4402d)\" style=\"fill: none; stroke: #ffffff; stroke-linecap: round\"/>\n     </g>\n     <g id=\"text_5\">\n      <!-- 40 -->\n      <g style=\"fill: #262626\" transform=\"translate(269.539098 261.936406) scale(0.11 -0.11)\">\n       <defs>\n        <path id=\"DejaVuSans-34\" d=\"M 2419 4116 \nL 825 1625 \nL 2419 1625 \nL 2419 4116 \nz\nM 2253 4666 \nL 3047 4666 \nL 3047 1625 \nL 3713 1625 \nL 3713 1100 \nL 3047 1100 \nL 3047 0 \nL 2419 0 \nL 2419 1100 \nL 313 1100 \nL 313 1709 \nL 2253 4666 \nz\n\" transform=\"scale(0.015625)\"/>\n       </defs>\n       <use xlink:href=\"#DejaVuSans-34\"/>\n       <use xlink:href=\"#DejaVuSans-30\" x=\"63.623047\"/>\n      </g>\n     </g>\n    </g>\n    <g id=\"xtick_6\">\n     <g id=\"line2d_6\">\n      <path d=\"M 328.300372 244.078125 \nL 328.300372 22.318125 \n\" clip-path=\"url(#pa807c4402d)\" style=\"fill: none; stroke: #ffffff; stroke-linecap: round\"/>\n     </g>\n     <g id=\"text_6\">\n      <!-- 50 -->\n      <g style=\"fill: #262626\" transform=\"translate(321.301622 261.936406) scale(0.11 -0.11)\">\n       <defs>\n        <path id=\"DejaVuSans-35\" d=\"M 691 4666 \nL 3169 4666 \nL 3169 4134 \nL 1269 4134 \nL 1269 2991 \nQ 1406 3038 1543 3061 \nQ 1681 3084 1819 3084 \nQ 2600 3084 3056 2656 \nQ 3513 2228 3513 1497 \nQ 3513 744 3044 326 \nQ 2575 -91 1722 -91 \nQ 1428 -91 1123 -41 \nQ 819 9 494 109 \nL 494 744 \nQ 775 591 1075 516 \nQ 1375 441 1709 441 \nQ 2250 441 2565 725 \nQ 2881 1009 2881 1497 \nQ 2881 1984 2565 2268 \nQ 2250 2553 1709 2553 \nQ 1456 2553 1204 2497 \nQ 953 2441 691 2322 \nL 691 4666 \nz\n\" transform=\"scale(0.015625)\"/>\n       </defs>\n       <use xlink:href=\"#DejaVuSans-35\"/>\n       <use xlink:href=\"#DejaVuSans-30\" x=\"63.623047\"/>\n      </g>\n     </g>\n    </g>\n    <g id=\"text_7\">\n     <!-- epoch -->\n     <g style=\"fill: #262626\" transform=\"translate(178.032187 277.342188) scale(0.12 -0.12)\">\n      <defs>\n       <path id=\"DejaVuSans-65\" d=\"M 3597 1894 \nL 3597 1613 \nL 953 1613 \nQ 991 1019 1311 708 \nQ 1631 397 2203 397 \nQ 2534 397 2845 478 \nQ 3156 559 3463 722 \nL 3463 178 \nQ 3153 47 2828 -22 \nQ 2503 -91 2169 -91 \nQ 1331 -91 842 396 \nQ 353 884 353 1716 \nQ 353 2575 817 3079 \nQ 1281 3584 2069 3584 \nQ 2775 3584 3186 3129 \nQ 3597 2675 3597 1894 \nz\nM 3022 2063 \nQ 3016 2534 2758 2815 \nQ 2500 3097 2075 3097 \nQ 1594 3097 1305 2825 \nQ 1016 2553 972 2059 \nL 3022 2063 \nz\n\" transform=\"scale(0.015625)\"/>\n       <path id=\"DejaVuSans-70\" d=\"M 1159 525 \nL 1159 -1331 \nL 581 -1331 \nL 581 3500 \nL 1159 3500 \nL 1159 2969 \nQ 1341 3281 1617 3432 \nQ 1894 3584 2278 3584 \nQ 2916 3584 3314 3078 \nQ 3713 2572 3713 1747 \nQ 3713 922 3314 415 \nQ 2916 -91 2278 -91 \nQ 1894 -91 1617 61 \nQ 1341 213 1159 525 \nz\nM 3116 1747 \nQ 3116 2381 2855 2742 \nQ 2594 3103 2138 3103 \nQ 1681 3103 1420 2742 \nQ 1159 2381 1159 1747 \nQ 1159 1113 1420 752 \nQ 1681 391 2138 391 \nQ 2594 391 2855 752 \nQ 3116 1113 3116 1747 \nz\n\" transform=\"scale(0.015625)\"/>\n       <path id=\"DejaVuSans-6f\" d=\"M 1959 3097 \nQ 1497 3097 1228 2736 \nQ 959 2375 959 1747 \nQ 959 1119 1226 758 \nQ 1494 397 1959 397 \nQ 2419 397 2687 759 \nQ 2956 1122 2956 1747 \nQ 2956 2369 2687 2733 \nQ 2419 3097 1959 3097 \nz\nM 1959 3584 \nQ 2709 3584 3137 3096 \nQ 3566 2609 3566 1747 \nQ 3566 888 3137 398 \nQ 2709 -91 1959 -91 \nQ 1206 -91 779 398 \nQ 353 888 353 1747 \nQ 353 2609 779 3096 \nQ 1206 3584 1959 3584 \nz\n\" transform=\"scale(0.015625)\"/>\n       <path id=\"DejaVuSans-63\" d=\"M 3122 3366 \nL 3122 2828 \nQ 2878 2963 2633 3030 \nQ 2388 3097 2138 3097 \nQ 1578 3097 1268 2742 \nQ 959 2388 959 1747 \nQ 959 1106 1268 751 \nQ 1578 397 2138 397 \nQ 2388 397 2633 464 \nQ 2878 531 3122 666 \nL 3122 134 \nQ 2881 22 2623 -34 \nQ 2366 -91 2075 -91 \nQ 1284 -91 818 406 \nQ 353 903 353 1747 \nQ 353 2603 823 3093 \nQ 1294 3584 2113 3584 \nQ 2378 3584 2631 3529 \nQ 2884 3475 3122 3366 \nz\n\" transform=\"scale(0.015625)\"/>\n       <path id=\"DejaVuSans-68\" d=\"M 3513 2113 \nL 3513 0 \nL 2938 0 \nL 2938 2094 \nQ 2938 2591 2744 2837 \nQ 2550 3084 2163 3084 \nQ 1697 3084 1428 2787 \nQ 1159 2491 1159 1978 \nL 1159 0 \nL 581 0 \nL 581 4863 \nL 1159 4863 \nL 1159 2956 \nQ 1366 3272 1645 3428 \nQ 1925 3584 2291 3584 \nQ 2894 3584 3203 3211 \nQ 3513 2838 3513 2113 \nz\n\" transform=\"scale(0.015625)\"/>\n      </defs>\n      <use xlink:href=\"#DejaVuSans-65\"/>\n      <use xlink:href=\"#DejaVuSans-70\" x=\"61.523438\"/>\n      <use xlink:href=\"#DejaVuSans-6f\" x=\"125\"/>\n      <use xlink:href=\"#DejaVuSans-63\" x=\"186.181641\"/>\n      <use xlink:href=\"#DejaVuSans-68\" x=\"241.162109\"/>\n     </g>\n    </g>\n   </g>\n   <g id=\"matplotlib.axis_2\">\n    <g id=\"ytick_1\">\n     <g id=\"line2d_7\">\n      <path d=\"M 56.805937 234.351215 \nL 335.805938 234.351215 \n\" clip-path=\"url(#pa807c4402d)\" style=\"fill: none; stroke: #ffffff; stroke-linecap: round\"/>\n     </g>\n     <g id=\"text_8\">\n      <!-- 0.00 -->\n      <g style=\"fill: #262626\" transform=\"translate(22.81375 238.530356) scale(0.11 -0.11)\">\n       <defs>\n        <path id=\"DejaVuSans-2e\" d=\"M 684 794 \nL 1344 794 \nL 1344 0 \nL 684 0 \nL 684 794 \nz\n\" transform=\"scale(0.015625)\"/>\n       </defs>\n       <use xlink:href=\"#DejaVuSans-30\"/>\n       <use xlink:href=\"#DejaVuSans-2e\" x=\"63.623047\"/>\n       <use xlink:href=\"#DejaVuSans-30\" x=\"95.410156\"/>\n       <use xlink:href=\"#DejaVuSans-30\" x=\"159.033203\"/>\n      </g>\n     </g>\n    </g>\n    <g id=\"ytick_2\">\n     <g id=\"line2d_8\">\n      <path d=\"M 56.805937 196.853017 \nL 335.805938 196.853017 \n\" clip-path=\"url(#pa807c4402d)\" style=\"fill: none; stroke: #ffffff; stroke-linecap: round\"/>\n     </g>\n     <g id=\"text_9\">\n      <!-- 0.02 -->\n      <g style=\"fill: #262626\" transform=\"translate(22.81375 201.032158) scale(0.11 -0.11)\">\n       <use xlink:href=\"#DejaVuSans-30\"/>\n       <use xlink:href=\"#DejaVuSans-2e\" x=\"63.623047\"/>\n       <use xlink:href=\"#DejaVuSans-30\" x=\"95.410156\"/>\n       <use xlink:href=\"#DejaVuSans-32\" x=\"159.033203\"/>\n      </g>\n     </g>\n    </g>\n    <g id=\"ytick_3\">\n     <g id=\"line2d_9\">\n      <path d=\"M 56.805937 159.354819 \nL 335.805938 159.354819 \n\" clip-path=\"url(#pa807c4402d)\" style=\"fill: none; stroke: #ffffff; stroke-linecap: round\"/>\n     </g>\n     <g id=\"text_10\">\n      <!-- 0.04 -->\n      <g style=\"fill: #262626\" transform=\"translate(22.81375 163.53396) scale(0.11 -0.11)\">\n       <use xlink:href=\"#DejaVuSans-30\"/>\n       <use xlink:href=\"#DejaVuSans-2e\" x=\"63.623047\"/>\n       <use xlink:href=\"#DejaVuSans-30\" x=\"95.410156\"/>\n       <use xlink:href=\"#DejaVuSans-34\" x=\"159.033203\"/>\n      </g>\n     </g>\n    </g>\n    <g id=\"ytick_4\">\n     <g id=\"line2d_10\">\n      <path d=\"M 56.805937 121.856621 \nL 335.805938 121.856621 \n\" clip-path=\"url(#pa807c4402d)\" style=\"fill: none; stroke: #ffffff; stroke-linecap: round\"/>\n     </g>\n     <g id=\"text_11\">\n      <!-- 0.06 -->\n      <g style=\"fill: #262626\" transform=\"translate(22.81375 126.035762) scale(0.11 -0.11)\">\n       <defs>\n        <path id=\"DejaVuSans-36\" d=\"M 2113 2584 \nQ 1688 2584 1439 2293 \nQ 1191 2003 1191 1497 \nQ 1191 994 1439 701 \nQ 1688 409 2113 409 \nQ 2538 409 2786 701 \nQ 3034 994 3034 1497 \nQ 3034 2003 2786 2293 \nQ 2538 2584 2113 2584 \nz\nM 3366 4563 \nL 3366 3988 \nQ 3128 4100 2886 4159 \nQ 2644 4219 2406 4219 \nQ 1781 4219 1451 3797 \nQ 1122 3375 1075 2522 \nQ 1259 2794 1537 2939 \nQ 1816 3084 2150 3084 \nQ 2853 3084 3261 2657 \nQ 3669 2231 3669 1497 \nQ 3669 778 3244 343 \nQ 2819 -91 2113 -91 \nQ 1303 -91 875 529 \nQ 447 1150 447 2328 \nQ 447 3434 972 4092 \nQ 1497 4750 2381 4750 \nQ 2619 4750 2861 4703 \nQ 3103 4656 3366 4563 \nz\n\" transform=\"scale(0.015625)\"/>\n       </defs>\n       <use xlink:href=\"#DejaVuSans-30\"/>\n       <use xlink:href=\"#DejaVuSans-2e\" x=\"63.623047\"/>\n       <use xlink:href=\"#DejaVuSans-30\" x=\"95.410156\"/>\n       <use xlink:href=\"#DejaVuSans-36\" x=\"159.033203\"/>\n      </g>\n     </g>\n    </g>\n    <g id=\"ytick_5\">\n     <g id=\"line2d_11\">\n      <path d=\"M 56.805937 84.358423 \nL 335.805938 84.358423 \n\" clip-path=\"url(#pa807c4402d)\" style=\"fill: none; stroke: #ffffff; stroke-linecap: round\"/>\n     </g>\n     <g id=\"text_12\">\n      <!-- 0.08 -->\n      <g style=\"fill: #262626\" transform=\"translate(22.81375 88.537564) scale(0.11 -0.11)\">\n       <defs>\n        <path id=\"DejaVuSans-38\" d=\"M 2034 2216 \nQ 1584 2216 1326 1975 \nQ 1069 1734 1069 1313 \nQ 1069 891 1326 650 \nQ 1584 409 2034 409 \nQ 2484 409 2743 651 \nQ 3003 894 3003 1313 \nQ 3003 1734 2745 1975 \nQ 2488 2216 2034 2216 \nz\nM 1403 2484 \nQ 997 2584 770 2862 \nQ 544 3141 544 3541 \nQ 544 4100 942 4425 \nQ 1341 4750 2034 4750 \nQ 2731 4750 3128 4425 \nQ 3525 4100 3525 3541 \nQ 3525 3141 3298 2862 \nQ 3072 2584 2669 2484 \nQ 3125 2378 3379 2068 \nQ 3634 1759 3634 1313 \nQ 3634 634 3220 271 \nQ 2806 -91 2034 -91 \nQ 1263 -91 848 271 \nQ 434 634 434 1313 \nQ 434 1759 690 2068 \nQ 947 2378 1403 2484 \nz\nM 1172 3481 \nQ 1172 3119 1398 2916 \nQ 1625 2713 2034 2713 \nQ 2441 2713 2670 2916 \nQ 2900 3119 2900 3481 \nQ 2900 3844 2670 4047 \nQ 2441 4250 2034 4250 \nQ 1625 4250 1398 4047 \nQ 1172 3844 1172 3481 \nz\n\" transform=\"scale(0.015625)\"/>\n       </defs>\n       <use xlink:href=\"#DejaVuSans-30\"/>\n       <use xlink:href=\"#DejaVuSans-2e\" x=\"63.623047\"/>\n       <use xlink:href=\"#DejaVuSans-30\" x=\"95.410156\"/>\n       <use xlink:href=\"#DejaVuSans-38\" x=\"159.033203\"/>\n      </g>\n     </g>\n    </g>\n    <g id=\"ytick_6\">\n     <g id=\"line2d_12\">\n      <path d=\"M 56.805937 46.860225 \nL 335.805938 46.860225 \n\" clip-path=\"url(#pa807c4402d)\" style=\"fill: none; stroke: #ffffff; stroke-linecap: round\"/>\n     </g>\n     <g id=\"text_13\">\n      <!-- 0.10 -->\n      <g style=\"fill: #262626\" transform=\"translate(22.81375 51.039366) scale(0.11 -0.11)\">\n       <use xlink:href=\"#DejaVuSans-30\"/>\n       <use xlink:href=\"#DejaVuSans-2e\" x=\"63.623047\"/>\n       <use xlink:href=\"#DejaVuSans-31\" x=\"95.410156\"/>\n       <use xlink:href=\"#DejaVuSans-30\" x=\"159.033203\"/>\n      </g>\n     </g>\n    </g>\n    <g id=\"text_14\">\n     <!-- loss -->\n     <g style=\"fill: #262626\" transform=\"translate(16.318125 144.7875) rotate(-90) scale(0.12 -0.12)\">\n      <defs>\n       <path id=\"DejaVuSans-6c\" d=\"M 603 4863 \nL 1178 4863 \nL 1178 0 \nL 603 0 \nL 603 4863 \nz\n\" transform=\"scale(0.015625)\"/>\n       <path id=\"DejaVuSans-73\" d=\"M 2834 3397 \nL 2834 2853 \nQ 2591 2978 2328 3040 \nQ 2066 3103 1784 3103 \nQ 1356 3103 1142 2972 \nQ 928 2841 928 2578 \nQ 928 2378 1081 2264 \nQ 1234 2150 1697 2047 \nL 1894 2003 \nQ 2506 1872 2764 1633 \nQ 3022 1394 3022 966 \nQ 3022 478 2636 193 \nQ 2250 -91 1575 -91 \nQ 1294 -91 989 -36 \nQ 684 19 347 128 \nL 347 722 \nQ 666 556 975 473 \nQ 1284 391 1588 391 \nQ 1994 391 2212 530 \nQ 2431 669 2431 922 \nQ 2431 1156 2273 1281 \nQ 2116 1406 1581 1522 \nL 1381 1569 \nQ 847 1681 609 1914 \nQ 372 2147 372 2553 \nQ 372 3047 722 3315 \nQ 1072 3584 1716 3584 \nQ 2034 3584 2315 3537 \nQ 2597 3491 2834 3397 \nz\n\" transform=\"scale(0.015625)\"/>\n      </defs>\n      <use xlink:href=\"#DejaVuSans-6c\"/>\n      <use xlink:href=\"#DejaVuSans-6f\" x=\"27.783203\"/>\n      <use xlink:href=\"#DejaVuSans-73\" x=\"88.964844\"/>\n      <use xlink:href=\"#DejaVuSans-73\" x=\"141.064453\"/>\n     </g>\n    </g>\n   </g>\n   <g id=\"line2d_13\">\n    <path d=\"M 69.487756 32.398125 \nL 74.664008 157.647551 \nL 79.84026 186.516253 \nL 85.016513 196.578475 \nL 90.192765 199.454154 \nL 95.369017 199.257716 \nL 100.54527 200.470268 \nL 105.721522 200.36683 \nL 110.897774 201.014933 \nL 116.074027 201.14654 \nL 121.250279 201.243311 \nL 126.426531 201.450386 \nL 131.602784 202.036442 \nL 136.779036 202.009342 \nL 141.955288 203.145426 \nL 147.13154 202.238855 \nL 152.307793 202.512804 \nL 157.484045 203.335728 \nL 162.660297 203.286581 \nL 167.83655 203.638195 \nL 173.012802 204.042879 \nL 178.189054 203.318546 \nL 183.365307 204.671788 \nL 188.541559 204.938795 \nL 193.717811 205.354327 \nL 198.894064 205.525578 \nL 204.070316 205.377547 \nL 209.246568 205.662703 \nL 214.422821 206.627227 \nL 219.599073 206.751553 \nL 224.775325 207.27847 \nL 229.951578 207.915506 \nL 235.12783 208.802754 \nL 240.304082 208.554017 \nL 245.480335 210.634155 \nL 250.656587 210.452926 \nL 255.832839 211.713101 \nL 261.009091 212.433113 \nL 266.185344 214.004779 \nL 271.361596 213.972318 \nL 276.537848 215.325552 \nL 281.714101 214.99367 \nL 286.890353 216.344306 \nL 292.066605 216.889947 \nL 297.242858 218.083528 \nL 302.41911 218.213775 \nL 307.595362 217.654622 \nL 312.771615 218.579248 \nL 317.947867 218.729406 \nL 323.124119 218.812919 \n\" clip-path=\"url(#pa807c4402d)\" style=\"fill: none; stroke: #4c72b0; stroke-width: 1.5; stroke-linecap: round\"/>\n   </g>\n   <g id=\"line2d_14\">\n    <path d=\"M 69.487756 233.998125 \nL 74.664008 232.938854 \nL 79.84026 232.585764 \nL 85.016513 232.585764 \nL 90.192765 232.585764 \nL 95.369017 232.585764 \nL 100.54527 232.585764 \nL 105.721522 232.585764 \nL 110.897774 232.585764 \nL 116.074027 232.585764 \nL 121.250279 232.585764 \nL 126.426531 232.585764 \nL 131.602784 232.585764 \nL 136.779036 232.585764 \nL 141.955288 232.585764 \nL 147.13154 232.585764 \nL 152.307793 232.585764 \nL 157.484045 232.585764 \nL 162.660297 232.585764 \nL 167.83655 232.585764 \nL 173.012802 232.585764 \nL 178.189054 232.585764 \nL 183.365307 232.585764 \nL 188.541559 232.585764 \nL 193.717811 232.585764 \nL 198.894064 232.585764 \nL 204.070316 232.585764 \nL 209.246568 232.585764 \nL 214.422821 232.585764 \nL 219.599073 232.585764 \nL 224.775325 232.585764 \nL 229.951578 232.585764 \nL 235.12783 232.585764 \nL 240.304082 232.585764 \nL 245.480335 232.585764 \nL 250.656587 232.585764 \nL 255.832839 232.585764 \nL 261.009091 232.585764 \nL 266.185344 232.585764 \nL 271.361596 232.585764 \nL 276.537848 232.585764 \nL 281.714101 232.585764 \nL 286.890353 232.585764 \nL 292.066605 232.585764 \nL 297.242858 232.585764 \nL 302.41911 232.585764 \nL 307.595362 232.585764 \nL 312.771615 232.585764 \nL 317.947867 232.585764 \nL 323.124119 232.585764 \n\" clip-path=\"url(#pa807c4402d)\" style=\"fill: none; stroke: #dd8452; stroke-width: 1.5; stroke-linecap: round\"/>\n   </g>\n   <g id=\"patch_3\">\n    <path d=\"M 56.805937 244.078125 \nL 56.805937 22.318125 \n\" style=\"fill: none; stroke: #ffffff; stroke-width: 1.25; stroke-linejoin: miter; stroke-linecap: square\"/>\n   </g>\n   <g id=\"patch_4\">\n    <path d=\"M 335.805938 244.078125 \nL 335.805938 22.318125 \n\" style=\"fill: none; stroke: #ffffff; stroke-width: 1.25; stroke-linejoin: miter; stroke-linecap: square\"/>\n   </g>\n   <g id=\"patch_5\">\n    <path d=\"M 56.805938 244.078125 \nL 335.805938 244.078125 \n\" style=\"fill: none; stroke: #ffffff; stroke-width: 1.25; stroke-linejoin: miter; stroke-linecap: square\"/>\n   </g>\n   <g id=\"patch_6\">\n    <path d=\"M 56.805938 22.318125 \nL 335.805938 22.318125 \n\" style=\"fill: none; stroke: #ffffff; stroke-width: 1.25; stroke-linejoin: miter; stroke-linecap: square\"/>\n   </g>\n   <g id=\"text_15\">\n    <!-- model loss -->\n    <g style=\"fill: #262626\" transform=\"translate(164.12625 16.318125) scale(0.12 -0.12)\">\n     <defs>\n      <path id=\"DejaVuSans-6d\" d=\"M 3328 2828 \nQ 3544 3216 3844 3400 \nQ 4144 3584 4550 3584 \nQ 5097 3584 5394 3201 \nQ 5691 2819 5691 2113 \nL 5691 0 \nL 5113 0 \nL 5113 2094 \nQ 5113 2597 4934 2840 \nQ 4756 3084 4391 3084 \nQ 3944 3084 3684 2787 \nQ 3425 2491 3425 1978 \nL 3425 0 \nL 2847 0 \nL 2847 2094 \nQ 2847 2600 2669 2842 \nQ 2491 3084 2119 3084 \nQ 1678 3084 1418 2786 \nQ 1159 2488 1159 1978 \nL 1159 0 \nL 581 0 \nL 581 3500 \nL 1159 3500 \nL 1159 2956 \nQ 1356 3278 1631 3431 \nQ 1906 3584 2284 3584 \nQ 2666 3584 2933 3390 \nQ 3200 3197 3328 2828 \nz\n\" transform=\"scale(0.015625)\"/>\n      <path id=\"DejaVuSans-64\" d=\"M 2906 2969 \nL 2906 4863 \nL 3481 4863 \nL 3481 0 \nL 2906 0 \nL 2906 525 \nQ 2725 213 2448 61 \nQ 2172 -91 1784 -91 \nQ 1150 -91 751 415 \nQ 353 922 353 1747 \nQ 353 2572 751 3078 \nQ 1150 3584 1784 3584 \nQ 2172 3584 2448 3432 \nQ 2725 3281 2906 2969 \nz\nM 947 1747 \nQ 947 1113 1208 752 \nQ 1469 391 1925 391 \nQ 2381 391 2643 752 \nQ 2906 1113 2906 1747 \nQ 2906 2381 2643 2742 \nQ 2381 3103 1925 3103 \nQ 1469 3103 1208 2742 \nQ 947 2381 947 1747 \nz\n\" transform=\"scale(0.015625)\"/>\n      <path id=\"DejaVuSans-20\" transform=\"scale(0.015625)\"/>\n     </defs>\n     <use xlink:href=\"#DejaVuSans-6d\"/>\n     <use xlink:href=\"#DejaVuSans-6f\" x=\"97.412109\"/>\n     <use xlink:href=\"#DejaVuSans-64\" x=\"158.59375\"/>\n     <use xlink:href=\"#DejaVuSans-65\" x=\"222.070312\"/>\n     <use xlink:href=\"#DejaVuSans-6c\" x=\"283.59375\"/>\n     <use xlink:href=\"#DejaVuSans-20\" x=\"311.376953\"/>\n     <use xlink:href=\"#DejaVuSans-6c\" x=\"343.164062\"/>\n     <use xlink:href=\"#DejaVuSans-6f\" x=\"370.947266\"/>\n     <use xlink:href=\"#DejaVuSans-73\" x=\"432.128906\"/>\n     <use xlink:href=\"#DejaVuSans-73\" x=\"484.228516\"/>\n    </g>\n   </g>\n   <g id=\"legend_1\">\n    <g id=\"patch_7\">\n     <path d=\"M 243.275312 63.41 \nL 328.105937 63.41 \nQ 330.305937 63.41 330.305937 61.21 \nL 330.305937 30.018125 \nQ 330.305937 27.818125 328.105937 27.818125 \nL 243.275312 27.818125 \nQ 241.075312 27.818125 241.075312 30.018125 \nL 241.075312 61.21 \nQ 241.075312 63.41 243.275312 63.41 \nz\n\" style=\"fill: #eaeaf2; opacity: 0.8; stroke: #cccccc; stroke-linejoin: miter\"/>\n    </g>\n    <g id=\"line2d_15\">\n     <path d=\"M 245.475312 36.726406 \nL 256.475312 36.726406 \nL 267.475312 36.726406 \n\" style=\"fill: none; stroke: #4c72b0; stroke-width: 1.5; stroke-linecap: round\"/>\n    </g>\n    <g id=\"text_16\">\n     <!-- loss -->\n     <g style=\"fill: #262626\" transform=\"translate(276.275312 40.576406) scale(0.11 -0.11)\">\n      <use xlink:href=\"#DejaVuSans-6c\"/>\n      <use xlink:href=\"#DejaVuSans-6f\" x=\"27.783203\"/>\n      <use xlink:href=\"#DejaVuSans-73\" x=\"88.964844\"/>\n      <use xlink:href=\"#DejaVuSans-73\" x=\"141.064453\"/>\n     </g>\n    </g>\n    <g id=\"line2d_16\">\n     <path d=\"M 245.475312 52.872344 \nL 256.475312 52.872344 \nL 267.475312 52.872344 \n\" style=\"fill: none; stroke: #dd8452; stroke-width: 1.5; stroke-linecap: round\"/>\n    </g>\n    <g id=\"text_17\">\n     <!-- accuracy -->\n     <g style=\"fill: #262626\" transform=\"translate(276.275312 56.722344) scale(0.11 -0.11)\">\n      <defs>\n       <path id=\"DejaVuSans-61\" d=\"M 2194 1759 \nQ 1497 1759 1228 1600 \nQ 959 1441 959 1056 \nQ 959 750 1161 570 \nQ 1363 391 1709 391 \nQ 2188 391 2477 730 \nQ 2766 1069 2766 1631 \nL 2766 1759 \nL 2194 1759 \nz\nM 3341 1997 \nL 3341 0 \nL 2766 0 \nL 2766 531 \nQ 2569 213 2275 61 \nQ 1981 -91 1556 -91 \nQ 1019 -91 701 211 \nQ 384 513 384 1019 \nQ 384 1609 779 1909 \nQ 1175 2209 1959 2209 \nL 2766 2209 \nL 2766 2266 \nQ 2766 2663 2505 2880 \nQ 2244 3097 1772 3097 \nQ 1472 3097 1187 3025 \nQ 903 2953 641 2809 \nL 641 3341 \nQ 956 3463 1253 3523 \nQ 1550 3584 1831 3584 \nQ 2591 3584 2966 3190 \nQ 3341 2797 3341 1997 \nz\n\" transform=\"scale(0.015625)\"/>\n       <path id=\"DejaVuSans-75\" d=\"M 544 1381 \nL 544 3500 \nL 1119 3500 \nL 1119 1403 \nQ 1119 906 1312 657 \nQ 1506 409 1894 409 \nQ 2359 409 2629 706 \nQ 2900 1003 2900 1516 \nL 2900 3500 \nL 3475 3500 \nL 3475 0 \nL 2900 0 \nL 2900 538 \nQ 2691 219 2414 64 \nQ 2138 -91 1772 -91 \nQ 1169 -91 856 284 \nQ 544 659 544 1381 \nz\nM 1991 3584 \nL 1991 3584 \nz\n\" transform=\"scale(0.015625)\"/>\n       <path id=\"DejaVuSans-72\" d=\"M 2631 2963 \nQ 2534 3019 2420 3045 \nQ 2306 3072 2169 3072 \nQ 1681 3072 1420 2755 \nQ 1159 2438 1159 1844 \nL 1159 0 \nL 581 0 \nL 581 3500 \nL 1159 3500 \nL 1159 2956 \nQ 1341 3275 1631 3429 \nQ 1922 3584 2338 3584 \nQ 2397 3584 2469 3576 \nQ 2541 3569 2628 3553 \nL 2631 2963 \nz\n\" transform=\"scale(0.015625)\"/>\n       <path id=\"DejaVuSans-79\" d=\"M 2059 -325 \nQ 1816 -950 1584 -1140 \nQ 1353 -1331 966 -1331 \nL 506 -1331 \nL 506 -850 \nL 844 -850 \nQ 1081 -850 1212 -737 \nQ 1344 -625 1503 -206 \nL 1606 56 \nL 191 3500 \nL 800 3500 \nL 1894 763 \nL 2988 3500 \nL 3597 3500 \nL 2059 -325 \nz\n\" transform=\"scale(0.015625)\"/>\n      </defs>\n      <use xlink:href=\"#DejaVuSans-61\"/>\n      <use xlink:href=\"#DejaVuSans-63\" x=\"61.279297\"/>\n      <use xlink:href=\"#DejaVuSans-63\" x=\"116.259766\"/>\n      <use xlink:href=\"#DejaVuSans-75\" x=\"171.240234\"/>\n      <use xlink:href=\"#DejaVuSans-72\" x=\"234.619141\"/>\n      <use xlink:href=\"#DejaVuSans-61\" x=\"275.732422\"/>\n      <use xlink:href=\"#DejaVuSans-63\" x=\"337.011719\"/>\n      <use xlink:href=\"#DejaVuSans-79\" x=\"391.992188\"/>\n     </g>\n    </g>\n   </g>\n  </g>\n </g>\n <defs>\n  <clipPath id=\"pa807c4402d\">\n   <rect x=\"56.805937\" y=\"22.318125\" width=\"279\" height=\"221.76\"/>\n  </clipPath>\n </defs>\n</svg>\n"
          },
          "metadata": {}
        }
      ]
    },
    {
      "cell_type": "code",
      "source": [
        "predicted_sales = model.predict(x_test)"
      ],
      "metadata": {
        "colab": {
          "base_uri": "https://localhost:8080/"
        },
        "id": "4u8WRK59mKVa",
        "outputId": "fd96a874-e638-4022-9d7a-8bdbd24510ae"
      },
      "execution_count": null,
      "outputs": [
        {
          "output_type": "stream",
          "name": "stdout",
          "text": [
            "11/11 [==============================] - 0s 11ms/step\n"
          ]
        }
      ]
    },
    {
      "cell_type": "code",
      "source": [
        "predicted_sales"
      ],
      "metadata": {
        "colab": {
          "base_uri": "https://localhost:8080/"
        },
        "id": "8wmDDGDemNTT",
        "outputId": "fc4e08a2-9f2f-4c9b-cf5d-b4fd9de6aba2"
      },
      "execution_count": null,
      "outputs": [
        {
          "output_type": "execute_result",
          "data": {
            "text/plain": [
              "array([[[0.1384146 ],\n",
              "        [0.15555389],\n",
              "        [0.18524249],\n",
              "        [0.21825835],\n",
              "        [0.2501393 ]],\n",
              "\n",
              "       [[0.15886003],\n",
              "        [0.18782264],\n",
              "        [0.21787855],\n",
              "        [0.24230406],\n",
              "        [0.25822836]],\n",
              "\n",
              "       [[0.20243134],\n",
              "        [0.22932708],\n",
              "        [0.23161677],\n",
              "        [0.20331441],\n",
              "        [0.15152448]],\n",
              "\n",
              "       ...,\n",
              "\n",
              "       [[0.1850003 ],\n",
              "        [0.22572774],\n",
              "        [0.26924255],\n",
              "        [0.31091276],\n",
              "        [0.3490458 ]],\n",
              "\n",
              "       [[0.19699591],\n",
              "        [0.245298  ],\n",
              "        [0.2892756 ],\n",
              "        [0.32815507],\n",
              "        [0.3640892 ]],\n",
              "\n",
              "       [[0.21907082],\n",
              "        [0.2703748 ],\n",
              "        [0.31158257],\n",
              "        [0.3269501 ],\n",
              "        [0.31011865]]], dtype=float32)"
            ]
          },
          "metadata": {},
          "execution_count": 212
        }
      ]
    },
    {
      "cell_type": "code",
      "source": [
        "y_test = scaler.inverse_transform(np.squeeze(y_test))\n",
        "predicted_sales = scaler.inverse_transform(np.squeeze(predicted_sales))"
      ],
      "metadata": {
        "id": "XsAOMrIFmQQf"
      },
      "execution_count": null,
      "outputs": []
    },
    {
      "cell_type": "code",
      "source": [
        "y_test = y_test.flatten()\n",
        "predicted_sales = predicted_sales.flatten()"
      ],
      "metadata": {
        "id": "U7zCQciNmYr4"
      },
      "execution_count": null,
      "outputs": []
    },
    {
      "cell_type": "code",
      "source": [
        "predicted_sales"
      ],
      "metadata": {
        "colab": {
          "base_uri": "https://localhost:8080/"
        },
        "id": "yvPjluxHmccF",
        "outputId": "f82923e3-a36c-46fd-e210-57e069888161"
      },
      "execution_count": null,
      "outputs": [
        {
          "output_type": "execute_result",
          "data": {
            "text/plain": [
              "array([39.48821 , 40.49048 , 42.22661 , ..., 49.614727, 50.513386,\n",
              "       49.529118], dtype=float32)"
            ]
          },
          "metadata": {},
          "execution_count": 215
        }
      ]
    },
    {
      "cell_type": "code",
      "source": [
        "plt.plot(y_test, color='black', label=f\"Actual Sales\")\n",
        "plt.plot(predicted_sales, color= 'green', label=\"Predicted Sales\")\n",
        "plt.title(\"Sales vs Predicted Sales\")\n",
        "plt.xlabel(\"Days\")\n",
        "plt.ylabel(\"Price\")\n",
        "plt.legend()\n",
        "plt.show()"
      ],
      "metadata": {
        "colab": {
          "base_uri": "https://localhost:8080/",
          "height": 404
        },
        "id": "_TnrIf4DneiE",
        "outputId": "ffad95ed-e1c6-40c4-bcc9-c23f2c9fbd15"
      },
      "execution_count": null,
      "outputs": [
        {
          "output_type": "display_data",
          "data": {
            "text/plain": [
              "<Figure size 500x400 with 1 Axes>"
            ],
            "image/svg+xml": "<?xml version=\"1.0\" encoding=\"utf-8\" standalone=\"no\"?>\n<!DOCTYPE svg PUBLIC \"-//W3C//DTD SVG 1.1//EN\"\n  \"http://www.w3.org/Graphics/SVG/1.1/DTD/svg11.dtd\">\n<svg xmlns:xlink=\"http://www.w3.org/1999/xlink\" width=\"332.51125pt\" height=\"287.037813pt\" viewBox=\"0 0 332.51125 287.037813\" xmlns=\"http://www.w3.org/2000/svg\" version=\"1.1\">\n <metadata>\n  <rdf:RDF xmlns:dc=\"http://purl.org/dc/elements/1.1/\" xmlns:cc=\"http://creativecommons.org/ns#\" xmlns:rdf=\"http://www.w3.org/1999/02/22-rdf-syntax-ns#\">\n   <cc:Work>\n    <dc:type rdf:resource=\"http://purl.org/dc/dcmitype/StillImage\"/>\n    <dc:date>2023-09-04T05:40:09.195681</dc:date>\n    <dc:format>image/svg+xml</dc:format>\n    <dc:creator>\n     <cc:Agent>\n      <dc:title>Matplotlib v3.7.1, https://matplotlib.org/</dc:title>\n     </cc:Agent>\n    </dc:creator>\n   </cc:Work>\n  </rdf:RDF>\n </metadata>\n <defs>\n  <style type=\"text/css\">*{stroke-linejoin: round; stroke-linecap: butt}</style>\n </defs>\n <g id=\"figure_1\">\n  <g id=\"patch_1\">\n   <path d=\"M 0 287.037813 \nL 332.51125 287.037813 \nL 332.51125 0 \nL 0 0 \nz\n\" style=\"fill: #ffffff\"/>\n  </g>\n  <g id=\"axes_1\">\n   <g id=\"patch_2\">\n    <path d=\"M 46.31125 244.078125 \nL 325.31125 244.078125 \nL 325.31125 22.318125 \nL 46.31125 22.318125 \nz\n\" style=\"fill: #eaeaf2\"/>\n   </g>\n   <g id=\"matplotlib.axis_1\">\n    <g id=\"xtick_1\">\n     <g id=\"line2d_1\">\n      <path d=\"M 58.993068 244.078125 \nL 58.993068 22.318125 \n\" clip-path=\"url(#p6b9234804e)\" style=\"fill: none; stroke: #ffffff; stroke-linecap: round\"/>\n     </g>\n     <g id=\"text_1\">\n      <!-- 0 -->\n      <g style=\"fill: #262626\" transform=\"translate(55.493693 261.936406) scale(0.11 -0.11)\">\n       <defs>\n        <path id=\"DejaVuSans-30\" d=\"M 2034 4250 \nQ 1547 4250 1301 3770 \nQ 1056 3291 1056 2328 \nQ 1056 1369 1301 889 \nQ 1547 409 2034 409 \nQ 2525 409 2770 889 \nQ 3016 1369 3016 2328 \nQ 3016 3291 2770 3770 \nQ 2525 4250 2034 4250 \nz\nM 2034 4750 \nQ 2819 4750 3233 4129 \nQ 3647 3509 3647 2328 \nQ 3647 1150 3233 529 \nQ 2819 -91 2034 -91 \nQ 1250 -91 836 529 \nQ 422 1150 422 2328 \nQ 422 3509 836 4129 \nQ 1250 4750 2034 4750 \nz\n\" transform=\"scale(0.015625)\"/>\n       </defs>\n       <use xlink:href=\"#DejaVuSans-30\"/>\n      </g>\n     </g>\n    </g>\n    <g id=\"xtick_2\">\n     <g id=\"line2d_2\">\n      <path d=\"M 97.329883 244.078125 \nL 97.329883 22.318125 \n\" clip-path=\"url(#p6b9234804e)\" style=\"fill: none; stroke: #ffffff; stroke-linecap: round\"/>\n     </g>\n     <g id=\"text_2\">\n      <!-- 250 -->\n      <g style=\"fill: #262626\" transform=\"translate(86.831758 261.936406) scale(0.11 -0.11)\">\n       <defs>\n        <path id=\"DejaVuSans-32\" d=\"M 1228 531 \nL 3431 531 \nL 3431 0 \nL 469 0 \nL 469 531 \nQ 828 903 1448 1529 \nQ 2069 2156 2228 2338 \nQ 2531 2678 2651 2914 \nQ 2772 3150 2772 3378 \nQ 2772 3750 2511 3984 \nQ 2250 4219 1831 4219 \nQ 1534 4219 1204 4116 \nQ 875 4013 500 3803 \nL 500 4441 \nQ 881 4594 1212 4672 \nQ 1544 4750 1819 4750 \nQ 2544 4750 2975 4387 \nQ 3406 4025 3406 3419 \nQ 3406 3131 3298 2873 \nQ 3191 2616 2906 2266 \nQ 2828 2175 2409 1742 \nQ 1991 1309 1228 531 \nz\n\" transform=\"scale(0.015625)\"/>\n        <path id=\"DejaVuSans-35\" d=\"M 691 4666 \nL 3169 4666 \nL 3169 4134 \nL 1269 4134 \nL 1269 2991 \nQ 1406 3038 1543 3061 \nQ 1681 3084 1819 3084 \nQ 2600 3084 3056 2656 \nQ 3513 2228 3513 1497 \nQ 3513 744 3044 326 \nQ 2575 -91 1722 -91 \nQ 1428 -91 1123 -41 \nQ 819 9 494 109 \nL 494 744 \nQ 775 591 1075 516 \nQ 1375 441 1709 441 \nQ 2250 441 2565 725 \nQ 2881 1009 2881 1497 \nQ 2881 1984 2565 2268 \nQ 2250 2553 1709 2553 \nQ 1456 2553 1204 2497 \nQ 953 2441 691 2322 \nL 691 4666 \nz\n\" transform=\"scale(0.015625)\"/>\n       </defs>\n       <use xlink:href=\"#DejaVuSans-32\"/>\n       <use xlink:href=\"#DejaVuSans-35\" x=\"63.623047\"/>\n       <use xlink:href=\"#DejaVuSans-30\" x=\"127.246094\"/>\n      </g>\n     </g>\n    </g>\n    <g id=\"xtick_3\">\n     <g id=\"line2d_3\">\n      <path d=\"M 135.666697 244.078125 \nL 135.666697 22.318125 \n\" clip-path=\"url(#p6b9234804e)\" style=\"fill: none; stroke: #ffffff; stroke-linecap: round\"/>\n     </g>\n     <g id=\"text_3\">\n      <!-- 500 -->\n      <g style=\"fill: #262626\" transform=\"translate(125.168572 261.936406) scale(0.11 -0.11)\">\n       <use xlink:href=\"#DejaVuSans-35\"/>\n       <use xlink:href=\"#DejaVuSans-30\" x=\"63.623047\"/>\n       <use xlink:href=\"#DejaVuSans-30\" x=\"127.246094\"/>\n      </g>\n     </g>\n    </g>\n    <g id=\"xtick_4\">\n     <g id=\"line2d_4\">\n      <path d=\"M 174.003511 244.078125 \nL 174.003511 22.318125 \n\" clip-path=\"url(#p6b9234804e)\" style=\"fill: none; stroke: #ffffff; stroke-linecap: round\"/>\n     </g>\n     <g id=\"text_4\">\n      <!-- 750 -->\n      <g style=\"fill: #262626\" transform=\"translate(163.505386 261.936406) scale(0.11 -0.11)\">\n       <defs>\n        <path id=\"DejaVuSans-37\" d=\"M 525 4666 \nL 3525 4666 \nL 3525 4397 \nL 1831 0 \nL 1172 0 \nL 2766 4134 \nL 525 4134 \nL 525 4666 \nz\n\" transform=\"scale(0.015625)\"/>\n       </defs>\n       <use xlink:href=\"#DejaVuSans-37\"/>\n       <use xlink:href=\"#DejaVuSans-35\" x=\"63.623047\"/>\n       <use xlink:href=\"#DejaVuSans-30\" x=\"127.246094\"/>\n      </g>\n     </g>\n    </g>\n    <g id=\"xtick_5\">\n     <g id=\"line2d_5\">\n      <path d=\"M 212.340326 244.078125 \nL 212.340326 22.318125 \n\" clip-path=\"url(#p6b9234804e)\" style=\"fill: none; stroke: #ffffff; stroke-linecap: round\"/>\n     </g>\n     <g id=\"text_5\">\n      <!-- 1000 -->\n      <g style=\"fill: #262626\" transform=\"translate(198.342826 261.936406) scale(0.11 -0.11)\">\n       <defs>\n        <path id=\"DejaVuSans-31\" d=\"M 794 531 \nL 1825 531 \nL 1825 4091 \nL 703 3866 \nL 703 4441 \nL 1819 4666 \nL 2450 4666 \nL 2450 531 \nL 3481 531 \nL 3481 0 \nL 794 0 \nL 794 531 \nz\n\" transform=\"scale(0.015625)\"/>\n       </defs>\n       <use xlink:href=\"#DejaVuSans-31\"/>\n       <use xlink:href=\"#DejaVuSans-30\" x=\"63.623047\"/>\n       <use xlink:href=\"#DejaVuSans-30\" x=\"127.246094\"/>\n       <use xlink:href=\"#DejaVuSans-30\" x=\"190.869141\"/>\n      </g>\n     </g>\n    </g>\n    <g id=\"xtick_6\">\n     <g id=\"line2d_6\">\n      <path d=\"M 250.67714 244.078125 \nL 250.67714 22.318125 \n\" clip-path=\"url(#p6b9234804e)\" style=\"fill: none; stroke: #ffffff; stroke-linecap: round\"/>\n     </g>\n     <g id=\"text_6\">\n      <!-- 1250 -->\n      <g style=\"fill: #262626\" transform=\"translate(236.67964 261.936406) scale(0.11 -0.11)\">\n       <use xlink:href=\"#DejaVuSans-31\"/>\n       <use xlink:href=\"#DejaVuSans-32\" x=\"63.623047\"/>\n       <use xlink:href=\"#DejaVuSans-35\" x=\"127.246094\"/>\n       <use xlink:href=\"#DejaVuSans-30\" x=\"190.869141\"/>\n      </g>\n     </g>\n    </g>\n    <g id=\"xtick_7\">\n     <g id=\"line2d_7\">\n      <path d=\"M 289.013954 244.078125 \nL 289.013954 22.318125 \n\" clip-path=\"url(#p6b9234804e)\" style=\"fill: none; stroke: #ffffff; stroke-linecap: round\"/>\n     </g>\n     <g id=\"text_7\">\n      <!-- 1500 -->\n      <g style=\"fill: #262626\" transform=\"translate(275.016454 261.936406) scale(0.11 -0.11)\">\n       <use xlink:href=\"#DejaVuSans-31\"/>\n       <use xlink:href=\"#DejaVuSans-35\" x=\"63.623047\"/>\n       <use xlink:href=\"#DejaVuSans-30\" x=\"127.246094\"/>\n       <use xlink:href=\"#DejaVuSans-30\" x=\"190.869141\"/>\n      </g>\n     </g>\n    </g>\n    <g id=\"text_8\">\n     <!-- Days -->\n     <g style=\"fill: #262626\" transform=\"translate(170.8375 277.342188) scale(0.12 -0.12)\">\n      <defs>\n       <path id=\"DejaVuSans-44\" d=\"M 1259 4147 \nL 1259 519 \nL 2022 519 \nQ 2988 519 3436 956 \nQ 3884 1394 3884 2338 \nQ 3884 3275 3436 3711 \nQ 2988 4147 2022 4147 \nL 1259 4147 \nz\nM 628 4666 \nL 1925 4666 \nQ 3281 4666 3915 4102 \nQ 4550 3538 4550 2338 \nQ 4550 1131 3912 565 \nQ 3275 0 1925 0 \nL 628 0 \nL 628 4666 \nz\n\" transform=\"scale(0.015625)\"/>\n       <path id=\"DejaVuSans-61\" d=\"M 2194 1759 \nQ 1497 1759 1228 1600 \nQ 959 1441 959 1056 \nQ 959 750 1161 570 \nQ 1363 391 1709 391 \nQ 2188 391 2477 730 \nQ 2766 1069 2766 1631 \nL 2766 1759 \nL 2194 1759 \nz\nM 3341 1997 \nL 3341 0 \nL 2766 0 \nL 2766 531 \nQ 2569 213 2275 61 \nQ 1981 -91 1556 -91 \nQ 1019 -91 701 211 \nQ 384 513 384 1019 \nQ 384 1609 779 1909 \nQ 1175 2209 1959 2209 \nL 2766 2209 \nL 2766 2266 \nQ 2766 2663 2505 2880 \nQ 2244 3097 1772 3097 \nQ 1472 3097 1187 3025 \nQ 903 2953 641 2809 \nL 641 3341 \nQ 956 3463 1253 3523 \nQ 1550 3584 1831 3584 \nQ 2591 3584 2966 3190 \nQ 3341 2797 3341 1997 \nz\n\" transform=\"scale(0.015625)\"/>\n       <path id=\"DejaVuSans-79\" d=\"M 2059 -325 \nQ 1816 -950 1584 -1140 \nQ 1353 -1331 966 -1331 \nL 506 -1331 \nL 506 -850 \nL 844 -850 \nQ 1081 -850 1212 -737 \nQ 1344 -625 1503 -206 \nL 1606 56 \nL 191 3500 \nL 800 3500 \nL 1894 763 \nL 2988 3500 \nL 3597 3500 \nL 2059 -325 \nz\n\" transform=\"scale(0.015625)\"/>\n       <path id=\"DejaVuSans-73\" d=\"M 2834 3397 \nL 2834 2853 \nQ 2591 2978 2328 3040 \nQ 2066 3103 1784 3103 \nQ 1356 3103 1142 2972 \nQ 928 2841 928 2578 \nQ 928 2378 1081 2264 \nQ 1234 2150 1697 2047 \nL 1894 2003 \nQ 2506 1872 2764 1633 \nQ 3022 1394 3022 966 \nQ 3022 478 2636 193 \nQ 2250 -91 1575 -91 \nQ 1294 -91 989 -36 \nQ 684 19 347 128 \nL 347 722 \nQ 666 556 975 473 \nQ 1284 391 1588 391 \nQ 1994 391 2212 530 \nQ 2431 669 2431 922 \nQ 2431 1156 2273 1281 \nQ 2116 1406 1581 1522 \nL 1381 1569 \nQ 847 1681 609 1914 \nQ 372 2147 372 2553 \nQ 372 3047 722 3315 \nQ 1072 3584 1716 3584 \nQ 2034 3584 2315 3537 \nQ 2597 3491 2834 3397 \nz\n\" transform=\"scale(0.015625)\"/>\n      </defs>\n      <use xlink:href=\"#DejaVuSans-44\"/>\n      <use xlink:href=\"#DejaVuSans-61\" x=\"77.001953\"/>\n      <use xlink:href=\"#DejaVuSans-79\" x=\"138.28125\"/>\n      <use xlink:href=\"#DejaVuSans-73\" x=\"197.460938\"/>\n     </g>\n    </g>\n   </g>\n   <g id=\"matplotlib.axis_2\">\n    <g id=\"ytick_1\">\n     <g id=\"line2d_8\">\n      <path d=\"M 46.31125 215.167584 \nL 325.31125 215.167584 \n\" clip-path=\"url(#p6b9234804e)\" style=\"fill: none; stroke: #ffffff; stroke-linecap: round\"/>\n     </g>\n     <g id=\"text_9\">\n      <!-- 40 -->\n      <g style=\"fill: #262626\" transform=\"translate(22.81375 219.346724) scale(0.11 -0.11)\">\n       <defs>\n        <path id=\"DejaVuSans-34\" d=\"M 2419 4116 \nL 825 1625 \nL 2419 1625 \nL 2419 4116 \nz\nM 2253 4666 \nL 3047 4666 \nL 3047 1625 \nL 3713 1625 \nL 3713 1100 \nL 3047 1100 \nL 3047 0 \nL 2419 0 \nL 2419 1100 \nL 313 1100 \nL 313 1709 \nL 2253 4666 \nz\n\" transform=\"scale(0.015625)\"/>\n       </defs>\n       <use xlink:href=\"#DejaVuSans-34\"/>\n       <use xlink:href=\"#DejaVuSans-30\" x=\"63.623047\"/>\n      </g>\n     </g>\n    </g>\n    <g id=\"ytick_2\">\n     <g id=\"line2d_9\">\n      <path d=\"M 46.31125 179.203983 \nL 325.31125 179.203983 \n\" clip-path=\"url(#p6b9234804e)\" style=\"fill: none; stroke: #ffffff; stroke-linecap: round\"/>\n     </g>\n     <g id=\"text_10\">\n      <!-- 50 -->\n      <g style=\"fill: #262626\" transform=\"translate(22.81375 183.383124) scale(0.11 -0.11)\">\n       <use xlink:href=\"#DejaVuSans-35\"/>\n       <use xlink:href=\"#DejaVuSans-30\" x=\"63.623047\"/>\n      </g>\n     </g>\n    </g>\n    <g id=\"ytick_3\">\n     <g id=\"line2d_10\">\n      <path d=\"M 46.31125 143.240383 \nL 325.31125 143.240383 \n\" clip-path=\"url(#p6b9234804e)\" style=\"fill: none; stroke: #ffffff; stroke-linecap: round\"/>\n     </g>\n     <g id=\"text_11\">\n      <!-- 60 -->\n      <g style=\"fill: #262626\" transform=\"translate(22.81375 147.419523) scale(0.11 -0.11)\">\n       <defs>\n        <path id=\"DejaVuSans-36\" d=\"M 2113 2584 \nQ 1688 2584 1439 2293 \nQ 1191 2003 1191 1497 \nQ 1191 994 1439 701 \nQ 1688 409 2113 409 \nQ 2538 409 2786 701 \nQ 3034 994 3034 1497 \nQ 3034 2003 2786 2293 \nQ 2538 2584 2113 2584 \nz\nM 3366 4563 \nL 3366 3988 \nQ 3128 4100 2886 4159 \nQ 2644 4219 2406 4219 \nQ 1781 4219 1451 3797 \nQ 1122 3375 1075 2522 \nQ 1259 2794 1537 2939 \nQ 1816 3084 2150 3084 \nQ 2853 3084 3261 2657 \nQ 3669 2231 3669 1497 \nQ 3669 778 3244 343 \nQ 2819 -91 2113 -91 \nQ 1303 -91 875 529 \nQ 447 1150 447 2328 \nQ 447 3434 972 4092 \nQ 1497 4750 2381 4750 \nQ 2619 4750 2861 4703 \nQ 3103 4656 3366 4563 \nz\n\" transform=\"scale(0.015625)\"/>\n       </defs>\n       <use xlink:href=\"#DejaVuSans-36\"/>\n       <use xlink:href=\"#DejaVuSans-30\" x=\"63.623047\"/>\n      </g>\n     </g>\n    </g>\n    <g id=\"ytick_4\">\n     <g id=\"line2d_11\">\n      <path d=\"M 46.31125 107.276782 \nL 325.31125 107.276782 \n\" clip-path=\"url(#p6b9234804e)\" style=\"fill: none; stroke: #ffffff; stroke-linecap: round\"/>\n     </g>\n     <g id=\"text_12\">\n      <!-- 70 -->\n      <g style=\"fill: #262626\" transform=\"translate(22.81375 111.455923) scale(0.11 -0.11)\">\n       <use xlink:href=\"#DejaVuSans-37\"/>\n       <use xlink:href=\"#DejaVuSans-30\" x=\"63.623047\"/>\n      </g>\n     </g>\n    </g>\n    <g id=\"ytick_5\">\n     <g id=\"line2d_12\">\n      <path d=\"M 46.31125 71.313182 \nL 325.31125 71.313182 \n\" clip-path=\"url(#p6b9234804e)\" style=\"fill: none; stroke: #ffffff; stroke-linecap: round\"/>\n     </g>\n     <g id=\"text_13\">\n      <!-- 80 -->\n      <g style=\"fill: #262626\" transform=\"translate(22.81375 75.492322) scale(0.11 -0.11)\">\n       <defs>\n        <path id=\"DejaVuSans-38\" d=\"M 2034 2216 \nQ 1584 2216 1326 1975 \nQ 1069 1734 1069 1313 \nQ 1069 891 1326 650 \nQ 1584 409 2034 409 \nQ 2484 409 2743 651 \nQ 3003 894 3003 1313 \nQ 3003 1734 2745 1975 \nQ 2488 2216 2034 2216 \nz\nM 1403 2484 \nQ 997 2584 770 2862 \nQ 544 3141 544 3541 \nQ 544 4100 942 4425 \nQ 1341 4750 2034 4750 \nQ 2731 4750 3128 4425 \nQ 3525 4100 3525 3541 \nQ 3525 3141 3298 2862 \nQ 3072 2584 2669 2484 \nQ 3125 2378 3379 2068 \nQ 3634 1759 3634 1313 \nQ 3634 634 3220 271 \nQ 2806 -91 2034 -91 \nQ 1263 -91 848 271 \nQ 434 634 434 1313 \nQ 434 1759 690 2068 \nQ 947 2378 1403 2484 \nz\nM 1172 3481 \nQ 1172 3119 1398 2916 \nQ 1625 2713 2034 2713 \nQ 2441 2713 2670 2916 \nQ 2900 3119 2900 3481 \nQ 2900 3844 2670 4047 \nQ 2441 4250 2034 4250 \nQ 1625 4250 1398 4047 \nQ 1172 3844 1172 3481 \nz\n\" transform=\"scale(0.015625)\"/>\n       </defs>\n       <use xlink:href=\"#DejaVuSans-38\"/>\n       <use xlink:href=\"#DejaVuSans-30\" x=\"63.623047\"/>\n      </g>\n     </g>\n    </g>\n    <g id=\"ytick_6\">\n     <g id=\"line2d_13\">\n      <path d=\"M 46.31125 35.349581 \nL 325.31125 35.349581 \n\" clip-path=\"url(#p6b9234804e)\" style=\"fill: none; stroke: #ffffff; stroke-linecap: round\"/>\n     </g>\n     <g id=\"text_14\">\n      <!-- 90 -->\n      <g style=\"fill: #262626\" transform=\"translate(22.81375 39.528722) scale(0.11 -0.11)\">\n       <defs>\n        <path id=\"DejaVuSans-39\" d=\"M 703 97 \nL 703 672 \nQ 941 559 1184 500 \nQ 1428 441 1663 441 \nQ 2288 441 2617 861 \nQ 2947 1281 2994 2138 \nQ 2813 1869 2534 1725 \nQ 2256 1581 1919 1581 \nQ 1219 1581 811 2004 \nQ 403 2428 403 3163 \nQ 403 3881 828 4315 \nQ 1253 4750 1959 4750 \nQ 2769 4750 3195 4129 \nQ 3622 3509 3622 2328 \nQ 3622 1225 3098 567 \nQ 2575 -91 1691 -91 \nQ 1453 -91 1209 -44 \nQ 966 3 703 97 \nz\nM 1959 2075 \nQ 2384 2075 2632 2365 \nQ 2881 2656 2881 3163 \nQ 2881 3666 2632 3958 \nQ 2384 4250 1959 4250 \nQ 1534 4250 1286 3958 \nQ 1038 3666 1038 3163 \nQ 1038 2656 1286 2365 \nQ 1534 2075 1959 2075 \nz\n\" transform=\"scale(0.015625)\"/>\n       </defs>\n       <use xlink:href=\"#DejaVuSans-39\"/>\n       <use xlink:href=\"#DejaVuSans-30\" x=\"63.623047\"/>\n      </g>\n     </g>\n    </g>\n    <g id=\"text_15\">\n     <!-- Price -->\n     <g style=\"fill: #262626\" transform=\"translate(16.318125 147.835313) rotate(-90) scale(0.12 -0.12)\">\n      <defs>\n       <path id=\"DejaVuSans-50\" d=\"M 1259 4147 \nL 1259 2394 \nL 2053 2394 \nQ 2494 2394 2734 2622 \nQ 2975 2850 2975 3272 \nQ 2975 3691 2734 3919 \nQ 2494 4147 2053 4147 \nL 1259 4147 \nz\nM 628 4666 \nL 2053 4666 \nQ 2838 4666 3239 4311 \nQ 3641 3956 3641 3272 \nQ 3641 2581 3239 2228 \nQ 2838 1875 2053 1875 \nL 1259 1875 \nL 1259 0 \nL 628 0 \nL 628 4666 \nz\n\" transform=\"scale(0.015625)\"/>\n       <path id=\"DejaVuSans-72\" d=\"M 2631 2963 \nQ 2534 3019 2420 3045 \nQ 2306 3072 2169 3072 \nQ 1681 3072 1420 2755 \nQ 1159 2438 1159 1844 \nL 1159 0 \nL 581 0 \nL 581 3500 \nL 1159 3500 \nL 1159 2956 \nQ 1341 3275 1631 3429 \nQ 1922 3584 2338 3584 \nQ 2397 3584 2469 3576 \nQ 2541 3569 2628 3553 \nL 2631 2963 \nz\n\" transform=\"scale(0.015625)\"/>\n       <path id=\"DejaVuSans-69\" d=\"M 603 3500 \nL 1178 3500 \nL 1178 0 \nL 603 0 \nL 603 3500 \nz\nM 603 4863 \nL 1178 4863 \nL 1178 4134 \nL 603 4134 \nL 603 4863 \nz\n\" transform=\"scale(0.015625)\"/>\n       <path id=\"DejaVuSans-63\" d=\"M 3122 3366 \nL 3122 2828 \nQ 2878 2963 2633 3030 \nQ 2388 3097 2138 3097 \nQ 1578 3097 1268 2742 \nQ 959 2388 959 1747 \nQ 959 1106 1268 751 \nQ 1578 397 2138 397 \nQ 2388 397 2633 464 \nQ 2878 531 3122 666 \nL 3122 134 \nQ 2881 22 2623 -34 \nQ 2366 -91 2075 -91 \nQ 1284 -91 818 406 \nQ 353 903 353 1747 \nQ 353 2603 823 3093 \nQ 1294 3584 2113 3584 \nQ 2378 3584 2631 3529 \nQ 2884 3475 3122 3366 \nz\n\" transform=\"scale(0.015625)\"/>\n       <path id=\"DejaVuSans-65\" d=\"M 3597 1894 \nL 3597 1613 \nL 953 1613 \nQ 991 1019 1311 708 \nQ 1631 397 2203 397 \nQ 2534 397 2845 478 \nQ 3156 559 3463 722 \nL 3463 178 \nQ 3153 47 2828 -22 \nQ 2503 -91 2169 -91 \nQ 1331 -91 842 396 \nQ 353 884 353 1716 \nQ 353 2575 817 3079 \nQ 1281 3584 2069 3584 \nQ 2775 3584 3186 3129 \nQ 3597 2675 3597 1894 \nz\nM 3022 2063 \nQ 3016 2534 2758 2815 \nQ 2500 3097 2075 3097 \nQ 1594 3097 1305 2825 \nQ 1016 2553 972 2059 \nL 3022 2063 \nz\n\" transform=\"scale(0.015625)\"/>\n      </defs>\n      <use xlink:href=\"#DejaVuSans-50\"/>\n      <use xlink:href=\"#DejaVuSans-72\" x=\"58.552734\"/>\n      <use xlink:href=\"#DejaVuSans-69\" x=\"99.666016\"/>\n      <use xlink:href=\"#DejaVuSans-63\" x=\"127.449219\"/>\n      <use xlink:href=\"#DejaVuSans-65\" x=\"182.429688\"/>\n     </g>\n    </g>\n   </g>\n   <g id=\"line2d_14\">\n    <path d=\"M 58.993068 226.057362 \nL 59.45311 189.985871 \nL 59.606457 179.074514 \nL 59.759804 210.765639 \nL 60.373193 171.407075 \nL 60.526541 201.681234 \nL 60.986583 171.407075 \nL 61.13993 232.545196 \nL 61.293277 189.985871 \nL 61.599972 171.407075 \nL 61.753319 232.545196 \nL 62.213361 171.407075 \nL 62.366708 232.545196 \nL 62.520055 212.053136 \nL 62.673402 213.067309 \nL 62.82675 171.407075 \nL 62.980097 232.545196 \nL 63.133444 212.053136 \nL 63.286791 213.067309 \nL 63.440139 202.026484 \nL 63.593486 232.545196 \nL 63.746833 212.053136 \nL 63.90018 213.067309 \nL 64.206875 189.762896 \nL 64.360222 212.053136 \nL 64.513569 213.067309 \nL 64.973611 176.967047 \nL 65.126958 213.067309 \nL 65.740348 168.508408 \nL 65.893695 202.026484 \nL 66.353737 168.508408 \nL 66.507084 232.573966 \nL 66.813778 176.967047 \nL 66.967126 168.508408 \nL 67.120473 232.573966 \nL 67.580515 168.508408 \nL 67.733862 232.573966 \nL 67.887209 211.671922 \nL 68.040556 211.082119 \nL 68.193904 168.508408 \nL 68.347251 232.573966 \nL 68.500598 211.671922 \nL 68.653945 211.082119 \nL 68.807293 202.127182 \nL 68.96064 232.573966 \nL 69.113987 211.671922 \nL 69.267334 211.082119 \nL 69.574029 189.856402 \nL 69.727376 211.671922 \nL 69.880723 211.082119 \nL 70.340765 180.268506 \nL 70.494112 211.082119 \nL 71.107502 168.939972 \nL 71.260849 202.127182 \nL 71.720891 168.939972 \nL 71.874238 233.616911 \nL 72.027585 189.856402 \nL 72.33428 168.939972 \nL 72.487627 233.616911 \nL 72.947669 168.939972 \nL 73.101016 233.616911 \nL 73.254363 210.981421 \nL 73.40771 212.110678 \nL 73.561058 168.939972 \nL 73.714405 233.616911 \nL 73.867752 210.981421 \nL 74.021099 212.110678 \nL 74.174447 199.868668 \nL 74.327794 233.616911 \nL 74.481141 210.981421 \nL 74.634488 212.110678 \nL 74.941183 190.474976 \nL 75.09453 210.981421 \nL 75.247877 212.110678 \nL 75.707919 178.829962 \nL 75.861266 212.110678 \nL 76.474656 167.861064 \nL 76.628003 199.868668 \nL 77.088045 167.861064 \nL 77.241392 232.789748 \nL 77.394739 190.474976 \nL 77.701434 167.861064 \nL 77.854781 232.789748 \nL 78.314823 167.861064 \nL 78.46817 232.789748 \nL 78.928212 167.861064 \nL 79.081559 232.789748 \nL 79.541601 169.666436 \nL 79.694948 232.789748 \nL 80.308337 157.359692 \nL 80.461684 212.384001 \nL 80.768379 169.666436 \nL 81.075073 146.743237 \nL 81.22842 182.217733 \nL 81.84181 131.063108 \nL 81.995157 169.666436 \nL 82.455199 131.063108 \nL 82.608546 207.744697 \nL 82.761893 157.359692 \nL 83.068588 131.063108 \nL 83.221935 207.744697 \nL 83.681977 131.063108 \nL 83.835324 207.744697 \nL 83.988671 183.433303 \nL 84.142018 179.721859 \nL 84.295366 131.063108 \nL 84.448713 207.744697 \nL 84.60206 183.433303 \nL 84.755407 179.721859 \nL 84.908755 172.104768 \nL 85.062102 207.744697 \nL 85.215449 183.433303 \nL 85.368796 179.721859 \nL 85.522144 172.104768 \nL 85.675491 157.280572 \nL 85.828838 183.433303 \nL 85.982185 179.721859 \nL 86.135533 172.104768 \nL 86.442227 144.427182 \nL 86.595575 179.721859 \nL 86.748922 172.104768 \nL 87.208964 130.25033 \nL 87.362311 172.104768 \nL 87.822353 130.25033 \nL 87.9757 206.586669 \nL 88.129047 157.280572 \nL 88.435742 130.25033 \nL 88.589089 206.586669 \nL 89.049131 130.25033 \nL 89.202478 206.586669 \nL 89.355825 180.390782 \nL 89.509172 183.785746 \nL 89.66252 130.25033 \nL 89.815867 206.586669 \nL 89.969214 180.390782 \nL 90.122561 183.785746 \nL 90.275909 170.227469 \nL 90.429256 206.586669 \nL 90.582603 180.390782 \nL 90.73595 183.785746 \nL 91.042645 158.186855 \nL 91.195992 180.390782 \nL 91.349339 183.785746 \nL 91.809381 143.981233 \nL 91.962729 183.785746 \nL 92.576118 132.573579 \nL 92.729465 170.227469 \nL 93.189507 132.573579 \nL 93.342854 208.730099 \nL 93.649548 143.981233 \nL 93.802896 132.573579 \nL 93.956243 208.730099 \nL 94.416285 132.573579 \nL 94.569632 208.730099 \nL 94.722979 181.340221 \nL 94.876326 181.016549 \nL 95.029674 132.573579 \nL 95.183021 208.730099 \nL 95.336368 181.340221 \nL 95.489715 181.016549 \nL 95.643063 171.198486 \nL 95.79641 208.730099 \nL 95.949757 181.340221 \nL 96.103104 181.016549 \nL 96.409799 158.114928 \nL 96.563146 181.340221 \nL 96.716493 181.016549 \nL 97.023188 158.114928 \nL 97.176535 143.405815 \nL 97.329883 181.016549 \nL 97.636577 158.114928 \nL 97.943272 130.624352 \nL 98.096619 171.198486 \nL 98.556661 130.624352 \nL 98.710008 207.881358 \nL 99.016702 143.405815 \nL 99.17005 130.624352 \nL 99.323397 207.881358 \nL 99.783439 130.624352 \nL 99.936786 207.881358 \nL 100.090133 181.412148 \nL 100.24348 182.987354 \nL 100.396828 130.624352 \nL 100.550175 207.881358 \nL 100.703522 181.412148 \nL 100.856869 182.987354 \nL 101.010217 169.184524 \nL 101.163564 207.881358 \nL 101.316911 181.412148 \nL 101.470258 182.987354 \nL 101.776953 158.827007 \nL 101.9303 181.412148 \nL 102.083647 182.987354 \nL 102.390342 158.827007 \nL 102.543689 109.103733 \nL 102.697037 182.987354 \nL 103.003731 158.827007 \nL 103.310426 94.495319 \nL 103.463773 169.184524 \nL 103.61712 158.827007 \nL 103.923815 94.495319 \nL 104.077162 181.261101 \nL 104.230509 158.827007 \nL 104.537204 94.495319 \nL 104.690551 181.261101 \nL 105.150593 94.495319 \nL 105.30394 181.261101 \nL 105.457287 154.281208 \nL 105.610634 155.288189 \nL 105.763982 94.495319 \nL 105.917329 181.261101 \nL 106.070676 154.281208 \nL 106.224023 155.288189 \nL 106.377371 138.450031 \nL 106.530718 181.261101 \nL 106.684065 154.281208 \nL 106.837412 155.288189 \nL 107.144107 122.834636 \nL 107.297454 154.281208 \nL 107.450802 155.288189 \nL 107.910843 106.075598 \nL 108.064191 155.288189 \nL 108.67758 95.746852 \nL 108.830927 138.450031 \nL 109.290969 95.746852 \nL 109.444316 181.735821 \nL 109.75101 106.075598 \nL 109.904358 95.746852 \nL 110.057705 181.735821 \nL 110.517747 95.746852 \nL 110.671094 181.735821 \nL 110.824441 153.43966 \nL 110.977788 153.245456 \nL 111.131136 95.746852 \nL 111.284483 181.735821 \nL 111.43783 153.43966 \nL 111.591177 153.245456 \nL 111.744525 139.679986 \nL 111.897872 181.735821 \nL 112.051219 153.43966 \nL 112.204566 153.245456 \nL 112.511261 125.733302 \nL 112.664608 153.43966 \nL 112.817956 153.245456 \nL 113.277997 108.808832 \nL 113.431345 153.245456 \nL 114.044734 96.502087 \nL 114.198081 139.679986 \nL 114.658123 96.502087 \nL 114.81147 181.340221 \nL 115.118164 108.808832 \nL 115.271512 96.502087 \nL 115.424859 181.340221 \nL 115.884901 96.502087 \nL 116.038248 181.340221 \nL 116.191595 153.820874 \nL 116.344942 152.475835 \nL 116.49829 96.502087 \nL 116.651637 181.340221 \nL 116.804984 153.820874 \nL 116.958331 152.475835 \nL 117.111679 136.903596 \nL 117.265026 181.340221 \nL 117.418373 153.820874 \nL 117.57172 152.475835 \nL 117.878415 123.402861 \nL 118.031762 153.820874 \nL 118.18511 152.475835 \nL 118.645151 108.564279 \nL 118.798499 152.475835 \nL 119.411888 92.193648 \nL 119.565235 136.903596 \nL 120.025277 92.193648 \nL 120.178624 182.778765 \nL 120.331971 123.402861 \nL 120.638666 92.193648 \nL 120.792013 182.778765 \nL 121.252055 92.193648 \nL 121.405402 182.778765 \nL 121.558749 152.878628 \nL 121.712096 153.180722 \nL 121.865444 92.193648 \nL 122.018791 182.778765 \nL 122.172138 152.878628 \nL 122.325485 153.180722 \nL 122.478833 138.133551 \nL 122.63218 182.778765 \nL 122.785527 152.878628 \nL 122.938874 153.180722 \nL 123.245569 121.194696 \nL 123.398916 152.878628 \nL 123.552264 153.180722 \nL 124.012305 109.700729 \nL 124.165653 153.180722 \nL 124.779042 94.437777 \nL 124.932389 138.133551 \nL 125.392431 94.437777 \nL 125.545778 169.925374 \nL 125.699125 121.194696 \nL 126.00582 94.437777 \nL 126.159167 169.925374 \nL 126.465861 109.700729 \nL 126.619209 94.437777 \nL 126.772556 169.925374 \nL 126.925903 135.688027 \nL 127.07925 137.737952 \nL 127.232598 94.437777 \nL 127.385945 169.925374 \nL 127.539292 135.688027 \nL 127.692639 137.737952 \nL 127.845987 121.777306 \nL 127.999334 169.925374 \nL 128.152681 135.688027 \nL 128.306028 137.737952 \nL 128.612723 104.270225 \nL 128.76607 135.688027 \nL 128.919418 137.737952 \nL 129.379459 89.345331 \nL 129.532807 137.737952 \nL 130.146196 75.197251 \nL 130.299543 121.777306 \nL 130.759585 75.197251 \nL 130.912932 169.38592 \nL 131.066279 104.270225 \nL 131.372974 75.197251 \nL 131.526321 169.38592 \nL 131.986363 75.197251 \nL 132.13971 169.38592 \nL 132.293057 136.7022 \nL 132.446404 136.802898 \nL 132.599752 75.197251 \nL 132.753099 169.38592 \nL 132.906446 136.7022 \nL 133.059793 136.802898 \nL 133.213141 119.979126 \nL 133.366488 169.38592 \nL 133.519835 136.7022 \nL 133.673183 136.802898 \nL 133.979877 106.902761 \nL 134.133224 136.7022 \nL 134.286572 136.802898 \nL 134.746613 90.402661 \nL 134.899961 136.802898 \nL 135.51335 75.564079 \nL 135.666697 119.979126 \nL 136.126739 75.564079 \nL 136.280086 170.637454 \nL 136.433433 106.902761 \nL 136.740128 75.564079 \nL 136.893475 170.637454 \nL 137.353517 75.564079 \nL 137.506864 170.637454 \nL 137.660211 136.572731 \nL 137.813558 139.514554 \nL 137.966906 75.564079 \nL 138.120253 170.637454 \nL 138.2736 136.572731 \nL 138.426947 139.514554 \nL 138.580295 121.949931 \nL 138.733642 170.637454 \nL 138.886989 136.572731 \nL 139.040337 139.514554 \nL 139.347031 103.874626 \nL 139.500378 136.572731 \nL 139.653726 139.514554 \nL 140.113767 88.079412 \nL 140.267115 139.514554 \nL 140.880504 72.219464 \nL 141.033851 121.949931 \nL 141.493893 72.219464 \nL 141.64724 169.46504 \nL 141.800587 103.874626 \nL 142.107282 72.219464 \nL 142.260629 169.46504 \nL 142.720671 72.219464 \nL 142.874018 169.46504 \nL 143.027365 138.860016 \nL 143.180712 137.867421 \nL 143.33406 72.219464 \nL 143.487407 169.46504 \nL 143.640754 138.860016 \nL 143.794101 137.867421 \nL 143.947449 120.871023 \nL 144.100796 169.46504 \nL 144.254143 138.860016 \nL 144.407491 137.867421 \nL 144.714185 103.752349 \nL 144.867532 138.860016 \nL 145.02088 137.867421 \nL 145.480921 90.582479 \nL 145.634269 137.867421 \nL 146.247658 75.506537 \nL 146.401005 120.871023 \nL 146.861047 75.506537 \nL 147.014394 170.615875 \nL 147.167741 103.752349 \nL 147.474436 75.506537 \nL 147.627783 170.615875 \nL 148.087825 75.506537 \nL 148.241172 170.615875 \nL 148.394519 141.089759 \nL 148.547866 137.033065 \nL 148.701214 75.506537 \nL 148.854561 170.615875 \nL 149.007908 141.089759 \nL 149.161255 137.033065 \nL 149.314603 107.902549 \nL 149.46795 170.615875 \nL 149.621297 141.089759 \nL 149.774645 137.033065 \nL 150.081339 90.927729 \nL 150.234686 141.089759 \nL 150.388034 137.033065 \nL 150.694728 90.927729 \nL 150.848075 71.809479 \nL 151.001423 137.033065 \nL 151.308117 90.927729 \nL 151.614812 56.488986 \nL 151.768159 107.902549 \nL 152.228201 56.488986 \nL 152.381548 159.107523 \nL 152.688242 71.809479 \nL 152.84159 56.488986 \nL 152.994937 159.107523 \nL 153.454979 56.488986 \nL 153.608326 159.107523 \nL 153.761673 122.136942 \nL 153.91502 121.223466 \nL 154.068368 56.488986 \nL 154.221715 159.107523 \nL 154.375062 122.136942 \nL 154.52841 121.223466 \nL 154.681757 104.392501 \nL 154.835104 159.107523 \nL 154.988451 122.136942 \nL 155.141799 121.223466 \nL 155.448493 90.704755 \nL 155.60184 122.136942 \nL 155.755188 121.223466 \nL 156.215229 72.363319 \nL 156.368577 121.223466 \nL 156.981966 56.769502 \nL 157.135313 104.392501 \nL 157.595355 56.769502 \nL 157.748702 158.870164 \nL 157.902049 90.704755 \nL 158.208744 56.769502 \nL 158.362091 158.870164 \nL 158.822133 56.769502 \nL 158.97548 158.870164 \nL 159.128827 122.849021 \nL 159.282174 121.288201 \nL 159.435522 56.769502 \nL 159.588869 158.870164 \nL 159.742216 122.849021 \nL 159.895564 121.288201 \nL 160.048911 106.981881 \nL 160.202258 158.870164 \nL 160.355605 122.849021 \nL 160.508953 121.288201 \nL 160.815647 91.071584 \nL 160.968994 122.849021 \nL 161.122342 121.288201 \nL 161.582383 70.59391 \nL 161.735731 121.288201 \nL 162.34912 56.898971 \nL 162.502467 106.981881 \nL 162.962509 56.898971 \nL 163.115856 156.381482 \nL 163.42255 70.59391 \nL 163.575898 56.898971 \nL 163.729245 156.381482 \nL 164.189287 56.898971 \nL 164.342634 156.381482 \nL 164.495981 123.100766 \nL 164.649328 122.072207 \nL 164.802676 56.898971 \nL 164.956023 156.381482 \nL 165.10937 123.100766 \nL 165.262718 122.072207 \nL 165.416065 108.35569 \nL 165.569412 156.381482 \nL 165.722759 123.100766 \nL 165.876107 122.072207 \nL 166.182801 89.827243 \nL 166.336148 123.100766 \nL 166.489496 122.072207 \nL 166.949537 74.902349 \nL 167.102885 122.072207 \nL 167.562926 74.902349 \nL 167.716274 56.719153 \nL 167.869621 108.35569 \nL 168.329663 56.719153 \nL 168.48301 156.280784 \nL 168.636357 89.827243 \nL 168.943052 56.719153 \nL 169.096399 156.280784 \nL 169.556441 56.719153 \nL 169.709788 156.280784 \nL 169.863135 122.748323 \nL 170.016482 123.71934 \nL 170.16983 56.719153 \nL 170.323177 156.280784 \nL 170.476524 122.748323 \nL 170.629872 123.71934 \nL 170.783219 105.047039 \nL 170.936566 156.280784 \nL 171.089913 122.748323 \nL 171.243261 123.71934 \nL 171.549955 91.582267 \nL 171.703302 122.748323 \nL 171.85665 123.71934 \nL 172.163344 91.582267 \nL 172.316691 52.655266 \nL 172.470039 123.71934 \nL 172.776733 91.582267 \nL 173.083428 35.809915 \nL 173.236775 105.047039 \nL 173.390122 91.582267 \nL 173.696817 35.809915 \nL 173.850164 144.858745 \nL 174.156858 52.655266 \nL 174.310206 35.809915 \nL 174.463553 144.858745 \nL 174.923595 35.809915 \nL 175.076942 144.858745 \nL 175.230289 109.168468 \nL 175.383637 109.57126 \nL 175.536984 35.809915 \nL 175.690331 144.858745 \nL 175.843678 109.168468 \nL 175.997026 109.57126 \nL 176.150373 91.488762 \nL 176.30372 144.858745 \nL 176.457067 109.168468 \nL 176.610415 109.57126 \nL 176.917109 71.392302 \nL 177.070456 109.168468 \nL 177.223804 109.57126 \nL 177.683845 59.380459 \nL 177.837193 109.57126 \nL 178.450582 38.154742 \nL 178.603929 91.488762 \nL 179.063971 38.154742 \nL 179.217318 145.232766 \nL 179.370665 71.392302 \nL 179.524012 59.380459 \nL 179.67736 38.154742 \nL 179.830707 145.232766 \nL 180.290749 38.154742 \nL 180.444096 145.232766 \nL 180.597443 107.643611 \nL 180.750791 108.549894 \nL 180.904138 38.154742 \nL 181.057485 145.232766 \nL 181.210832 107.643611 \nL 181.36418 108.549894 \nL 181.517527 92.8338 \nL 181.670874 145.232766 \nL 181.824221 107.643611 \nL 181.977569 108.549894 \nL 182.284263 70.414092 \nL 182.43761 107.643611 \nL 182.590958 108.549894 \nL 183.050999 55.704979 \nL 183.204347 108.549894 \nL 183.817736 36.385333 \nL 183.971083 92.8338 \nL 184.431125 36.385333 \nL 184.584472 143.535284 \nL 184.737819 70.414092 \nL 185.044514 36.385333 \nL 185.197861 143.535284 \nL 185.657903 36.385333 \nL 185.81125 143.535284 \nL 185.964597 110.045979 \nL 186.117945 107.363095 \nL 186.271292 36.385333 \nL 186.424639 143.535284 \nL 186.577986 110.045979 \nL 186.731334 107.363095 \nL 186.884681 91.03562 \nL 187.038028 143.535284 \nL 187.191375 110.045979 \nL 187.344723 107.363095 \nL 187.651417 72.615064 \nL 187.804764 110.045979 \nL 187.958112 107.363095 \nL 188.418153 53.237876 \nL 188.571501 107.363095 \nL 189.18489 36.565151 \nL 189.338237 91.03562 \nL 189.798279 36.565151 \nL 189.951626 142.945481 \nL 190.25832 53.237876 \nL 190.411668 36.565151 \nL 190.565015 142.945481 \nL 191.025057 36.565151 \nL 191.178404 142.945481 \nL 191.331751 107.924127 \nL 191.485099 107.435022 \nL 191.638446 36.565151 \nL 191.791793 142.945481 \nL 191.94514 107.924127 \nL 192.098488 107.435022 \nL 192.251835 91.064391 \nL 192.405182 142.945481 \nL 192.558529 107.924127 \nL 192.711877 107.435022 \nL 193.018571 76.420013 \nL 193.171918 107.924127 \nL 193.325266 107.435022 \nL 193.785307 56.12935 \nL 193.938655 107.435022 \nL 194.552044 36.557958 \nL 194.705391 91.064391 \nL 195.165433 36.557958 \nL 195.31878 142.060777 \nL 195.625474 56.12935 \nL 195.778822 36.557958 \nL 195.932169 142.060777 \nL 196.085516 138.025661 \nL 196.238863 56.12935 \nL 196.392211 36.557958 \nL 196.545558 142.060777 \nL 196.698905 138.025661 \nL 196.852253 137.579712 \nL 197.0056 36.557958 \nL 197.158947 142.060777 \nL 197.312294 138.025661 \nL 197.465642 137.579712 \nL 197.618989 122.942527 \nL 197.772336 142.060777 \nL 197.925683 138.025661 \nL 198.079031 137.579712 \nL 198.385725 106.312958 \nL 198.539072 138.025661 \nL 198.69242 137.579712 \nL 199.152461 91.186667 \nL 199.305809 137.579712 \nL 199.919198 76.384049 \nL 200.072545 122.942527 \nL 200.532587 76.384049 \nL 200.685934 167.458271 \nL 200.839281 106.312958 \nL 201.145976 76.384049 \nL 201.299323 167.458271 \nL 201.759365 76.384049 \nL 201.912712 167.458271 \nL 202.066059 137.28481 \nL 202.219407 138.068817 \nL 202.372754 76.384049 \nL 202.526101 167.458271 \nL 202.679448 137.28481 \nL 202.832796 138.068817 \nL 202.986143 120.871023 \nL 203.13949 167.458271 \nL 203.292837 137.28481 \nL 203.446185 138.068817 \nL 203.752879 106.672594 \nL 203.906226 137.28481 \nL 204.059574 138.068817 \nL 204.519615 90.014254 \nL 204.672963 138.068817 \nL 205.286352 74.967083 \nL 205.439699 120.871023 \nL 205.899741 74.967083 \nL 206.053088 170.975511 \nL 206.206435 106.672594 \nL 206.51313 74.967083 \nL 206.666477 170.975511 \nL 207.126519 74.967083 \nL 207.279866 170.975511 \nL 207.433213 139.694372 \nL 207.586561 138.054432 \nL 207.739908 74.967083 \nL 207.893255 170.975511 \nL 208.046602 139.694372 \nL 208.19995 138.054432 \nL 208.353297 121.281008 \nL 208.506644 170.975511 \nL 208.659991 139.694372 \nL 208.813339 138.054432 \nL 209.120033 105.550529 \nL 209.27338 139.694372 \nL 209.426728 138.054432 \nL 209.886769 88.906575 \nL 210.040117 138.054432 \nL 210.653506 71.154942 \nL 210.806853 121.281008 \nL 211.266895 71.154942 \nL 211.420242 170.659032 \nL 211.573589 105.550529 \nL 211.880284 71.154942 \nL 212.033631 170.659032 \nL 212.493673 71.154942 \nL 212.64702 170.659032 \nL 212.800367 136.752549 \nL 212.953715 138.744933 \nL 213.107062 71.154942 \nL 213.260409 170.659032 \nL 213.413756 136.752549 \nL 213.567104 138.744933 \nL 213.720451 122.108171 \nL 213.873798 170.659032 \nL 214.027145 136.752549 \nL 214.180493 138.744933 \nL 214.487187 108.111138 \nL 214.640534 136.752549 \nL 214.793882 138.744933 \nL 215.253923 87.475224 \nL 215.407271 138.744933 \nL 216.02066 73.039434 \nL 216.174007 122.108171 \nL 216.634049 73.039434 \nL 216.787396 168.004918 \nL 217.09409 87.475224 \nL 217.247438 73.039434 \nL 217.400785 168.004918 \nL 217.860827 73.039434 \nL 218.014174 168.004918 \nL 218.167521 137.666025 \nL 218.320869 138.989485 \nL 218.474216 73.039434 \nL 218.627563 168.004918 \nL 218.78091 137.666025 \nL 218.934258 138.989485 \nL 219.087605 122.115364 \nL 219.240952 168.004918 \nL 219.394299 137.666025 \nL 219.547647 138.989485 \nL 219.700994 122.115364 \nL 219.854341 125.049994 \nL 220.007688 137.666025 \nL 220.161036 138.989485 \nL 220.314383 122.115364 \nL 220.46773 125.049994 \nL 220.621077 108.650592 \nL 220.774425 138.989485 \nL 220.927772 122.115364 \nL 221.081119 125.049994 \nL 221.387814 96.336655 \nL 221.541161 122.115364 \nL 221.694508 125.049994 \nL 222.001203 96.336655 \nL 222.15455 181.901253 \nL 222.461245 108.650592 \nL 222.614592 96.336655 \nL 222.767939 181.901253 \nL 222.921286 155.547127 \nL 223.074634 108.650592 \nL 223.227981 96.336655 \nL 223.381328 181.901253 \nL 223.534675 155.547127 \nL 223.688023 153.540358 \nL 223.84137 96.336655 \nL 223.994717 181.901253 \nL 224.148064 155.547127 \nL 224.301412 153.540358 \nL 224.454759 138.586693 \nL 224.608106 181.901253 \nL 224.761453 155.547127 \nL 224.914801 153.540358 \nL 225.221495 120.525773 \nL 225.374842 155.547127 \nL 225.52819 153.540358 \nL 225.988231 109.535296 \nL 226.141579 153.540358 \nL 226.754968 91.726121 \nL 226.908315 138.586693 \nL 227.368357 91.726121 \nL 227.521704 181.757399 \nL 227.675051 120.525773 \nL 227.981746 91.726121 \nL 228.135093 181.757399 \nL 228.595135 91.726121 \nL 228.748482 181.757399 \nL 228.901829 153.763332 \nL 229.055177 151.605516 \nL 229.208524 91.726121 \nL 229.361871 181.757399 \nL 229.515218 153.763332 \nL 229.668566 151.605516 \nL 229.821913 137.220076 \nL 229.97526 181.757399 \nL 230.128607 153.763332 \nL 230.281955 151.605516 \nL 230.588649 124.604045 \nL 230.741996 153.763332 \nL 230.895344 151.605516 \nL 231.355385 107.722731 \nL 231.508733 151.605516 \nL 232.122122 94.070948 \nL 232.275469 137.220076 \nL 232.735511 94.070948 \nL 232.888858 182.260889 \nL 233.195553 107.722731 \nL 233.3489 94.070948 \nL 233.502247 182.260889 \nL 233.962289 94.070948 \nL 234.115636 182.260889 \nL 234.268983 153.533165 \nL 234.422331 150.540994 \nL 234.575678 94.070948 \nL 234.729025 182.260889 \nL 234.882372 153.533165 \nL 235.03572 150.540994 \nL 235.189067 138.298984 \nL 235.342414 182.260889 \nL 235.495761 153.533165 \nL 235.649109 150.540994 \nL 235.955803 123.704955 \nL 236.10915 153.533165 \nL 236.262498 150.540994 \nL 236.722539 109.765463 \nL 236.875887 150.540994 \nL 237.489276 95.660539 \nL 237.642623 138.298984 \nL 238.102665 95.660539 \nL 238.256012 180.671298 \nL 238.409359 123.704955 \nL 238.716054 95.660539 \nL 238.869401 180.671298 \nL 239.329443 95.660539 \nL 239.48279 180.671298 \nL 239.636137 153.763332 \nL 239.789485 150.03031 \nL 239.942832 95.660539 \nL 240.096179 180.671298 \nL 240.249526 153.763332 \nL 240.402874 150.03031 \nL 240.556221 139.392277 \nL 240.709568 180.671298 \nL 240.862915 153.763332 \nL 241.016263 150.03031 \nL 241.322957 123.820038 \nL 241.476304 153.763332 \nL 241.629652 150.03031 \nL 241.936346 123.820038 \nL 242.089693 109.988438 \nL 242.243041 150.03031 \nL 242.549735 123.820038 \nL 242.703082 109.988438 \nL 242.85643 115.584374 \nL 243.009777 139.392277 \nL 243.316472 109.988438 \nL 243.469819 115.584374 \nL 243.623166 194.21519 \nL 243.776513 123.820038 \nL 243.929861 109.988438 \nL 244.083208 115.584374 \nL 244.236555 194.21519 \nL 244.389902 165.86868 \nL 244.54325 109.988438 \nL 244.696597 115.584374 \nL 244.849944 194.21519 \nL 245.003291 165.86868 \nL 245.156639 167.041094 \nL 245.309986 115.584374 \nL 245.463333 194.21519 \nL 245.61668 165.86868 \nL 245.770028 167.041094 \nL 245.923375 155.058022 \nL 246.076722 194.21519 \nL 246.230069 165.86868 \nL 246.383417 167.041094 \nL 246.690111 141.622021 \nL 246.843458 165.86868 \nL 246.996806 167.041094 \nL 247.456847 127.495518 \nL 247.610195 167.041094 \nL 248.223584 113.074115 \nL 248.376931 155.058022 \nL 248.836973 113.074115 \nL 248.99032 193.776434 \nL 249.143667 141.622021 \nL 249.450362 113.074115 \nL 249.603709 193.776434 \nL 250.063751 113.074115 \nL 250.217098 193.776434 \nL 250.370445 168.573143 \nL 250.523793 165.545008 \nL 250.67714 113.074115 \nL 250.830487 193.776434 \nL 250.983834 168.573143 \nL 251.137182 165.545008 \nL 251.290529 153.741754 \nL 251.443876 193.776434 \nL 251.597223 168.573143 \nL 251.750571 165.545008 \nL 252.057265 140.69416 \nL 252.210612 168.573143 \nL 252.36396 165.545008 \nL 252.824001 124.424227 \nL 252.977349 165.545008 \nL 253.590738 113.584798 \nL 253.744085 153.741754 \nL 254.204127 113.584798 \nL 254.357474 194.020987 \nL 254.664169 124.424227 \nL 254.817516 113.584798 \nL 254.970863 194.020987 \nL 255.430905 113.584798 \nL 255.584252 194.020987 \nL 255.737599 166.710228 \nL 255.890947 166.667072 \nL 256.044294 113.584798 \nL 256.197641 194.020987 \nL 256.350988 166.710228 \nL 256.504336 166.667072 \nL 256.657683 151.943574 \nL 256.81103 194.020987 \nL 256.964377 166.710228 \nL 257.117725 166.667072 \nL 257.424419 139.435434 \nL 257.577766 166.710228 \nL 257.731114 166.667072 \nL 258.191155 123.891966 \nL 258.344503 166.667072 \nL 258.957892 111.729076 \nL 259.111239 151.943574 \nL 259.571281 111.729076 \nL 259.724628 193.841169 \nL 260.031323 123.891966 \nL 260.18467 111.729076 \nL 260.338017 193.841169 \nL 260.491364 168.458059 \nL 260.644712 123.891966 \nL 260.798059 111.729076 \nL 260.951406 193.841169 \nL 261.104753 168.458059 \nL 261.258101 166.300243 \nL 261.411448 111.729076 \nL 261.564795 193.841169 \nL 261.718142 168.458059 \nL 261.87149 166.300243 \nL 262.024837 154.532953 \nL 262.178184 193.841169 \nL 262.331531 168.458059 \nL 262.484879 166.300243 \nL 262.791573 139.888575 \nL 262.94492 168.458059 \nL 263.098268 166.300243 \nL 263.558309 126.035396 \nL 263.711657 166.300243 \nL 264.325046 112.225374 \nL 264.478393 154.532953 \nL 264.938435 112.225374 \nL 265.091782 195.783203 \nL 265.245129 139.888575 \nL 265.551824 112.225374 \nL 265.705171 195.783203 \nL 266.165213 112.225374 \nL 266.31856 195.783203 \nL 266.778602 112.225374 \nL 266.931949 195.783203 \nL 267.238644 154.202088 \nL 267.391991 135.788725 \nL 267.545338 195.783203 \nL 267.852033 154.202088 \nL 268.158727 122.791479 \nL 268.312074 168.055267 \nL 268.925463 106.816448 \nL 269.078811 154.202088 \nL 269.6922 93.589036 \nL 269.845547 135.788725 \nL 270.305589 93.589036 \nL 270.458936 180.987778 \nL 270.612283 122.791479 \nL 270.918978 93.589036 \nL 271.072325 180.987778 \nL 271.532367 93.589036 \nL 271.685714 180.987778 \nL 271.839061 150.994135 \nL 271.992409 152.310403 \nL 272.145756 93.589036 \nL 272.299103 180.987778 \nL 272.45245 150.994135 \nL 272.605798 152.310403 \nL 272.759145 137.083414 \nL 272.912492 180.987778 \nL 273.065839 150.994135 \nL 273.219187 152.310403 \nL 273.525881 122.769901 \nL 273.679228 150.994135 \nL 273.832576 152.310403 \nL 274.292617 111.045768 \nL 274.445965 152.310403 \nL 275.059354 93.366062 \nL 275.212701 137.083414 \nL 275.672743 93.366062 \nL 275.82609 182.0523 \nL 275.979437 122.769901 \nL 276.286132 93.366062 \nL 276.439479 182.0523 \nL 276.899521 93.366062 \nL 277.052868 182.0523 \nL 277.206215 152.130585 \nL 277.359563 153.259842 \nL 277.51291 93.366062 \nL 277.666257 182.0523 \nL 277.819604 152.130585 \nL 277.972952 153.259842 \nL 278.126299 137.975312 \nL 278.279646 182.0523 \nL 278.432993 152.130585 \nL 278.586341 153.259842 \nL 278.893035 123.309355 \nL 279.046382 152.130585 \nL 279.19973 153.259842 \nL 279.659771 107.226433 \nL 279.813119 153.259842 \nL 280.426508 96.372619 \nL 280.579855 137.975312 \nL 281.039897 96.372619 \nL 281.193244 181.822133 \nL 281.346591 123.309355 \nL 281.653286 96.372619 \nL 281.806633 181.822133 \nL 282.266675 96.372619 \nL 282.420022 181.822133 \nL 282.573369 151.677443 \nL 282.726717 155.345731 \nL 282.880064 96.372619 \nL 283.033411 181.822133 \nL 283.186758 151.677443 \nL 283.340106 155.345731 \nL 283.493453 136.515189 \nL 283.6468 181.822133 \nL 283.800147 151.677443 \nL 283.953495 155.345731 \nL 284.260189 124.488961 \nL 284.413536 151.677443 \nL 284.566884 155.345731 \nL 285.026925 107.715538 \nL 285.180273 155.345731 \nL 285.793662 93.085545 \nL 285.947009 136.515189 \nL 286.407051 93.085545 \nL 286.560398 183.325412 \nL 286.867093 107.715538 \nL 287.02044 93.085545 \nL 287.173787 183.325412 \nL 287.633829 93.085545 \nL 287.787176 183.325412 \nL 287.940523 151.957959 \nL 288.093871 152.439872 \nL 288.247218 93.085545 \nL 288.400565 183.325412 \nL 288.553912 151.957959 \nL 288.70726 152.439872 \nL 288.860607 137.349545 \nL 289.013954 183.325412 \nL 289.167301 151.957959 \nL 289.320649 152.439872 \nL 289.473996 137.349545 \nL 289.627343 190.280772 \nL 289.78069 151.957959 \nL 289.934038 152.439872 \nL 290.087385 137.349545 \nL 290.240732 190.280772 \nL 290.39408 182.52702 \nL 290.700774 137.349545 \nL 290.854121 190.280772 \nL 291.007469 182.52702 \nL 291.160816 168.177543 \nL 291.314163 137.349545 \nL 291.46751 190.280772 \nL 291.620858 182.52702 \nL 291.774205 168.177543 \nL 291.927552 233.998125 \nL 292.080899 190.280772 \nL 292.234247 182.52702 \nL 292.387594 168.177543 \nL 292.540941 233.998125 \nL 293.000983 168.177543 \nL 293.15433 233.998125 \nL 293.307677 213.894472 \nL 293.461025 212.722059 \nL 293.614372 168.177543 \nL 293.767719 233.998125 \nL 293.921066 213.894472 \nL 294.074414 212.722059 \nL 294.227761 202.098411 \nL 294.381108 233.998125 \nL 294.534455 213.894472 \nL 294.687803 212.722059 \nL 294.994497 190.201652 \nL 295.147844 213.894472 \nL 295.301192 212.722059 \nL 295.761234 180.563407 \nL 295.914581 212.722059 \nL 296.52797 169.11979 \nL 296.681317 202.098411 \nL 297.141359 169.11979 \nL 297.294706 232.29345 \nL 297.448053 190.201652 \nL 297.754748 169.11979 \nL 297.908095 232.29345 \nL 298.061442 213.470102 \nL 298.368137 169.11979 \nL 298.521484 232.29345 \nL 298.674831 213.470102 \nL 298.828179 210.111102 \nL 298.981526 169.11979 \nL 299.134873 232.29345 \nL 299.28822 213.470102 \nL 299.441568 210.111102 \nL 299.594915 200.516013 \nL 299.748262 232.29345 \nL 299.901609 213.470102 \nL 300.054957 210.111102 \nL 300.361651 189.410453 \nL 300.514998 213.470102 \nL 300.668346 210.111102 \nL 301.128388 179.542041 \nL 301.281735 210.111102 \nL 301.895124 170.810079 \nL 302.048471 200.516013 \nL 302.508513 170.810079 \nL 302.66186 231.379975 \nL 302.815207 189.410453 \nL 303.121902 170.810079 \nL 303.275249 231.379975 \nL 303.735291 170.810079 \nL 303.888638 231.379975 \nL 304.041985 211.448947 \nL 304.195333 211.247551 \nL 304.34868 170.810079 \nL 304.502027 231.379975 \nL 304.655374 211.448947 \nL 304.808722 211.247551 \nL 304.962069 199.242901 \nL 305.115416 231.379975 \nL 305.268763 211.448947 \nL 305.422111 211.247551 \nL 305.728805 189.511151 \nL 305.882152 211.448947 \nL 306.0355 211.247551 \nL 306.495542 180.908658 \nL 306.648889 211.247551 \nL 307.262278 171.07621 \nL 307.415625 199.242901 \nL 307.875667 171.07621 \nL 308.029014 233.027108 \nL 308.182361 189.511151 \nL 308.489056 171.07621 \nL 308.642403 233.027108 \nL 309.102445 171.07621 \nL 309.255792 233.027108 \nL 309.409139 209.859356 \nL 309.562487 212.448736 \nL 309.715834 171.07621 \nL 309.869181 233.027108 \nL 310.022528 209.859356 \nL 310.175876 212.448736 \nL 310.329223 201.609306 \nL 310.48257 233.027108 \nL 310.635917 209.859356 \nL 310.789265 212.448736 \nL 311.095959 189.741318 \nL 311.249307 209.859356 \nL 311.402654 212.448736 \nL 311.862696 179.290296 \nL 312.016043 212.448736 \nL 312.629432 168.990321 \nL 312.629432 168.990321 \n\" clip-path=\"url(#p6b9234804e)\" style=\"fill: none; stroke: #000000; stroke-width: 1.5; stroke-linecap: round\"/>\n   </g>\n   <g id=\"line2d_15\">\n    <path d=\"M 58.993068 217.008169 \nL 59.146415 213.403646 \nL 59.606457 193.511582 \nL 59.759804 212.708339 \nL 60.373193 191.810381 \nL 60.526541 203.544949 \nL 60.679888 197.888554 \nL 60.833235 197.407016 \nL 60.986583 203.359221 \nL 61.13993 214.251057 \nL 61.293277 193.680737 \nL 61.446624 192.931925 \nL 61.906666 219.310482 \nL 62.060013 191.482963 \nL 62.366708 212.842319 \nL 62.520055 213.436147 \nL 62.673402 210.950397 \nL 62.82675 201.004502 \nL 62.980097 210.786468 \nL 63.133444 210.243455 \nL 63.440139 199.008726 \nL 63.593486 209.459729 \nL 63.746833 206.978986 \nL 64.206875 186.130623 \nL 64.360222 208.645175 \nL 64.973611 180.00907 \nL 65.126958 202.188481 \nL 65.433653 185.894381 \nL 65.587 182.307693 \nL 65.740348 183.357967 \nL 65.893695 191.773573 \nL 66.047042 183.100653 \nL 66.200389 184.646869 \nL 66.507084 211.351582 \nL 66.660431 180.780574 \nL 66.813778 179.611232 \nL 67.120473 209.348481 \nL 67.27382 211.104599 \nL 67.427167 179.725485 \nL 67.733862 209.833106 \nL 67.887209 209.43181 \nL 68.040556 205.935558 \nL 68.193904 193.323384 \nL 68.347251 207.982944 \nL 68.500598 208.094919 \nL 68.807293 195.512323 \nL 68.96064 206.811147 \nL 69.113987 205.345942 \nL 69.574029 183.622305 \nL 69.727376 207.679781 \nL 70.340765 177.612288 \nL 70.494112 201.351126 \nL 70.954154 179.002657 \nL 71.107502 178.426142 \nL 71.260849 190.850434 \nL 71.414196 181.401016 \nL 71.567543 182.020444 \nL 71.874238 209.646884 \nL 72.027585 178.625082 \nL 72.180932 176.131265 \nL 72.487627 208.139684 \nL 72.640974 209.995731 \nL 72.794321 176.397921 \nL 73.101016 209.514852 \nL 73.254363 209.091537 \nL 73.40771 205.348123 \nL 73.561058 190.97385 \nL 73.714405 207.897241 \nL 73.867752 208.873913 \nL 74.174447 195.977329 \nL 74.327794 206.685975 \nL 74.481141 206.362549 \nL 74.941183 184.990298 \nL 75.09453 209.14238 \nL 75.707919 179.529206 \nL 75.861266 202.994336 \nL 76.321308 180.04913 \nL 76.474656 177.94326 \nL 76.628003 192.717799 \nL 76.78135 183.362425 \nL 76.934697 183.179373 \nL 77.241392 209.516374 \nL 77.394739 179.577319 \nL 77.548086 176.417745 \nL 77.854781 208.329446 \nL 78.008128 210.789857 \nL 78.161475 176.562508 \nL 78.46817 209.517746 \nL 78.621517 209.706397 \nL 78.774864 206.174694 \nL 78.928212 190.387897 \nL 79.081559 207.75632 \nL 79.234906 209.167239 \nL 79.541601 196.430537 \nL 79.694948 206.31932 \nL 79.848295 206.458075 \nL 80.308337 185.35093 \nL 80.461684 209.293029 \nL 81.075073 180.168431 \nL 81.22842 203.391722 \nL 81.688462 180.631859 \nL 81.84181 177.770345 \nL 81.995157 191.359657 \nL 82.301851 178.589782 \nL 82.455199 185.174352 \nL 82.608546 200.117841 \nL 82.761893 177.821517 \nL 82.91524 171.707455 \nL 83.375282 203.285015 \nL 83.528629 172.599754 \nL 83.988671 192.491284 \nL 84.142018 190.69497 \nL 84.295366 179.606184 \nL 84.448713 187.427551 \nL 84.60206 184.857539 \nL 84.908755 170.796594 \nL 85.062102 183.762321 \nL 85.368796 170.044517 \nL 85.675491 153.107956 \nL 85.828838 180.926942 \nL 86.442227 145.13546 \nL 86.595575 172.902355 \nL 86.902269 145.876974 \nL 87.055616 144.309328 \nL 87.362311 160.484607 \nL 87.515658 143.052638 \nL 87.669005 143.329899 \nL 87.9757 186.37559 \nL 88.129047 145.108859 \nL 88.282394 140.107163 \nL 88.589089 184.843586 \nL 88.742436 182.267153 \nL 88.895783 143.285875 \nL 89.202478 188.452335 \nL 89.509172 177.546629 \nL 89.66252 163.7288 \nL 89.815867 184.745276 \nL 89.969214 183.155858 \nL 90.275909 164.950589 \nL 90.429256 181.957213 \nL 90.582603 179.861385 \nL 91.042645 151.906046 \nL 91.195992 181.815345 \nL 91.809381 143.94764 \nL 91.962729 173.119623 \nL 92.269423 144.473723 \nL 92.42277 138.754399 \nL 92.576118 141.060265 \nL 92.729465 161.801153 \nL 92.882812 142.914021 \nL 93.036159 140.668285 \nL 93.342854 185.886808 \nL 93.496201 144.379899 \nL 93.649548 136.58431 \nL 93.956243 183.780444 \nL 94.10959 182.047731 \nL 94.262937 138.694104 \nL 94.569632 190.493341 \nL 94.876326 178.848578 \nL 95.029674 159.072659 \nL 95.183021 186.091867 \nL 95.336368 186.439795 \nL 95.643063 167.753015 \nL 95.79641 184.485616 \nL 95.949757 183.54471 \nL 96.409799 155.960525 \nL 96.563146 186.150145 \nL 97.176535 148.495222 \nL 97.329883 177.488186 \nL 97.789924 143.984434 \nL 97.943272 142.577315 \nL 98.096619 166.559844 \nL 98.249966 148.807028 \nL 98.403313 144.992357 \nL 98.710008 185.869824 \nL 99.016702 139.93713 \nL 99.323397 183.374635 \nL 99.476744 185.641128 \nL 99.630091 141.786742 \nL 99.936786 189.277932 \nL 100.090133 187.257668 \nL 100.24348 180.594557 \nL 100.396828 158.107786 \nL 100.550175 184.512683 \nL 100.703522 186.105846 \nL 101.010217 168.441641 \nL 101.163564 182.851735 \nL 101.316911 183.107073 \nL 101.776953 156.345495 \nL 101.9303 185.751552 \nL 102.543689 149.2331 \nL 102.697037 176.828973 \nL 103.157078 145.188731 \nL 103.310426 143.025104 \nL 103.463773 167.224078 \nL 103.61712 150.497925 \nL 103.770467 146.225423 \nL 104.077162 184.320096 \nL 104.383856 141.212203 \nL 104.843898 185.79485 \nL 104.997245 143.4191 \nL 105.150593 159.385864 \nL 105.30394 186.979789 \nL 105.457287 185.87276 \nL 105.610634 179.865473 \nL 105.763982 155.781355 \nL 105.917329 179.522374 \nL 106.070676 178.813554 \nL 106.377371 160.033937 \nL 106.530718 174.686116 \nL 106.684065 172.740649 \nL 107.144107 142.141818 \nL 107.297454 173.64181 \nL 107.910843 129.233492 \nL 108.064191 160.551144 \nL 108.524232 119.154769 \nL 108.67758 114.590998 \nL 108.830927 149.612609 \nL 109.137621 116.200102 \nL 109.290969 129.127087 \nL 109.444316 163.654827 \nL 109.75101 109.40164 \nL 109.904358 118.822412 \nL 110.057705 158.579652 \nL 110.211052 167.4307 \nL 110.364399 109.315429 \nL 110.517747 118.815113 \nL 110.671094 163.353283 \nL 110.824441 165.07063 \nL 110.977788 154.991482 \nL 111.131136 121.335682 \nL 111.284483 154.722822 \nL 111.43783 160.715539 \nL 111.744525 140.874276 \nL 112.051219 157.1875 \nL 112.511261 125.394922 \nL 112.664608 158.271097 \nL 113.277997 116.576305 \nL 113.431345 148.315969 \nL 113.891386 109.287497 \nL 114.044734 108.686686 \nL 114.198081 138.588783 \nL 114.504775 107.856164 \nL 114.658123 125.336671 \nL 114.81147 159.545622 \nL 115.118164 101.554934 \nL 115.271512 115.454419 \nL 115.424859 154.715894 \nL 115.578206 160.221847 \nL 115.731553 102.495153 \nL 115.884901 116.408467 \nL 116.038248 161.557421 \nL 116.191595 160.522156 \nL 116.344942 149.840125 \nL 116.49829 116.925811 \nL 116.651637 152.98432 \nL 116.804984 159.101469 \nL 117.111679 138.27876 \nL 117.418373 156.450912 \nL 117.878415 124.48033 \nL 118.031762 157.581003 \nL 118.645151 118.096895 \nL 118.798499 148.018678 \nL 119.25854 110.84661 \nL 119.411888 109.974711 \nL 119.565235 138.707644 \nL 119.871929 109.401063 \nL 120.025277 125.693393 \nL 120.178624 158.782049 \nL 120.485318 102.616841 \nL 120.638666 116.271222 \nL 120.792013 154.443613 \nL 120.94536 160.315767 \nL 121.098707 103.254172 \nL 121.252055 116.775286 \nL 121.405402 159.646512 \nL 121.558749 158.929281 \nL 121.712096 149.330025 \nL 121.865444 117.720088 \nL 122.018791 151.025449 \nL 122.172138 156.664051 \nL 122.478833 136.472143 \nL 122.785527 153.51821 \nL 123.245569 121.499817 \nL 123.398916 153.88743 \nL 124.012305 116.633596 \nL 124.165653 145.763901 \nL 124.625694 109.50209 \nL 124.779042 109.873163 \nL 124.932389 136.229426 \nL 125.239083 108.401001 \nL 125.392431 126.214277 \nL 125.545778 158.291621 \nL 125.852472 100.793939 \nL 126.00582 117.936794 \nL 126.159167 154.425449 \nL 126.312514 158.530387 \nL 126.465861 100.998792 \nL 126.619209 119.033081 \nL 126.772556 161.788834 \nL 126.925903 158.226524 \nL 127.07925 147.851114 \nL 127.232598 120.650993 \nL 127.385945 157.221276 \nL 127.539292 158.390755 \nL 127.845987 136.335172 \nL 127.999334 160.255897 \nL 128.152681 158.268669 \nL 128.612723 122.086223 \nL 128.76607 156.379381 \nL 129.379459 110.614593 \nL 129.532807 144.069684 \nL 129.992848 104.041068 \nL 130.146196 99.871664 \nL 130.299543 133.534516 \nL 130.606237 99.304355 \nL 130.759585 109.534028 \nL 130.912932 143.767276 \nL 131.219626 94.045551 \nL 131.372974 100.608211 \nL 131.526321 143.987576 \nL 131.679668 154.849271 \nL 131.833015 91.684397 \nL 131.986363 97.539896 \nL 132.13971 142.35342 \nL 132.293057 148.998381 \nL 132.446404 141.274707 \nL 132.599752 100.581212 \nL 132.906446 145.289086 \nL 133.213141 124.355843 \nL 133.366488 141.762473 \nL 133.519835 142.550124 \nL 133.979877 102.774473 \nL 134.133224 140.092923 \nL 134.746613 93.935881 \nL 134.899961 129.870178 \nL 135.360002 90.268182 \nL 135.51335 93.324287 \nL 135.666697 120.43415 \nL 135.973391 88.286661 \nL 136.126739 109.084511 \nL 136.280086 146.639669 \nL 136.58678 82.077677 \nL 136.740128 97.788924 \nL 136.893475 142.278048 \nL 137.046822 145.911093 \nL 137.200169 80.069706 \nL 137.353517 97.135734 \nL 137.506864 148.273783 \nL 137.660211 145.251029 \nL 137.813558 132.904511 \nL 137.966906 98.430371 \nL 138.120253 139.104481 \nL 138.2736 143.693824 \nL 138.580295 120.333178 \nL 138.733642 142.308093 \nL 138.886989 143.456649 \nL 139.347031 102.379145 \nL 139.500378 140.828564 \nL 140.113767 94.272189 \nL 140.267115 130.22443 \nL 140.727156 90.645016 \nL 140.880504 93.348432 \nL 141.033851 121.072085 \nL 141.340545 89.502853 \nL 141.64724 147.981184 \nL 141.953934 82.269277 \nL 142.107282 99.958753 \nL 142.260629 143.698763 \nL 142.413976 145.779075 \nL 142.567323 79.539054 \nL 142.720671 99.903547 \nL 142.874018 150.576179 \nL 143.027365 145.352042 \nL 143.180712 132.549915 \nL 143.33406 102.503741 \nL 143.487407 143.462864 \nL 143.640754 143.814579 \nL 143.947449 119.667641 \nL 144.100796 144.323815 \nL 144.254143 143.288303 \nL 144.714185 101.680024 \nL 144.867532 141.383225 \nL 145.480921 92.450879 \nL 145.634269 131.074379 \nL 146.09431 89.751441 \nL 146.247658 92.521532 \nL 146.401005 121.24135 \nL 146.707699 88.4998 \nL 147.014394 149.601263 \nL 147.321088 80.65817 \nL 147.474436 99.38387 \nL 147.627783 144.172412 \nL 147.78113 144.871534 \nL 147.934477 77.944931 \nL 148.087825 100.470664 \nL 148.241172 152.421744 \nL 148.394519 145.600672 \nL 148.547866 131.897369 \nL 148.701214 107.939521 \nL 148.854561 150.072786 \nL 149.007908 147.17836 \nL 149.314603 121.456464 \nL 149.46795 146.825575 \nL 149.621297 145.492992 \nL 150.081339 104.375455 \nL 150.234686 144.276718 \nL 150.848075 97.033363 \nL 151.001423 132.74135 \nL 151.461464 92.026879 \nL 151.614812 94.745194 \nL 151.768159 122.858494 \nL 152.074853 91.08718 \nL 152.381548 150.081018 \nL 152.688242 83.116674 \nL 152.84159 100.053661 \nL 152.994937 142.966674 \nL 153.148284 146.016565 \nL 153.301631 80.081642 \nL 153.454979 100.366866 \nL 153.608326 146.309342 \nL 153.761673 141.765135 \nL 153.91502 131.247609 \nL 154.068368 105.409623 \nL 154.221715 139.618025 \nL 154.375062 136.372008 \nL 154.681757 111.847742 \nL 154.835104 137.358433 \nL 154.988451 134.237712 \nL 155.448493 90.419174 \nL 155.60184 130.607617 \nL 156.215229 79.955591 \nL 156.368577 118.338898 \nL 156.828618 73.774018 \nL 156.981966 81.329881 \nL 157.135313 106.949803 \nL 157.442007 69.811881 \nL 157.748702 140.47888 \nL 157.902049 78.574963 \nL 158.055396 61.697298 \nL 158.208744 82.092439 \nL 158.362091 134.28319 \nL 158.515438 131.1721 \nL 158.668785 56.074199 \nL 158.822133 82.357902 \nL 158.97548 144.033576 \nL 159.282174 117.093568 \nL 159.435522 89.440404 \nL 159.588869 136.880243 \nL 159.742216 134.116298 \nL 160.048911 107.083207 \nL 160.202258 132.222634 \nL 160.355605 133.792008 \nL 160.815647 88.152516 \nL 160.968994 128.863819 \nL 161.275689 102.641206 \nL 161.582383 79.579882 \nL 161.735731 116.57861 \nL 162.195772 73.071659 \nL 162.34912 79.351872 \nL 162.502467 106.52904 \nL 162.809161 70.792956 \nL 163.115856 139.736736 \nL 163.42255 63.716025 \nL 163.575898 82.623557 \nL 163.729245 134.345516 \nL 163.882592 132.732844 \nL 164.035939 56.311483 \nL 164.189287 80.732884 \nL 164.342634 143.954005 \nL 164.495981 134.339809 \nL 164.649328 117.377771 \nL 164.802676 87.574616 \nL 164.956023 138.366397 \nL 165.10937 135.522718 \nL 165.416065 107.987208 \nL 165.569412 132.596422 \nL 165.722759 134.146658 \nL 166.182801 88.366396 \nL 166.336148 129.190139 \nL 166.642843 103.245337 \nL 166.949537 79.896572 \nL 167.102885 117.015781 \nL 167.562926 73.765649 \nL 167.716274 77.796656 \nL 167.869621 107.066991 \nL 168.176315 71.56756 \nL 168.48301 138.781 \nL 168.789704 64.473507 \nL 168.943052 82.447076 \nL 169.096399 134.407677 \nL 169.249746 133.5757 \nL 169.403093 57.657045 \nL 169.556441 79.728459 \nL 169.709788 142.874002 \nL 169.863135 134.865769 \nL 170.016482 118.294833 \nL 170.16983 84.072369 \nL 170.323177 136.687065 \nL 170.476524 136.745234 \nL 170.783219 109.90639 \nL 170.936566 131.900936 \nL 171.089913 137.256501 \nL 171.549955 92.288665 \nL 171.703302 131.626789 \nL 171.85665 122.881679 \nL 172.316691 84.325046 \nL 172.470039 117.194622 \nL 172.93008 75.055787 \nL 173.083428 78.20979 \nL 173.236775 107.384257 \nL 173.543469 73.349195 \nL 173.696817 96.001061 \nL 173.850164 137.53759 \nL 174.156858 66.129558 \nL 174.310206 82.811618 \nL 174.463553 133.820063 \nL 174.6169 134.669532 \nL 174.770247 59.340012 \nL 174.923595 81.045595 \nL 175.076942 142.191591 \nL 175.230289 135.028998 \nL 175.383637 119.328122 \nL 175.536984 90.032654 \nL 175.690331 137.790335 \nL 175.843678 132.30728 \nL 176.150373 103.801781 \nL 176.30372 129.320882 \nL 176.457067 130.646373 \nL 176.917109 82.311806 \nL 177.070456 124.438651 \nL 177.223804 114.707033 \nL 177.683845 72.025803 \nL 177.837193 108.637902 \nL 178.297234 61.401269 \nL 178.450582 64.232958 \nL 178.603929 97.58495 \nL 178.910623 57.514504 \nL 179.063971 82.234705 \nL 179.217318 130.889954 \nL 179.524012 50.768229 \nL 179.67736 65.896966 \nL 179.830707 126.075742 \nL 179.984054 124.271938 \nL 180.137401 39.189317 \nL 180.290749 63.658789 \nL 180.444096 131.804478 \nL 180.597443 122.561861 \nL 180.750791 105.382953 \nL 180.904138 69.025315 \nL 181.057485 127.719583 \nL 181.210832 125.774774 \nL 181.36418 102.402769 \nL 181.517527 96.973685 \nL 181.670874 119.54159 \nL 181.824221 125.226507 \nL 182.284263 75.305034 \nL 182.43761 117.812637 \nL 182.590958 110.303967 \nL 183.050999 68.770113 \nL 183.204347 103.050609 \nL 183.664388 59.17061 \nL 183.817736 64.904476 \nL 183.971083 93.038986 \nL 184.277777 56.064925 \nL 184.431125 82.544728 \nL 184.584472 129.128418 \nL 184.737819 64.515377 \nL 184.891166 48.77993 \nL 185.044514 66.82739 \nL 185.197861 125.144001 \nL 185.351208 121.105587 \nL 185.504555 37.501163 \nL 185.657903 64.170536 \nL 185.81125 130.791685 \nL 186.117945 104.271794 \nL 186.271292 64.415036 \nL 186.424639 124.965572 \nL 186.577986 123.962491 \nL 186.731334 100.127771 \nL 186.884681 94.90406 \nL 187.191375 124.241728 \nL 187.651417 73.454173 \nL 187.804764 115.429724 \nL 187.958112 108.64413 \nL 188.418153 67.136534 \nL 188.571501 101.523325 \nL 189.031542 58.48743 \nL 189.18489 65.368591 \nL 189.338237 91.049042 \nL 189.644931 54.960845 \nL 189.951626 128.986796 \nL 190.104973 61.247122 \nL 190.25832 46.717632 \nL 190.411668 67.200438 \nL 190.565015 124.747055 \nL 190.718362 118.450846 \nL 190.871709 35.460568 \nL 191.025057 64.632867 \nL 191.178404 131.769659 \nL 191.485099 102.88856 \nL 191.638446 63.520446 \nL 191.791793 124.488863 \nL 191.94514 123.603903 \nL 192.098488 99.66961 \nL 192.251835 94.499102 \nL 192.558529 124.598697 \nL 193.018571 73.872274 \nL 193.171918 115.300985 \nL 193.325266 108.640261 \nL 193.785307 67.071424 \nL 193.938655 100.556765 \nL 194.398696 57.669996 \nL 194.552044 64.152399 \nL 194.705391 90.052217 \nL 195.012085 54.044249 \nL 195.31878 128.317815 \nL 195.472127 60.646695 \nL 195.625474 45.637862 \nL 195.778822 66.090596 \nL 195.932169 124.480933 \nL 196.085516 117.684391 \nL 196.238863 32.398125 \nL 196.392211 64.331268 \nL 196.545558 135.353782 \nL 197.0056 84.923607 \nL 197.158947 137.054776 \nL 197.312294 127.158613 \nL 197.618989 95.550116 \nL 197.772336 121.181288 \nL 197.925683 126.572014 \nL 198.385725 76.152074 \nL 198.539072 118.232576 \nL 198.69242 110.43213 \nL 199.152461 68.311925 \nL 199.305809 106.780181 \nL 199.76585 64.916357 \nL 200.072545 98.983494 \nL 200.379239 66.774736 \nL 200.685934 141.201448 \nL 200.839281 67.805968 \nL 200.992628 57.203741 \nL 201.299323 136.429875 \nL 201.45267 118.861044 \nL 201.606018 50.1163 \nL 201.912712 156.908469 \nL 202.219407 115.624123 \nL 202.372754 106.793708 \nL 202.526101 162.390619 \nL 202.679448 151.525768 \nL 202.986143 119.048117 \nL 203.13949 155.794813 \nL 203.292837 154.535174 \nL 203.752879 111.350317 \nL 203.906226 152.029792 \nL 204.519615 102.938141 \nL 204.672963 137.073832 \nL 205.133004 94.720829 \nL 205.286352 93.425396 \nL 205.439699 128.485187 \nL 205.746393 95.392979 \nL 205.899741 114.076041 \nL 206.053088 151.949425 \nL 206.359782 88.502818 \nL 206.51313 102.507391 \nL 206.666477 146.785488 \nL 206.819824 151.232209 \nL 206.973172 85.078248 \nL 207.126519 102.656654 \nL 207.279866 154.507489 \nL 207.433213 150.607664 \nL 207.586561 137.332888 \nL 207.739908 113.456489 \nL 207.893255 155.038058 \nL 208.046602 152.096576 \nL 208.353297 126.43455 \nL 208.506644 154.295653 \nL 208.659991 151.712031 \nL 209.120033 111.57498 \nL 209.27338 151.944926 \nL 209.886769 104.362889 \nL 210.040117 136.428393 \nL 210.500158 95.312997 \nL 210.653506 94.930977 \nL 210.806853 126.741444 \nL 211.113547 94.193223 \nL 211.266895 112.39642 \nL 211.420242 149.797802 \nL 211.726936 87.34721 \nL 211.880284 102.061111 \nL 212.033631 145.815553 \nL 212.186978 150.061811 \nL 212.340326 85.167476 \nL 212.493673 102.068931 \nL 212.64702 151.702977 \nL 212.800367 148.654829 \nL 212.953715 136.609223 \nL 213.107062 107.006847 \nL 213.260409 147.306619 \nL 213.413756 146.839514 \nL 213.720451 122.849686 \nL 213.873798 147.809545 \nL 214.027145 148.118662 \nL 214.487187 107.724489 \nL 214.640534 146.773128 \nL 215.253923 100.027238 \nL 215.407271 132.446213 \nL 215.867312 91.467033 \nL 216.02066 93.321433 \nL 216.174007 123.331773 \nL 216.480701 91.635393 \nL 216.634049 111.280241 \nL 216.787396 148.249103 \nL 217.09409 83.699513 \nL 217.247438 100.957388 \nL 217.400785 144.723601 \nL 217.554132 146.998463 \nL 217.70748 81.281123 \nL 217.860827 102.130611 \nL 218.014174 152.704918 \nL 218.167521 147.094551 \nL 218.320869 134.126629 \nL 218.474216 106.721738 \nL 218.627563 145.752418 \nL 218.78091 144.377868 \nL 219.087605 119.911071 \nL 219.240952 149.096678 \nL 219.394299 145.259 \nL 219.854341 103.783946 \nL 220.007688 144.920854 \nL 220.621077 95.617367 \nL 220.774425 133.420332 \nL 221.234466 91.12403 \nL 221.387814 92.282025 \nL 221.541161 122.86475 \nL 221.847855 89.717199 \nL 222.001203 110.67685 \nL 222.15455 148.946331 \nL 222.461245 82.458819 \nL 222.614592 99.194521 \nL 222.767939 144.307874 \nL 222.921286 146.583366 \nL 223.074634 80.84623 \nL 223.227981 99.290609 \nL 223.381328 155.564745 \nL 223.534675 150.37385 \nL 223.688023 135.208607 \nL 223.84137 103.726463 \nL 223.994717 152.393565 \nL 224.148064 155.023502 \nL 224.454759 130.33469 \nL 224.608106 157.068474 \nL 224.761453 156.297931 \nL 225.221495 118.483854 \nL 225.374842 156.038353 \nL 225.988231 113.757403 \nL 226.141579 145.688337 \nL 226.60162 110.488296 \nL 226.754968 110.694548 \nL 226.908315 137.731467 \nL 227.215009 111.168074 \nL 227.368357 127.882977 \nL 227.521704 158.89641 \nL 227.828399 105.365612 \nL 227.981746 116.948804 \nL 228.135093 154.096892 \nL 228.28844 161.404852 \nL 228.441788 104.629751 \nL 228.595135 118.976202 \nL 228.748482 159.880161 \nL 228.901829 158.625803 \nL 229.055177 149.650515 \nL 229.208524 124.108818 \nL 229.361871 158.102243 \nL 229.515218 158.337785 \nL 229.821913 136.581497 \nL 229.97526 161.413083 \nL 230.128607 157.903674 \nL 230.588649 121.406225 \nL 230.741996 159.169021 \nL 231.355385 115.329877 \nL 231.508733 146.957443 \nL 231.968774 109.732158 \nL 232.122122 109.82339 \nL 232.275469 137.273595 \nL 232.582163 109.29861 \nL 232.735511 127.431456 \nL 232.888858 159.469331 \nL 233.195553 101.854091 \nL 233.3489 119.489842 \nL 233.502247 154.994006 \nL 233.655594 158.949668 \nL 233.808942 102.50193 \nL 233.962289 121.375577 \nL 234.115636 162.647356 \nL 234.268983 158.618875 \nL 234.422331 148.610558 \nL 234.575678 124.13343 \nL 234.729025 159.46955 \nL 234.882372 159.132515 \nL 235.189067 136.643192 \nL 235.342414 162.800337 \nL 235.495761 158.026295 \nL 235.955803 121.391793 \nL 236.10915 157.95663 \nL 236.722539 112.660265 \nL 236.875887 147.694223 \nL 237.335928 109.387811 \nL 237.489276 109.472622 \nL 237.642623 137.924302 \nL 237.949317 109.313152 \nL 238.102665 126.897869 \nL 238.256012 159.433304 \nL 238.562707 101.951139 \nL 238.716054 118.118159 \nL 238.869401 154.925013 \nL 239.022748 159.497948 \nL 239.176096 102.10589 \nL 239.329443 120.623253 \nL 239.48279 163.083484 \nL 239.636137 159.313469 \nL 239.789485 148.868201 \nL 239.942832 127.592902 \nL 240.096179 162.079005 \nL 240.249526 160.141974 \nL 240.556221 136.851913 \nL 240.709568 165.190768 \nL 240.862915 158.157806 \nL 241.322957 121.070246 \nL 241.476304 157.85312 \nL 242.089693 111.677269 \nL 242.243041 148.578263 \nL 242.703082 109.964668 \nL 242.85643 109.400954 \nL 243.009777 138.680837 \nL 243.316472 109.018687 \nL 243.469819 126.547649 \nL 243.623166 159.878542 \nL 243.929861 102.546325 \nL 244.083208 116.781377 \nL 244.236555 155.010675 \nL 244.389902 160.414311 \nL 244.54325 103.157316 \nL 244.696597 118.437099 \nL 244.849944 161.690454 \nL 245.003291 159.842186 \nL 245.156639 149.692372 \nL 245.309986 119.845384 \nL 245.463333 156.243549 \nL 245.61668 158.930063 \nL 245.923375 137.571366 \nL 246.076722 162.343041 \nL 246.230069 161.070135 \nL 246.690111 126.628345 \nL 246.843458 161.377647 \nL 247.456847 119.810895 \nL 247.610195 152.993827 \nL 248.070236 119.299971 \nL 248.223584 121.801306 \nL 248.376931 144.252819 \nL 248.530278 125.495208 \nL 248.683626 121.638269 \nL 248.99032 169.458002 \nL 249.143667 126.781751 \nL 249.297015 116.636697 \nL 249.603709 166.675235 \nL 249.757056 166.605666 \nL 249.910404 118.808994 \nL 250.217098 174.631487 \nL 250.523793 160.389438 \nL 250.67714 140.956028 \nL 250.830487 172.558062 \nL 250.983834 172.018658 \nL 251.290529 150.531551 \nL 251.443876 176.623874 \nL 251.597223 171.082828 \nL 252.057265 137.65084 \nL 252.210612 172.136614 \nL 252.824001 127.905092 \nL 252.977349 162.888811 \nL 253.43739 127.038626 \nL 253.590738 125.773018 \nL 253.744085 153.195456 \nL 254.05078 127.922845 \nL 254.357474 173.254001 \nL 254.664169 122.285862 \nL 254.817516 138.88499 \nL 254.970863 168.329502 \nL 255.12421 172.507233 \nL 255.277558 123.882153 \nL 255.430905 142.02747 \nL 255.584252 175.714563 \nL 255.737599 172.549104 \nL 255.890947 164.471109 \nL 256.044294 142.48419 \nL 256.197641 172.438693 \nL 256.350988 172.494461 \nL 256.657683 151.948369 \nL 256.81103 176.306964 \nL 256.964377 170.366242 \nL 257.424419 137.440939 \nL 257.577766 171.38145 \nL 258.191155 127.436478 \nL 258.344503 162.465401 \nL 258.804544 126.105101 \nL 258.957892 124.702029 \nL 259.111239 152.965127 \nL 259.417934 126.793577 \nL 259.724628 172.468532 \nL 260.031323 120.871266 \nL 260.18467 137.068193 \nL 260.338017 167.36227 \nL 260.491364 171.780221 \nL 260.644712 122.797828 \nL 260.798059 139.645312 \nL 260.951406 174.420461 \nL 261.104753 171.962341 \nL 261.258101 163.855083 \nL 261.411448 140.821993 \nL 261.564795 171.292304 \nL 261.718142 171.75967 \nL 262.024837 151.308816 \nL 262.178184 175.249612 \nL 262.331531 169.283537 \nL 262.791573 136.057924 \nL 262.94492 169.87067 \nL 263.558309 126.266821 \nL 263.711657 161.702925 \nL 264.171698 125.879204 \nL 264.325046 124.937667 \nL 264.478393 151.823416 \nL 264.785088 126.262843 \nL 265.091782 172.524574 \nL 265.398477 120.770157 \nL 265.858518 171.440003 \nL 266.011866 122.677952 \nL 266.165213 140.54078 \nL 266.31856 174.924333 \nL 266.471907 171.903486 \nL 266.625255 163.711761 \nL 266.778602 140.138223 \nL 266.931949 170.577749 \nL 267.085296 171.782334 \nL 267.391991 151.845202 \nL 267.545338 170.761652 \nL 267.698685 170.853021 \nL 268.158727 140.064785 \nL 268.312074 170.621444 \nL 268.925463 127.273551 \nL 269.078811 162.617888 \nL 269.538853 126.92827 \nL 269.6922 125.750519 \nL 269.845547 151.39873 \nL 270.152242 125.160135 \nL 270.305589 140.848018 \nL 270.458936 169.855263 \nL 270.765631 118.316125 \nL 270.918978 130.685225 \nL 271.072325 162.295793 \nL 271.225672 169.392617 \nL 271.37902 119.698975 \nL 271.532367 131.458512 \nL 271.685714 163.205049 \nL 271.839061 163.087257 \nL 271.992409 157.572799 \nL 272.145756 134.233349 \nL 272.299103 157.61504 \nL 272.45245 157.108821 \nL 272.759145 138.422686 \nL 272.912492 157.349042 \nL 273.065839 155.632641 \nL 273.525881 121.13168 \nL 273.679228 153.959866 \nL 274.292617 107.881105 \nL 274.445965 145.334016 \nL 274.906007 105.754848 \nL 275.059354 108.520165 \nL 275.212701 134.341414 \nL 275.519396 104.581872 \nL 275.82609 160.123124 \nL 276.132785 97.385832 \nL 276.286132 117.586081 \nL 276.439479 154.448483 \nL 276.592826 156.383552 \nL 276.746174 98.577549 \nL 276.899521 120.059895 \nL 277.052868 163.166114 \nL 277.206215 157.617633 \nL 277.359563 146.510285 \nL 277.51291 121.612724 \nL 277.666257 158.350928 \nL 277.819604 158.873129 \nL 278.126299 136.429367 \nL 278.279646 157.574102 \nL 278.432993 157.835655 \nL 278.893035 121.969721 \nL 279.046382 155.839469 \nL 279.659771 110.152729 \nL 279.813119 146.530658 \nL 280.273161 107.31204 \nL 280.426508 108.229239 \nL 280.579855 136.629432 \nL 280.88655 106.886668 \nL 281.193244 161.243612 \nL 281.499939 100.056761 \nL 281.653286 117.454652 \nL 281.806633 155.328449 \nL 281.95998 158.726034 \nL 282.113328 100.731243 \nL 282.266675 119.884374 \nL 282.420022 163.80874 \nL 282.573369 159.633396 \nL 282.726717 148.469485 \nL 282.880064 121.164935 \nL 283.033411 158.919074 \nL 283.186758 159.852448 \nL 283.493453 137.384609 \nL 283.6468 159.186924 \nL 283.800147 158.872292 \nL 284.260189 123.066118 \nL 284.413536 156.634911 \nL 285.026925 110.73008 \nL 285.180273 147.878085 \nL 285.640315 109.081739 \nL 285.793662 108.346592 \nL 285.947009 138.610719 \nL 286.253704 108.600092 \nL 286.407051 127.061948 \nL 286.560398 160.618299 \nL 286.867093 101.211272 \nL 287.02044 116.71816 \nL 287.173787 155.416333 \nL 287.327134 159.793662 \nL 287.480482 102.284539 \nL 287.633829 118.6982 \nL 287.787176 162.720781 \nL 287.940523 160.152771 \nL 288.093871 149.432945 \nL 288.247218 120.163035 \nL 288.400565 157.7502 \nL 288.553912 159.904388 \nL 288.860607 138.125093 \nL 289.013954 158.051332 \nL 289.167301 159.592459 \nL 289.627343 124.608246 \nL 289.78069 158.486952 \nL 290.39408 115.129799 \nL 290.547427 147.013499 \nL 291.007469 109.322124 \nL 291.160816 109.054521 \nL 291.314163 137.569281 \nL 291.620858 108.68633 \nL 291.774205 125.968624 \nL 291.927552 158.795795 \nL 292.234247 101.713361 \nL 292.387594 117.084047 \nL 292.540941 154.752606 \nL 292.694288 159.588988 \nL 292.847636 107.870871 \nL 293.000983 121.016934 \nL 293.15433 170.348874 \nL 293.307677 169.640588 \nL 293.461025 156.488818 \nL 293.614372 123.921224 \nL 293.921066 184.248235 \nL 294.227761 161.675597 \nL 294.381108 183.874461 \nL 294.534455 188.534525 \nL 294.994497 162.316687 \nL 295.147844 193.592675 \nL 295.454539 180.744383 \nL 295.761234 164.590354 \nL 295.914581 194.88856 \nL 296.374623 175.430524 \nL 296.52797 168.751664 \nL 296.681317 192.885802 \nL 296.988012 181.727173 \nL 297.141359 183.65486 \nL 297.294706 190.203006 \nL 297.448053 187.48753 \nL 297.601401 181.446536 \nL 297.754748 186.239771 \nL 298.061442 207.365561 \nL 298.21479 181.537685 \nL 298.368137 185.684535 \nL 298.674831 206.310554 \nL 298.828179 206.585195 \nL 298.981526 189.188388 \nL 299.134873 204.532788 \nL 299.28822 206.922971 \nL 299.594915 196.150148 \nL 299.748262 209.739336 \nL 299.901609 206.901542 \nL 300.361651 183.483057 \nL 300.514998 209.342458 \nL 301.128388 177.954372 \nL 301.281735 203.201891 \nL 301.741777 182.368578 \nL 301.895124 180.966274 \nL 302.048471 194.800553 \nL 302.201818 186.860571 \nL 302.355166 186.90181 \nL 302.66186 210.155311 \nL 302.815207 189.3202 \nL 302.968555 185.41973 \nL 303.428596 213.205791 \nL 303.581944 186.593489 \nL 303.735291 193.628427 \nL 303.888638 205.782906 \nL 304.041985 208.720932 \nL 304.195333 207.980626 \nL 304.34868 196.260723 \nL 304.502027 206.808143 \nL 304.655374 206.199636 \nL 304.962069 194.518572 \nL 305.115416 209.152985 \nL 305.575458 185.82392 \nL 305.728805 178.129948 \nL 305.882152 206.738848 \nL 306.495542 173.718417 \nL 306.648889 202.06018 \nL 307.108931 178.850924 \nL 307.262278 178.334389 \nL 307.415625 192.908617 \nL 307.568972 183.799678 \nL 307.72232 183.721343 \nL 308.029014 209.498924 \nL 308.182361 181.024608 \nL 308.335709 178.605724 \nL 308.642403 207.918616 \nL 308.79575 210.480575 \nL 308.949098 180.439628 \nL 309.255792 208.033842 \nL 309.409139 207.664114 \nL 309.562487 204.467773 \nL 309.715834 208.912682 \nL 309.869181 206.955375 \nL 310.329223 185.945155 \nL 310.48257 207.210824 \nL 311.095959 172.710755 \nL 311.249307 204.68806 \nL 311.862696 169.547011 \nL 312.016043 200.045528 \nL 312.322737 180.589564 \nL 312.476085 177.357663 \nL 312.629432 180.897446 \nL 312.629432 180.897446 \n\" clip-path=\"url(#p6b9234804e)\" style=\"fill: none; stroke: #008000; stroke-width: 1.5; stroke-linecap: round\"/>\n   </g>\n   <g id=\"patch_3\">\n    <path d=\"M 46.31125 244.078125 \nL 46.31125 22.318125 \n\" style=\"fill: none; stroke: #ffffff; stroke-width: 1.25; stroke-linejoin: miter; stroke-linecap: square\"/>\n   </g>\n   <g id=\"patch_4\">\n    <path d=\"M 325.31125 244.078125 \nL 325.31125 22.318125 \n\" style=\"fill: none; stroke: #ffffff; stroke-width: 1.25; stroke-linejoin: miter; stroke-linecap: square\"/>\n   </g>\n   <g id=\"patch_5\">\n    <path d=\"M 46.31125 244.078125 \nL 325.31125 244.078125 \n\" style=\"fill: none; stroke: #ffffff; stroke-width: 1.25; stroke-linejoin: miter; stroke-linecap: square\"/>\n   </g>\n   <g id=\"patch_6\">\n    <path d=\"M 46.31125 22.318125 \nL 325.31125 22.318125 \n\" style=\"fill: none; stroke: #ffffff; stroke-width: 1.25; stroke-linejoin: miter; stroke-linecap: square\"/>\n   </g>\n   <g id=\"text_16\">\n    <!-- Sales vs Predicted Sales -->\n    <g style=\"fill: #262626\" transform=\"translate(113.30875 16.318125) scale(0.12 -0.12)\">\n     <defs>\n      <path id=\"DejaVuSans-53\" d=\"M 3425 4513 \nL 3425 3897 \nQ 3066 4069 2747 4153 \nQ 2428 4238 2131 4238 \nQ 1616 4238 1336 4038 \nQ 1056 3838 1056 3469 \nQ 1056 3159 1242 3001 \nQ 1428 2844 1947 2747 \nL 2328 2669 \nQ 3034 2534 3370 2195 \nQ 3706 1856 3706 1288 \nQ 3706 609 3251 259 \nQ 2797 -91 1919 -91 \nQ 1588 -91 1214 -16 \nQ 841 59 441 206 \nL 441 856 \nQ 825 641 1194 531 \nQ 1563 422 1919 422 \nQ 2459 422 2753 634 \nQ 3047 847 3047 1241 \nQ 3047 1584 2836 1778 \nQ 2625 1972 2144 2069 \nL 1759 2144 \nQ 1053 2284 737 2584 \nQ 422 2884 422 3419 \nQ 422 4038 858 4394 \nQ 1294 4750 2059 4750 \nQ 2388 4750 2728 4690 \nQ 3069 4631 3425 4513 \nz\n\" transform=\"scale(0.015625)\"/>\n      <path id=\"DejaVuSans-6c\" d=\"M 603 4863 \nL 1178 4863 \nL 1178 0 \nL 603 0 \nL 603 4863 \nz\n\" transform=\"scale(0.015625)\"/>\n      <path id=\"DejaVuSans-20\" transform=\"scale(0.015625)\"/>\n      <path id=\"DejaVuSans-76\" d=\"M 191 3500 \nL 800 3500 \nL 1894 563 \nL 2988 3500 \nL 3597 3500 \nL 2284 0 \nL 1503 0 \nL 191 3500 \nz\n\" transform=\"scale(0.015625)\"/>\n      <path id=\"DejaVuSans-64\" d=\"M 2906 2969 \nL 2906 4863 \nL 3481 4863 \nL 3481 0 \nL 2906 0 \nL 2906 525 \nQ 2725 213 2448 61 \nQ 2172 -91 1784 -91 \nQ 1150 -91 751 415 \nQ 353 922 353 1747 \nQ 353 2572 751 3078 \nQ 1150 3584 1784 3584 \nQ 2172 3584 2448 3432 \nQ 2725 3281 2906 2969 \nz\nM 947 1747 \nQ 947 1113 1208 752 \nQ 1469 391 1925 391 \nQ 2381 391 2643 752 \nQ 2906 1113 2906 1747 \nQ 2906 2381 2643 2742 \nQ 2381 3103 1925 3103 \nQ 1469 3103 1208 2742 \nQ 947 2381 947 1747 \nz\n\" transform=\"scale(0.015625)\"/>\n      <path id=\"DejaVuSans-74\" d=\"M 1172 4494 \nL 1172 3500 \nL 2356 3500 \nL 2356 3053 \nL 1172 3053 \nL 1172 1153 \nQ 1172 725 1289 603 \nQ 1406 481 1766 481 \nL 2356 481 \nL 2356 0 \nL 1766 0 \nQ 1100 0 847 248 \nQ 594 497 594 1153 \nL 594 3053 \nL 172 3053 \nL 172 3500 \nL 594 3500 \nL 594 4494 \nL 1172 4494 \nz\n\" transform=\"scale(0.015625)\"/>\n     </defs>\n     <use xlink:href=\"#DejaVuSans-53\"/>\n     <use xlink:href=\"#DejaVuSans-61\" x=\"63.476562\"/>\n     <use xlink:href=\"#DejaVuSans-6c\" x=\"124.755859\"/>\n     <use xlink:href=\"#DejaVuSans-65\" x=\"152.539062\"/>\n     <use xlink:href=\"#DejaVuSans-73\" x=\"214.0625\"/>\n     <use xlink:href=\"#DejaVuSans-20\" x=\"266.162109\"/>\n     <use xlink:href=\"#DejaVuSans-76\" x=\"297.949219\"/>\n     <use xlink:href=\"#DejaVuSans-73\" x=\"357.128906\"/>\n     <use xlink:href=\"#DejaVuSans-20\" x=\"409.228516\"/>\n     <use xlink:href=\"#DejaVuSans-50\" x=\"441.015625\"/>\n     <use xlink:href=\"#DejaVuSans-72\" x=\"499.568359\"/>\n     <use xlink:href=\"#DejaVuSans-65\" x=\"538.431641\"/>\n     <use xlink:href=\"#DejaVuSans-64\" x=\"599.955078\"/>\n     <use xlink:href=\"#DejaVuSans-69\" x=\"663.431641\"/>\n     <use xlink:href=\"#DejaVuSans-63\" x=\"691.214844\"/>\n     <use xlink:href=\"#DejaVuSans-74\" x=\"746.195312\"/>\n     <use xlink:href=\"#DejaVuSans-65\" x=\"785.404297\"/>\n     <use xlink:href=\"#DejaVuSans-64\" x=\"846.927734\"/>\n     <use xlink:href=\"#DejaVuSans-20\" x=\"910.404297\"/>\n     <use xlink:href=\"#DejaVuSans-53\" x=\"942.191406\"/>\n     <use xlink:href=\"#DejaVuSans-61\" x=\"1005.667969\"/>\n     <use xlink:href=\"#DejaVuSans-6c\" x=\"1066.947266\"/>\n     <use xlink:href=\"#DejaVuSans-65\" x=\"1094.730469\"/>\n     <use xlink:href=\"#DejaVuSans-73\" x=\"1156.253906\"/>\n    </g>\n   </g>\n   <g id=\"legend_1\">\n    <g id=\"patch_7\">\n     <path d=\"M 126.006484 238.578125 \nL 245.616016 238.578125 \nQ 247.816016 238.578125 247.816016 236.378125 \nL 247.816016 205.18625 \nQ 247.816016 202.98625 245.616016 202.98625 \nL 126.006484 202.98625 \nQ 123.806484 202.98625 123.806484 205.18625 \nL 123.806484 236.378125 \nQ 123.806484 238.578125 126.006484 238.578125 \nz\n\" style=\"fill: #eaeaf2; opacity: 0.8; stroke: #cccccc; stroke-linejoin: miter\"/>\n    </g>\n    <g id=\"line2d_16\">\n     <path d=\"M 128.206484 211.894531 \nL 139.206484 211.894531 \nL 150.206484 211.894531 \n\" style=\"fill: none; stroke: #000000; stroke-width: 1.5; stroke-linecap: round\"/>\n    </g>\n    <g id=\"text_17\">\n     <!-- Actual Sales -->\n     <g style=\"fill: #262626\" transform=\"translate(159.006484 215.744531) scale(0.11 -0.11)\">\n      <defs>\n       <path id=\"DejaVuSans-41\" d=\"M 2188 4044 \nL 1331 1722 \nL 3047 1722 \nL 2188 4044 \nz\nM 1831 4666 \nL 2547 4666 \nL 4325 0 \nL 3669 0 \nL 3244 1197 \nL 1141 1197 \nL 716 0 \nL 50 0 \nL 1831 4666 \nz\n\" transform=\"scale(0.015625)\"/>\n       <path id=\"DejaVuSans-75\" d=\"M 544 1381 \nL 544 3500 \nL 1119 3500 \nL 1119 1403 \nQ 1119 906 1312 657 \nQ 1506 409 1894 409 \nQ 2359 409 2629 706 \nQ 2900 1003 2900 1516 \nL 2900 3500 \nL 3475 3500 \nL 3475 0 \nL 2900 0 \nL 2900 538 \nQ 2691 219 2414 64 \nQ 2138 -91 1772 -91 \nQ 1169 -91 856 284 \nQ 544 659 544 1381 \nz\nM 1991 3584 \nL 1991 3584 \nz\n\" transform=\"scale(0.015625)\"/>\n      </defs>\n      <use xlink:href=\"#DejaVuSans-41\"/>\n      <use xlink:href=\"#DejaVuSans-63\" x=\"66.658203\"/>\n      <use xlink:href=\"#DejaVuSans-74\" x=\"121.638672\"/>\n      <use xlink:href=\"#DejaVuSans-75\" x=\"160.847656\"/>\n      <use xlink:href=\"#DejaVuSans-61\" x=\"224.226562\"/>\n      <use xlink:href=\"#DejaVuSans-6c\" x=\"285.505859\"/>\n      <use xlink:href=\"#DejaVuSans-20\" x=\"313.289062\"/>\n      <use xlink:href=\"#DejaVuSans-53\" x=\"345.076172\"/>\n      <use xlink:href=\"#DejaVuSans-61\" x=\"408.552734\"/>\n      <use xlink:href=\"#DejaVuSans-6c\" x=\"469.832031\"/>\n      <use xlink:href=\"#DejaVuSans-65\" x=\"497.615234\"/>\n      <use xlink:href=\"#DejaVuSans-73\" x=\"559.138672\"/>\n     </g>\n    </g>\n    <g id=\"line2d_17\">\n     <path d=\"M 128.206484 228.040469 \nL 139.206484 228.040469 \nL 150.206484 228.040469 \n\" style=\"fill: none; stroke: #008000; stroke-width: 1.5; stroke-linecap: round\"/>\n    </g>\n    <g id=\"text_18\">\n     <!-- Predicted Sales -->\n     <g style=\"fill: #262626\" transform=\"translate(159.006484 231.890469) scale(0.11 -0.11)\">\n      <use xlink:href=\"#DejaVuSans-50\"/>\n      <use xlink:href=\"#DejaVuSans-72\" x=\"58.552734\"/>\n      <use xlink:href=\"#DejaVuSans-65\" x=\"97.416016\"/>\n      <use xlink:href=\"#DejaVuSans-64\" x=\"158.939453\"/>\n      <use xlink:href=\"#DejaVuSans-69\" x=\"222.416016\"/>\n      <use xlink:href=\"#DejaVuSans-63\" x=\"250.199219\"/>\n      <use xlink:href=\"#DejaVuSans-74\" x=\"305.179688\"/>\n      <use xlink:href=\"#DejaVuSans-65\" x=\"344.388672\"/>\n      <use xlink:href=\"#DejaVuSans-64\" x=\"405.912109\"/>\n      <use xlink:href=\"#DejaVuSans-20\" x=\"469.388672\"/>\n      <use xlink:href=\"#DejaVuSans-53\" x=\"501.175781\"/>\n      <use xlink:href=\"#DejaVuSans-61\" x=\"564.652344\"/>\n      <use xlink:href=\"#DejaVuSans-6c\" x=\"625.931641\"/>\n      <use xlink:href=\"#DejaVuSans-65\" x=\"653.714844\"/>\n      <use xlink:href=\"#DejaVuSans-73\" x=\"715.238281\"/>\n     </g>\n    </g>\n   </g>\n  </g>\n </g>\n <defs>\n  <clipPath id=\"p6b9234804e\">\n   <rect x=\"46.31125\" y=\"22.318125\" width=\"279\" height=\"221.76\"/>\n  </clipPath>\n </defs>\n</svg>\n"
          },
          "metadata": {}
        }
      ]
    }
  ],
  "metadata": {
    "colab": {
      "provenance": []
    },
    "kernelspec": {
      "display_name": "Python 3",
      "name": "python3"
    },
    "language_info": {
      "name": "python"
    }
  },
  "nbformat": 4,
  "nbformat_minor": 0
}